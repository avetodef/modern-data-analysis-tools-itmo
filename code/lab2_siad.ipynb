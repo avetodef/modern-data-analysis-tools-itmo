{
  "nbformat": 4,
  "nbformat_minor": 0,
  "metadata": {
    "colab": {
      "provenance": [],
      "toc_visible": true,
      "mount_file_id": "1P302VfRKbtEgK9Y8D5VvzlxVfkewL892",
      "authorship_tag": "ABX9TyOruiRK4gf2J9MciLsSz3rt",
      "include_colab_link": true
    },
    "kernelspec": {
      "name": "python3",
      "display_name": "Python 3"
    },
    "language_info": {
      "name": "python"
    }
  },
  "cells": [
    {
      "cell_type": "markdown",
      "metadata": {
        "id": "view-in-github",
        "colab_type": "text"
      },
      "source": [
        "<a href=\"https://colab.research.google.com/github/avetodef/modern-data-analysis-tools-itmo/blob/main/lab2_siad.ipynb\" target=\"_parent\"><img src=\"https://colab.research.google.com/assets/colab-badge.svg\" alt=\"Open In Colab\"/></a>"
      ]
    },
    {
      "cell_type": "markdown",
      "source": [
        "#**Лабораторная работа №2 - классификация текстов**"
      ],
      "metadata": {
        "id": "7ut0oTLI6oOR"
      }
    },
    {
      "cell_type": "markdown",
      "source": [
        "*Федотьева Софья Ивановна R32423 293890*\n",
        "\n",
        "---\n",
        "\n"
      ],
      "metadata": {
        "id": "EgbkPUq8qTSQ"
      }
    },
    {
      "cell_type": "markdown",
      "source": [
        "#**Задание 1**"
      ],
      "metadata": {
        "id": "uTixlmd_EImW"
      }
    },
    {
      "cell_type": "markdown",
      "source": [
        "Получаем два жанра, которые будем использовать в работе"
      ],
      "metadata": {
        "id": "WQC08gpQ60x0"
      }
    },
    {
      "cell_type": "code",
      "source": [
        "import random\n",
        "lst = ['Christian', 'Country', 'Pop', 'Rock', 'R&B'] \n",
        "print('ваши жанры', random.choice(lst), 'и', random.choice(lst)) "
      ],
      "metadata": {
        "colab": {
          "base_uri": "https://localhost:8080/"
        },
        "id": "rxjiomES7EnP",
        "outputId": "c926b713-76c9-427f-ef3a-1cc778c0b22c"
      },
      "execution_count": null,
      "outputs": [
        {
          "output_type": "stream",
          "name": "stdout",
          "text": [
            "ваши жанры Christian и Christian\n"
          ]
        }
      ]
    },
    {
      "cell_type": "markdown",
      "source": [
        "Жанры - Christian и Rock"
      ],
      "metadata": {
        "id": "9fOT2gQF7Ujq"
      }
    },
    {
      "cell_type": "markdown",
      "source": [
        "Для начала читаем набор данных:"
      ],
      "metadata": {
        "id": "aZ7Yxybf7hwl"
      }
    },
    {
      "cell_type": "code",
      "source": [
        "import pandas as pd\n",
        "data = pd.read_csv(\"/content/drive/MyDrive/modern-instruments-for-data-analysing-itmo/dataset.csv\")\n",
        "\n",
        "data.head()"
      ],
      "metadata": {
        "colab": {
          "base_uri": "https://localhost:8080/",
          "height": 206
        },
        "id": "T8ZSbTdj7keu",
        "outputId": "9dfe11cc-3323-459f-b893-19890ce6c064"
      },
      "execution_count": null,
      "outputs": [
        {
          "output_type": "execute_result",
          "data": {
            "text/plain": [
              "       genre                                             lyrics  \\\n",
              "0  Christian   Who am I, that the Lord of all the earth Woul...   \n",
              "1  Christian   Glory Revealed  By His Wounds He was pierced ...   \n",
              "2  Christian   Lord of heaven and earth Lord of all creation...   \n",
              "3  Christian   I can only imagine what it will be like When ...   \n",
              "4  Christian   I am not skilled to understand What God has w...   \n",
              "\n",
              "                                 SongInfo  \n",
              "0        CASTING CROWNS - WHO AM I LYRICS  \n",
              "1   GLORY REVEALED - BY HIS WOUNDS LYRICS  \n",
              "2  CAEDMON'S CALL - GOD OF WONDERS LYRICS  \n",
              "3     MERCYME - I CAN ONLY IMAGINE LYRICS  \n",
              "4   AARON SHUST - MY SAVIOR MY GOD LYRICS  "
            ],
            "text/html": [
              "\n",
              "  <div id=\"df-21483e6f-3573-43ee-87b6-ea2949f01e9f\">\n",
              "    <div class=\"colab-df-container\">\n",
              "      <div>\n",
              "<style scoped>\n",
              "    .dataframe tbody tr th:only-of-type {\n",
              "        vertical-align: middle;\n",
              "    }\n",
              "\n",
              "    .dataframe tbody tr th {\n",
              "        vertical-align: top;\n",
              "    }\n",
              "\n",
              "    .dataframe thead th {\n",
              "        text-align: right;\n",
              "    }\n",
              "</style>\n",
              "<table border=\"1\" class=\"dataframe\">\n",
              "  <thead>\n",
              "    <tr style=\"text-align: right;\">\n",
              "      <th></th>\n",
              "      <th>genre</th>\n",
              "      <th>lyrics</th>\n",
              "      <th>SongInfo</th>\n",
              "    </tr>\n",
              "  </thead>\n",
              "  <tbody>\n",
              "    <tr>\n",
              "      <th>0</th>\n",
              "      <td>Christian</td>\n",
              "      <td>Who am I, that the Lord of all the earth Woul...</td>\n",
              "      <td>CASTING CROWNS - WHO AM I LYRICS</td>\n",
              "    </tr>\n",
              "    <tr>\n",
              "      <th>1</th>\n",
              "      <td>Christian</td>\n",
              "      <td>Glory Revealed  By His Wounds He was pierced ...</td>\n",
              "      <td>GLORY REVEALED - BY HIS WOUNDS LYRICS</td>\n",
              "    </tr>\n",
              "    <tr>\n",
              "      <th>2</th>\n",
              "      <td>Christian</td>\n",
              "      <td>Lord of heaven and earth Lord of all creation...</td>\n",
              "      <td>CAEDMON'S CALL - GOD OF WONDERS LYRICS</td>\n",
              "    </tr>\n",
              "    <tr>\n",
              "      <th>3</th>\n",
              "      <td>Christian</td>\n",
              "      <td>I can only imagine what it will be like When ...</td>\n",
              "      <td>MERCYME - I CAN ONLY IMAGINE LYRICS</td>\n",
              "    </tr>\n",
              "    <tr>\n",
              "      <th>4</th>\n",
              "      <td>Christian</td>\n",
              "      <td>I am not skilled to understand What God has w...</td>\n",
              "      <td>AARON SHUST - MY SAVIOR MY GOD LYRICS</td>\n",
              "    </tr>\n",
              "  </tbody>\n",
              "</table>\n",
              "</div>\n",
              "      <button class=\"colab-df-convert\" onclick=\"convertToInteractive('df-21483e6f-3573-43ee-87b6-ea2949f01e9f')\"\n",
              "              title=\"Convert this dataframe to an interactive table.\"\n",
              "              style=\"display:none;\">\n",
              "        \n",
              "  <svg xmlns=\"http://www.w3.org/2000/svg\" height=\"24px\"viewBox=\"0 0 24 24\"\n",
              "       width=\"24px\">\n",
              "    <path d=\"M0 0h24v24H0V0z\" fill=\"none\"/>\n",
              "    <path d=\"M18.56 5.44l.94 2.06.94-2.06 2.06-.94-2.06-.94-.94-2.06-.94 2.06-2.06.94zm-11 1L8.5 8.5l.94-2.06 2.06-.94-2.06-.94L8.5 2.5l-.94 2.06-2.06.94zm10 10l.94 2.06.94-2.06 2.06-.94-2.06-.94-.94-2.06-.94 2.06-2.06.94z\"/><path d=\"M17.41 7.96l-1.37-1.37c-.4-.4-.92-.59-1.43-.59-.52 0-1.04.2-1.43.59L10.3 9.45l-7.72 7.72c-.78.78-.78 2.05 0 2.83L4 21.41c.39.39.9.59 1.41.59.51 0 1.02-.2 1.41-.59l7.78-7.78 2.81-2.81c.8-.78.8-2.07 0-2.86zM5.41 20L4 18.59l7.72-7.72 1.47 1.35L5.41 20z\"/>\n",
              "  </svg>\n",
              "      </button>\n",
              "      \n",
              "  <style>\n",
              "    .colab-df-container {\n",
              "      display:flex;\n",
              "      flex-wrap:wrap;\n",
              "      gap: 12px;\n",
              "    }\n",
              "\n",
              "    .colab-df-convert {\n",
              "      background-color: #E8F0FE;\n",
              "      border: none;\n",
              "      border-radius: 50%;\n",
              "      cursor: pointer;\n",
              "      display: none;\n",
              "      fill: #1967D2;\n",
              "      height: 32px;\n",
              "      padding: 0 0 0 0;\n",
              "      width: 32px;\n",
              "    }\n",
              "\n",
              "    .colab-df-convert:hover {\n",
              "      background-color: #E2EBFA;\n",
              "      box-shadow: 0px 1px 2px rgba(60, 64, 67, 0.3), 0px 1px 3px 1px rgba(60, 64, 67, 0.15);\n",
              "      fill: #174EA6;\n",
              "    }\n",
              "\n",
              "    [theme=dark] .colab-df-convert {\n",
              "      background-color: #3B4455;\n",
              "      fill: #D2E3FC;\n",
              "    }\n",
              "\n",
              "    [theme=dark] .colab-df-convert:hover {\n",
              "      background-color: #434B5C;\n",
              "      box-shadow: 0px 1px 3px 1px rgba(0, 0, 0, 0.15);\n",
              "      filter: drop-shadow(0px 1px 2px rgba(0, 0, 0, 0.3));\n",
              "      fill: #FFFFFF;\n",
              "    }\n",
              "  </style>\n",
              "\n",
              "      <script>\n",
              "        const buttonEl =\n",
              "          document.querySelector('#df-21483e6f-3573-43ee-87b6-ea2949f01e9f button.colab-df-convert');\n",
              "        buttonEl.style.display =\n",
              "          google.colab.kernel.accessAllowed ? 'block' : 'none';\n",
              "\n",
              "        async function convertToInteractive(key) {\n",
              "          const element = document.querySelector('#df-21483e6f-3573-43ee-87b6-ea2949f01e9f');\n",
              "          const dataTable =\n",
              "            await google.colab.kernel.invokeFunction('convertToInteractive',\n",
              "                                                     [key], {});\n",
              "          if (!dataTable) return;\n",
              "\n",
              "          const docLinkHtml = 'Like what you see? Visit the ' +\n",
              "            '<a target=\"_blank\" href=https://colab.research.google.com/notebooks/data_table.ipynb>data table notebook</a>'\n",
              "            + ' to learn more about interactive tables.';\n",
              "          element.innerHTML = '';\n",
              "          dataTable['output_type'] = 'display_data';\n",
              "          await google.colab.output.renderOutput(dataTable, element);\n",
              "          const docLink = document.createElement('div');\n",
              "          docLink.innerHTML = docLinkHtml;\n",
              "          element.appendChild(docLink);\n",
              "        }\n",
              "      </script>\n",
              "    </div>\n",
              "  </div>\n",
              "  "
            ]
          },
          "metadata": {},
          "execution_count": 71
        }
      ]
    },
    {
      "cell_type": "code",
      "source": [
        "columns = data[['genre', 'lyrics']]\n",
        "columns"
      ],
      "metadata": {
        "colab": {
          "base_uri": "https://localhost:8080/",
          "height": 424
        },
        "id": "GNQTUNqw9TAr",
        "outputId": "c4a6d707-b540-4a19-998d-66e8f9871579"
      },
      "execution_count": null,
      "outputs": [
        {
          "output_type": "execute_result",
          "data": {
            "text/plain": [
              "         genre                                             lyrics\n",
              "0    Christian   Who am I, that the Lord of all the earth Woul...\n",
              "1    Christian   Glory Revealed  By His Wounds He was pierced ...\n",
              "2    Christian   Lord of heaven and earth Lord of all creation...\n",
              "3    Christian   I can only imagine what it will be like When ...\n",
              "4    Christian   I am not skilled to understand What God has w...\n",
              "..         ...                                                ...\n",
              "553        R&B   Ha I dont care ha, about your past I just wan...\n",
              "554        R&B   Hoverin by my suitcase  Tryin to find a warm ...\n",
              "555        R&B   I dont know why I love you like I do  After a...\n",
              "556        R&B   C. C. Rider Elvis Presley  Well now see., C. ...\n",
              "557        R&B   Cynthia get up and dance to the music!  Get o...\n",
              "\n",
              "[558 rows x 2 columns]"
            ],
            "text/html": [
              "\n",
              "  <div id=\"df-5dd6d396-5d5a-4ef5-9d2e-7d22c07b678a\">\n",
              "    <div class=\"colab-df-container\">\n",
              "      <div>\n",
              "<style scoped>\n",
              "    .dataframe tbody tr th:only-of-type {\n",
              "        vertical-align: middle;\n",
              "    }\n",
              "\n",
              "    .dataframe tbody tr th {\n",
              "        vertical-align: top;\n",
              "    }\n",
              "\n",
              "    .dataframe thead th {\n",
              "        text-align: right;\n",
              "    }\n",
              "</style>\n",
              "<table border=\"1\" class=\"dataframe\">\n",
              "  <thead>\n",
              "    <tr style=\"text-align: right;\">\n",
              "      <th></th>\n",
              "      <th>genre</th>\n",
              "      <th>lyrics</th>\n",
              "    </tr>\n",
              "  </thead>\n",
              "  <tbody>\n",
              "    <tr>\n",
              "      <th>0</th>\n",
              "      <td>Christian</td>\n",
              "      <td>Who am I, that the Lord of all the earth Woul...</td>\n",
              "    </tr>\n",
              "    <tr>\n",
              "      <th>1</th>\n",
              "      <td>Christian</td>\n",
              "      <td>Glory Revealed  By His Wounds He was pierced ...</td>\n",
              "    </tr>\n",
              "    <tr>\n",
              "      <th>2</th>\n",
              "      <td>Christian</td>\n",
              "      <td>Lord of heaven and earth Lord of all creation...</td>\n",
              "    </tr>\n",
              "    <tr>\n",
              "      <th>3</th>\n",
              "      <td>Christian</td>\n",
              "      <td>I can only imagine what it will be like When ...</td>\n",
              "    </tr>\n",
              "    <tr>\n",
              "      <th>4</th>\n",
              "      <td>Christian</td>\n",
              "      <td>I am not skilled to understand What God has w...</td>\n",
              "    </tr>\n",
              "    <tr>\n",
              "      <th>...</th>\n",
              "      <td>...</td>\n",
              "      <td>...</td>\n",
              "    </tr>\n",
              "    <tr>\n",
              "      <th>553</th>\n",
              "      <td>R&amp;B</td>\n",
              "      <td>Ha I dont care ha, about your past I just wan...</td>\n",
              "    </tr>\n",
              "    <tr>\n",
              "      <th>554</th>\n",
              "      <td>R&amp;B</td>\n",
              "      <td>Hoverin by my suitcase  Tryin to find a warm ...</td>\n",
              "    </tr>\n",
              "    <tr>\n",
              "      <th>555</th>\n",
              "      <td>R&amp;B</td>\n",
              "      <td>I dont know why I love you like I do  After a...</td>\n",
              "    </tr>\n",
              "    <tr>\n",
              "      <th>556</th>\n",
              "      <td>R&amp;B</td>\n",
              "      <td>C. C. Rider Elvis Presley  Well now see., C. ...</td>\n",
              "    </tr>\n",
              "    <tr>\n",
              "      <th>557</th>\n",
              "      <td>R&amp;B</td>\n",
              "      <td>Cynthia get up and dance to the music!  Get o...</td>\n",
              "    </tr>\n",
              "  </tbody>\n",
              "</table>\n",
              "<p>558 rows × 2 columns</p>\n",
              "</div>\n",
              "      <button class=\"colab-df-convert\" onclick=\"convertToInteractive('df-5dd6d396-5d5a-4ef5-9d2e-7d22c07b678a')\"\n",
              "              title=\"Convert this dataframe to an interactive table.\"\n",
              "              style=\"display:none;\">\n",
              "        \n",
              "  <svg xmlns=\"http://www.w3.org/2000/svg\" height=\"24px\"viewBox=\"0 0 24 24\"\n",
              "       width=\"24px\">\n",
              "    <path d=\"M0 0h24v24H0V0z\" fill=\"none\"/>\n",
              "    <path d=\"M18.56 5.44l.94 2.06.94-2.06 2.06-.94-2.06-.94-.94-2.06-.94 2.06-2.06.94zm-11 1L8.5 8.5l.94-2.06 2.06-.94-2.06-.94L8.5 2.5l-.94 2.06-2.06.94zm10 10l.94 2.06.94-2.06 2.06-.94-2.06-.94-.94-2.06-.94 2.06-2.06.94z\"/><path d=\"M17.41 7.96l-1.37-1.37c-.4-.4-.92-.59-1.43-.59-.52 0-1.04.2-1.43.59L10.3 9.45l-7.72 7.72c-.78.78-.78 2.05 0 2.83L4 21.41c.39.39.9.59 1.41.59.51 0 1.02-.2 1.41-.59l7.78-7.78 2.81-2.81c.8-.78.8-2.07 0-2.86zM5.41 20L4 18.59l7.72-7.72 1.47 1.35L5.41 20z\"/>\n",
              "  </svg>\n",
              "      </button>\n",
              "      \n",
              "  <style>\n",
              "    .colab-df-container {\n",
              "      display:flex;\n",
              "      flex-wrap:wrap;\n",
              "      gap: 12px;\n",
              "    }\n",
              "\n",
              "    .colab-df-convert {\n",
              "      background-color: #E8F0FE;\n",
              "      border: none;\n",
              "      border-radius: 50%;\n",
              "      cursor: pointer;\n",
              "      display: none;\n",
              "      fill: #1967D2;\n",
              "      height: 32px;\n",
              "      padding: 0 0 0 0;\n",
              "      width: 32px;\n",
              "    }\n",
              "\n",
              "    .colab-df-convert:hover {\n",
              "      background-color: #E2EBFA;\n",
              "      box-shadow: 0px 1px 2px rgba(60, 64, 67, 0.3), 0px 1px 3px 1px rgba(60, 64, 67, 0.15);\n",
              "      fill: #174EA6;\n",
              "    }\n",
              "\n",
              "    [theme=dark] .colab-df-convert {\n",
              "      background-color: #3B4455;\n",
              "      fill: #D2E3FC;\n",
              "    }\n",
              "\n",
              "    [theme=dark] .colab-df-convert:hover {\n",
              "      background-color: #434B5C;\n",
              "      box-shadow: 0px 1px 3px 1px rgba(0, 0, 0, 0.15);\n",
              "      filter: drop-shadow(0px 1px 2px rgba(0, 0, 0, 0.3));\n",
              "      fill: #FFFFFF;\n",
              "    }\n",
              "  </style>\n",
              "\n",
              "      <script>\n",
              "        const buttonEl =\n",
              "          document.querySelector('#df-5dd6d396-5d5a-4ef5-9d2e-7d22c07b678a button.colab-df-convert');\n",
              "        buttonEl.style.display =\n",
              "          google.colab.kernel.accessAllowed ? 'block' : 'none';\n",
              "\n",
              "        async function convertToInteractive(key) {\n",
              "          const element = document.querySelector('#df-5dd6d396-5d5a-4ef5-9d2e-7d22c07b678a');\n",
              "          const dataTable =\n",
              "            await google.colab.kernel.invokeFunction('convertToInteractive',\n",
              "                                                     [key], {});\n",
              "          if (!dataTable) return;\n",
              "\n",
              "          const docLinkHtml = 'Like what you see? Visit the ' +\n",
              "            '<a target=\"_blank\" href=https://colab.research.google.com/notebooks/data_table.ipynb>data table notebook</a>'\n",
              "            + ' to learn more about interactive tables.';\n",
              "          element.innerHTML = '';\n",
              "          dataTable['output_type'] = 'display_data';\n",
              "          await google.colab.output.renderOutput(dataTable, element);\n",
              "          const docLink = document.createElement('div');\n",
              "          docLink.innerHTML = docLinkHtml;\n",
              "          element.appendChild(docLink);\n",
              "        }\n",
              "      </script>\n",
              "    </div>\n",
              "  </div>\n",
              "  "
            ]
          },
          "metadata": {},
          "execution_count": 72
        }
      ]
    },
    {
      "cell_type": "markdown",
      "source": [
        "оставляем только нужные жанры"
      ],
      "metadata": {
        "id": "gqt_g3As9p7N"
      }
    },
    {
      "cell_type": "code",
      "source": [
        "columns = columns[(columns.genre == 'Christian') | (columns.genre == 'Rock')]"
      ],
      "metadata": {
        "id": "W45r_p-596OK"
      },
      "execution_count": null,
      "outputs": []
    },
    {
      "cell_type": "markdown",
      "source": [
        "приводим все слова в текстах оставленных жанров к нижнему регистру"
      ],
      "metadata": {
        "id": "Cqj9r8-5-WXt"
      }
    },
    {
      "cell_type": "code",
      "source": [
        "lowered = columns['lyrics'].str.lower()\n",
        "columns['lowered'] = lowered"
      ],
      "metadata": {
        "colab": {
          "base_uri": "https://localhost:8080/"
        },
        "id": "5Ds-HeFz-aV5",
        "outputId": "44afcd64-3a12-4e2e-a5ce-0db1d8614ff7"
      },
      "execution_count": null,
      "outputs": [
        {
          "output_type": "stream",
          "name": "stderr",
          "text": [
            "/usr/local/lib/python3.7/dist-packages/ipykernel_launcher.py:2: SettingWithCopyWarning: \n",
            "A value is trying to be set on a copy of a slice from a DataFrame.\n",
            "Try using .loc[row_indexer,col_indexer] = value instead\n",
            "\n",
            "See the caveats in the documentation: https://pandas.pydata.org/pandas-docs/stable/user_guide/indexing.html#returning-a-view-versus-a-copy\n",
            "  \n"
          ]
        }
      ]
    },
    {
      "cell_type": "markdown",
      "source": [
        "разбиваем тексты на отдельные слова - проводим токенизацию"
      ],
      "metadata": {
        "id": "7ijBqdIr-fMO"
      }
    },
    {
      "cell_type": "code",
      "source": [
        "import nltk\n",
        "from nltk.tokenize import word_tokenize\n",
        "nltk.download('punkt')"
      ],
      "metadata": {
        "colab": {
          "base_uri": "https://localhost:8080/"
        },
        "id": "VIwJjyIo-jns",
        "outputId": "695f53f5-fc7a-4b67-f078-dfd468548210"
      },
      "execution_count": null,
      "outputs": [
        {
          "output_type": "stream",
          "name": "stderr",
          "text": [
            "[nltk_data] Downloading package punkt to /root/nltk_data...\n",
            "[nltk_data]   Package punkt is already up-to-date!\n"
          ]
        },
        {
          "output_type": "execute_result",
          "data": {
            "text/plain": [
              "True"
            ]
          },
          "metadata": {},
          "execution_count": 75
        }
      ]
    },
    {
      "cell_type": "code",
      "source": [
        "tokened = columns.apply(lambda row: nltk.word_tokenize(row['lowered']), axis=1)\n",
        "columns['tokened'] = tokened"
      ],
      "metadata": {
        "colab": {
          "base_uri": "https://localhost:8080/"
        },
        "id": "21jIzVuE-lxn",
        "outputId": "a71c1506-1086-459d-facb-36cf15018072"
      },
      "execution_count": null,
      "outputs": [
        {
          "output_type": "stream",
          "name": "stderr",
          "text": [
            "/usr/local/lib/python3.7/dist-packages/ipykernel_launcher.py:2: SettingWithCopyWarning: \n",
            "A value is trying to be set on a copy of a slice from a DataFrame.\n",
            "Try using .loc[row_indexer,col_indexer] = value instead\n",
            "\n",
            "See the caveats in the documentation: https://pandas.pydata.org/pandas-docs/stable/user_guide/indexing.html#returning-a-view-versus-a-copy\n",
            "  \n"
          ]
        }
      ]
    },
    {
      "cell_type": "markdown",
      "source": [
        "удаляем стоп-слова"
      ],
      "metadata": {
        "id": "ya_fyj4N-qxi"
      }
    },
    {
      "cell_type": "code",
      "source": [
        "nltk.download('stopwords')\n",
        "from nltk.corpus import stopwords\n",
        "noise = stopwords.words('english')\n",
        "\n",
        "withoutstop = columns['tokened'].apply(lambda x: [item for item in x if item not in noise])\n",
        "\n",
        "without_stop = []\n",
        "for a in withoutstop:    \n",
        "    without_stop.append(\", \".join(a))\n",
        "\n",
        "columns['without_stop'] = without_stop"
      ],
      "metadata": {
        "colab": {
          "base_uri": "https://localhost:8080/"
        },
        "id": "NsDNbqge-tGu",
        "outputId": "e36341a8-a58f-41a1-f4a6-179899a1256f"
      },
      "execution_count": null,
      "outputs": [
        {
          "output_type": "stream",
          "name": "stderr",
          "text": [
            "[nltk_data] Downloading package stopwords to /root/nltk_data...\n",
            "[nltk_data]   Package stopwords is already up-to-date!\n",
            "/usr/local/lib/python3.7/dist-packages/ipykernel_launcher.py:11: SettingWithCopyWarning: \n",
            "A value is trying to be set on a copy of a slice from a DataFrame.\n",
            "Try using .loc[row_indexer,col_indexer] = value instead\n",
            "\n",
            "See the caveats in the documentation: https://pandas.pydata.org/pandas-docs/stable/user_guide/indexing.html#returning-a-view-versus-a-copy\n",
            "  # This is added back by InteractiveShellApp.init_path()\n"
          ]
        }
      ]
    },
    {
      "cell_type": "markdown",
      "source": [
        "приводим все слова к исходной форме (лемматизация)"
      ],
      "metadata": {
        "id": "SF2Vmiy7_hzw"
      }
    },
    {
      "cell_type": "code",
      "source": [
        "from nltk.stem import WordNetLemmatizer \n",
        "nltk.download('wordnet')\n",
        "lemmatizer = WordNetLemmatizer()\n",
        "\n",
        "lemmatized = columns['without_stop'].apply(lambda x: [lemmatizer.lemmatize(x)])\n",
        "\n",
        "lemma = []\n",
        "for a in lemmatized:    \n",
        "    lemma.append(\", \".join(a))\n",
        "\n",
        "columns['lemmatized'] = lemma"
      ],
      "metadata": {
        "colab": {
          "base_uri": "https://localhost:8080/"
        },
        "id": "GaeAl8CF_mW9",
        "outputId": "9acc5ba1-b6e3-4f02-bce7-cacc714149d4"
      },
      "execution_count": null,
      "outputs": [
        {
          "output_type": "stream",
          "name": "stderr",
          "text": [
            "[nltk_data] Downloading package wordnet to /root/nltk_data...\n",
            "[nltk_data]   Package wordnet is already up-to-date!\n",
            "/usr/local/lib/python3.7/dist-packages/ipykernel_launcher.py:11: SettingWithCopyWarning: \n",
            "A value is trying to be set on a copy of a slice from a DataFrame.\n",
            "Try using .loc[row_indexer,col_indexer] = value instead\n",
            "\n",
            "See the caveats in the documentation: https://pandas.pydata.org/pandas-docs/stable/user_guide/indexing.html#returning-a-view-versus-a-copy\n",
            "  # This is added back by InteractiveShellApp.init_path()\n"
          ]
        }
      ]
    },
    {
      "cell_type": "markdown",
      "source": [
        "посмотрим на полученные даные:"
      ],
      "metadata": {
        "id": "t7BWj0x9Ayc3"
      }
    },
    {
      "cell_type": "code",
      "source": [
        "columns"
      ],
      "metadata": {
        "colab": {
          "base_uri": "https://localhost:8080/",
          "height": 641
        },
        "id": "xzVAizZhAxYd",
        "outputId": "8639637c-c491-4ad0-b553-d6f1146db9a8"
      },
      "execution_count": null,
      "outputs": [
        {
          "output_type": "execute_result",
          "data": {
            "text/plain": [
              "         genre                                             lyrics  \\\n",
              "0    Christian   Who am I, that the Lord of all the earth Woul...   \n",
              "1    Christian   Glory Revealed  By His Wounds He was pierced ...   \n",
              "2    Christian   Lord of heaven and earth Lord of all creation...   \n",
              "3    Christian   I can only imagine what it will be like When ...   \n",
              "4    Christian   I am not skilled to understand What God has w...   \n",
              "..         ...                                                ...   \n",
              "462       Rock   Cant explain all the feelings that youre maki...   \n",
              "463       Rock   One foot on the brake and one on the gas, hey...   \n",
              "464       Rock   Carry on my wayward son Therell be peace when...   \n",
              "465       Rock   Ooh yeah Turn it up Come on  Im working hard,...   \n",
              "466       Rock   Out on the road for forty days Last night in ...   \n",
              "\n",
              "                                               lowered  \\\n",
              "0     who am i, that the lord of all the earth woul...   \n",
              "1     glory revealed  by his wounds he was pierced ...   \n",
              "2     lord of heaven and earth lord of all creation...   \n",
              "3     i can only imagine what it will be like when ...   \n",
              "4     i am not skilled to understand what god has w...   \n",
              "..                                                 ...   \n",
              "462   cant explain all the feelings that youre maki...   \n",
              "463   one foot on the brake and one on the gas, hey...   \n",
              "464   carry on my wayward son therell be peace when...   \n",
              "465   ooh yeah turn it up come on  im working hard,...   \n",
              "466   out on the road for forty days last night in ...   \n",
              "\n",
              "                                               tokened  \\\n",
              "0    [who, am, i, ,, that, the, lord, of, all, the,...   \n",
              "1    [glory, revealed, by, his, wounds, he, was, pi...   \n",
              "2    [lord, of, heaven, and, earth, lord, of, all, ...   \n",
              "3    [i, can, only, imagine, what, it, will, be, li...   \n",
              "4    [i, am, not, skilled, to, understand, what, go...   \n",
              "..                                                 ...   \n",
              "462  [cant, explain, all, the, feelings, that, your...   \n",
              "463  [one, foot, on, the, brake, and, one, on, the,...   \n",
              "464  [carry, on, my, wayward, son, therell, be, pea...   \n",
              "465  [ooh, yeah, turn, it, up, come, on, im, workin...   \n",
              "466  [out, on, the, road, for, forty, days, last, n...   \n",
              "\n",
              "                                          without_stop  \\\n",
              "0    ,, lord, earth, would, care, know, name, would...   \n",
              "1    glory, revealed, wounds, pierced, transgressio...   \n",
              "2    lord, heaven, earth, lord, creation, lord, hea...   \n",
              "3    imagine, like, walk, side, imagine, eyes, see,...   \n",
              "4    skilled, understand, god, willed, ,, god, plan...   \n",
              "..                                                 ...   \n",
              "462  cant, explain, feelings, youre, making, feel, ...   \n",
              "463  one, foot, brake, one, gas, ,, hey, well, ,, t...   \n",
              "464  carry, wayward, son, therell, peace, done, lay...   \n",
              "465  ooh, yeah, turn, come, im, working, hard, ,, y...   \n",
              "466  road, forty, days, last, night, little, rock, ...   \n",
              "\n",
              "                                            lemmatized  \n",
              "0    ,, lord, earth, would, care, know, name, would...  \n",
              "1    glory, revealed, wounds, pierced, transgressio...  \n",
              "2    lord, heaven, earth, lord, creation, lord, hea...  \n",
              "3    imagine, like, walk, side, imagine, eyes, see,...  \n",
              "4    skilled, understand, god, willed, ,, god, plan...  \n",
              "..                                                 ...  \n",
              "462  cant, explain, feelings, youre, making, feel, ...  \n",
              "463  one, foot, brake, one, gas, ,, hey, well, ,, t...  \n",
              "464  carry, wayward, son, therell, peace, done, lay...  \n",
              "465  ooh, yeah, turn, come, im, working, hard, ,, y...  \n",
              "466  road, forty, days, last, night, little, rock, ...  \n",
              "\n",
              "[189 rows x 6 columns]"
            ],
            "text/html": [
              "\n",
              "  <div id=\"df-7f06baec-b179-4450-9362-e9c586e71d97\">\n",
              "    <div class=\"colab-df-container\">\n",
              "      <div>\n",
              "<style scoped>\n",
              "    .dataframe tbody tr th:only-of-type {\n",
              "        vertical-align: middle;\n",
              "    }\n",
              "\n",
              "    .dataframe tbody tr th {\n",
              "        vertical-align: top;\n",
              "    }\n",
              "\n",
              "    .dataframe thead th {\n",
              "        text-align: right;\n",
              "    }\n",
              "</style>\n",
              "<table border=\"1\" class=\"dataframe\">\n",
              "  <thead>\n",
              "    <tr style=\"text-align: right;\">\n",
              "      <th></th>\n",
              "      <th>genre</th>\n",
              "      <th>lyrics</th>\n",
              "      <th>lowered</th>\n",
              "      <th>tokened</th>\n",
              "      <th>without_stop</th>\n",
              "      <th>lemmatized</th>\n",
              "    </tr>\n",
              "  </thead>\n",
              "  <tbody>\n",
              "    <tr>\n",
              "      <th>0</th>\n",
              "      <td>Christian</td>\n",
              "      <td>Who am I, that the Lord of all the earth Woul...</td>\n",
              "      <td>who am i, that the lord of all the earth woul...</td>\n",
              "      <td>[who, am, i, ,, that, the, lord, of, all, the,...</td>\n",
              "      <td>,, lord, earth, would, care, know, name, would...</td>\n",
              "      <td>,, lord, earth, would, care, know, name, would...</td>\n",
              "    </tr>\n",
              "    <tr>\n",
              "      <th>1</th>\n",
              "      <td>Christian</td>\n",
              "      <td>Glory Revealed  By His Wounds He was pierced ...</td>\n",
              "      <td>glory revealed  by his wounds he was pierced ...</td>\n",
              "      <td>[glory, revealed, by, his, wounds, he, was, pi...</td>\n",
              "      <td>glory, revealed, wounds, pierced, transgressio...</td>\n",
              "      <td>glory, revealed, wounds, pierced, transgressio...</td>\n",
              "    </tr>\n",
              "    <tr>\n",
              "      <th>2</th>\n",
              "      <td>Christian</td>\n",
              "      <td>Lord of heaven and earth Lord of all creation...</td>\n",
              "      <td>lord of heaven and earth lord of all creation...</td>\n",
              "      <td>[lord, of, heaven, and, earth, lord, of, all, ...</td>\n",
              "      <td>lord, heaven, earth, lord, creation, lord, hea...</td>\n",
              "      <td>lord, heaven, earth, lord, creation, lord, hea...</td>\n",
              "    </tr>\n",
              "    <tr>\n",
              "      <th>3</th>\n",
              "      <td>Christian</td>\n",
              "      <td>I can only imagine what it will be like When ...</td>\n",
              "      <td>i can only imagine what it will be like when ...</td>\n",
              "      <td>[i, can, only, imagine, what, it, will, be, li...</td>\n",
              "      <td>imagine, like, walk, side, imagine, eyes, see,...</td>\n",
              "      <td>imagine, like, walk, side, imagine, eyes, see,...</td>\n",
              "    </tr>\n",
              "    <tr>\n",
              "      <th>4</th>\n",
              "      <td>Christian</td>\n",
              "      <td>I am not skilled to understand What God has w...</td>\n",
              "      <td>i am not skilled to understand what god has w...</td>\n",
              "      <td>[i, am, not, skilled, to, understand, what, go...</td>\n",
              "      <td>skilled, understand, god, willed, ,, god, plan...</td>\n",
              "      <td>skilled, understand, god, willed, ,, god, plan...</td>\n",
              "    </tr>\n",
              "    <tr>\n",
              "      <th>...</th>\n",
              "      <td>...</td>\n",
              "      <td>...</td>\n",
              "      <td>...</td>\n",
              "      <td>...</td>\n",
              "      <td>...</td>\n",
              "      <td>...</td>\n",
              "    </tr>\n",
              "    <tr>\n",
              "      <th>462</th>\n",
              "      <td>Rock</td>\n",
              "      <td>Cant explain all the feelings that youre maki...</td>\n",
              "      <td>cant explain all the feelings that youre maki...</td>\n",
              "      <td>[cant, explain, all, the, feelings, that, your...</td>\n",
              "      <td>cant, explain, feelings, youre, making, feel, ...</td>\n",
              "      <td>cant, explain, feelings, youre, making, feel, ...</td>\n",
              "    </tr>\n",
              "    <tr>\n",
              "      <th>463</th>\n",
              "      <td>Rock</td>\n",
              "      <td>One foot on the brake and one on the gas, hey...</td>\n",
              "      <td>one foot on the brake and one on the gas, hey...</td>\n",
              "      <td>[one, foot, on, the, brake, and, one, on, the,...</td>\n",
              "      <td>one, foot, brake, one, gas, ,, hey, well, ,, t...</td>\n",
              "      <td>one, foot, brake, one, gas, ,, hey, well, ,, t...</td>\n",
              "    </tr>\n",
              "    <tr>\n",
              "      <th>464</th>\n",
              "      <td>Rock</td>\n",
              "      <td>Carry on my wayward son Therell be peace when...</td>\n",
              "      <td>carry on my wayward son therell be peace when...</td>\n",
              "      <td>[carry, on, my, wayward, son, therell, be, pea...</td>\n",
              "      <td>carry, wayward, son, therell, peace, done, lay...</td>\n",
              "      <td>carry, wayward, son, therell, peace, done, lay...</td>\n",
              "    </tr>\n",
              "    <tr>\n",
              "      <th>465</th>\n",
              "      <td>Rock</td>\n",
              "      <td>Ooh yeah Turn it up Come on  Im working hard,...</td>\n",
              "      <td>ooh yeah turn it up come on  im working hard,...</td>\n",
              "      <td>[ooh, yeah, turn, it, up, come, on, im, workin...</td>\n",
              "      <td>ooh, yeah, turn, come, im, working, hard, ,, y...</td>\n",
              "      <td>ooh, yeah, turn, come, im, working, hard, ,, y...</td>\n",
              "    </tr>\n",
              "    <tr>\n",
              "      <th>466</th>\n",
              "      <td>Rock</td>\n",
              "      <td>Out on the road for forty days Last night in ...</td>\n",
              "      <td>out on the road for forty days last night in ...</td>\n",
              "      <td>[out, on, the, road, for, forty, days, last, n...</td>\n",
              "      <td>road, forty, days, last, night, little, rock, ...</td>\n",
              "      <td>road, forty, days, last, night, little, rock, ...</td>\n",
              "    </tr>\n",
              "  </tbody>\n",
              "</table>\n",
              "<p>189 rows × 6 columns</p>\n",
              "</div>\n",
              "      <button class=\"colab-df-convert\" onclick=\"convertToInteractive('df-7f06baec-b179-4450-9362-e9c586e71d97')\"\n",
              "              title=\"Convert this dataframe to an interactive table.\"\n",
              "              style=\"display:none;\">\n",
              "        \n",
              "  <svg xmlns=\"http://www.w3.org/2000/svg\" height=\"24px\"viewBox=\"0 0 24 24\"\n",
              "       width=\"24px\">\n",
              "    <path d=\"M0 0h24v24H0V0z\" fill=\"none\"/>\n",
              "    <path d=\"M18.56 5.44l.94 2.06.94-2.06 2.06-.94-2.06-.94-.94-2.06-.94 2.06-2.06.94zm-11 1L8.5 8.5l.94-2.06 2.06-.94-2.06-.94L8.5 2.5l-.94 2.06-2.06.94zm10 10l.94 2.06.94-2.06 2.06-.94-2.06-.94-.94-2.06-.94 2.06-2.06.94z\"/><path d=\"M17.41 7.96l-1.37-1.37c-.4-.4-.92-.59-1.43-.59-.52 0-1.04.2-1.43.59L10.3 9.45l-7.72 7.72c-.78.78-.78 2.05 0 2.83L4 21.41c.39.39.9.59 1.41.59.51 0 1.02-.2 1.41-.59l7.78-7.78 2.81-2.81c.8-.78.8-2.07 0-2.86zM5.41 20L4 18.59l7.72-7.72 1.47 1.35L5.41 20z\"/>\n",
              "  </svg>\n",
              "      </button>\n",
              "      \n",
              "  <style>\n",
              "    .colab-df-container {\n",
              "      display:flex;\n",
              "      flex-wrap:wrap;\n",
              "      gap: 12px;\n",
              "    }\n",
              "\n",
              "    .colab-df-convert {\n",
              "      background-color: #E8F0FE;\n",
              "      border: none;\n",
              "      border-radius: 50%;\n",
              "      cursor: pointer;\n",
              "      display: none;\n",
              "      fill: #1967D2;\n",
              "      height: 32px;\n",
              "      padding: 0 0 0 0;\n",
              "      width: 32px;\n",
              "    }\n",
              "\n",
              "    .colab-df-convert:hover {\n",
              "      background-color: #E2EBFA;\n",
              "      box-shadow: 0px 1px 2px rgba(60, 64, 67, 0.3), 0px 1px 3px 1px rgba(60, 64, 67, 0.15);\n",
              "      fill: #174EA6;\n",
              "    }\n",
              "\n",
              "    [theme=dark] .colab-df-convert {\n",
              "      background-color: #3B4455;\n",
              "      fill: #D2E3FC;\n",
              "    }\n",
              "\n",
              "    [theme=dark] .colab-df-convert:hover {\n",
              "      background-color: #434B5C;\n",
              "      box-shadow: 0px 1px 3px 1px rgba(0, 0, 0, 0.15);\n",
              "      filter: drop-shadow(0px 1px 2px rgba(0, 0, 0, 0.3));\n",
              "      fill: #FFFFFF;\n",
              "    }\n",
              "  </style>\n",
              "\n",
              "      <script>\n",
              "        const buttonEl =\n",
              "          document.querySelector('#df-7f06baec-b179-4450-9362-e9c586e71d97 button.colab-df-convert');\n",
              "        buttonEl.style.display =\n",
              "          google.colab.kernel.accessAllowed ? 'block' : 'none';\n",
              "\n",
              "        async function convertToInteractive(key) {\n",
              "          const element = document.querySelector('#df-7f06baec-b179-4450-9362-e9c586e71d97');\n",
              "          const dataTable =\n",
              "            await google.colab.kernel.invokeFunction('convertToInteractive',\n",
              "                                                     [key], {});\n",
              "          if (!dataTable) return;\n",
              "\n",
              "          const docLinkHtml = 'Like what you see? Visit the ' +\n",
              "            '<a target=\"_blank\" href=https://colab.research.google.com/notebooks/data_table.ipynb>data table notebook</a>'\n",
              "            + ' to learn more about interactive tables.';\n",
              "          element.innerHTML = '';\n",
              "          dataTable['output_type'] = 'display_data';\n",
              "          await google.colab.output.renderOutput(dataTable, element);\n",
              "          const docLink = document.createElement('div');\n",
              "          docLink.innerHTML = docLinkHtml;\n",
              "          element.appendChild(docLink);\n",
              "        }\n",
              "      </script>\n",
              "    </div>\n",
              "  </div>\n",
              "  "
            ]
          },
          "metadata": {},
          "execution_count": 79
        }
      ]
    },
    {
      "cell_type": "markdown",
      "source": [
        "разделяем данные на обучающую и тестовую выборки:"
      ],
      "metadata": {
        "id": "A9ed0OVAA8_o"
      }
    },
    {
      "cell_type": "code",
      "source": [
        "from sklearn.model_selection import train_test_split \n",
        "x_train, x_test, y_train, y_test = train_test_split(columns.lemmatized, columns.genre, train_size = 0.7)"
      ],
      "metadata": {
        "id": "5oo_WzdxBDgL"
      },
      "execution_count": null,
      "outputs": []
    },
    {
      "cell_type": "code",
      "source": [
        "columns.genre.value_counts()"
      ],
      "metadata": {
        "colab": {
          "base_uri": "https://localhost:8080/"
        },
        "id": "B4lzblQQBGJm",
        "outputId": "9e1393d0-e9f3-449a-fb16-3dd0d1ceee0e"
      },
      "execution_count": null,
      "outputs": [
        {
          "output_type": "execute_result",
          "data": {
            "text/plain": [
              "Rock         95\n",
              "Christian    94\n",
              "Name: genre, dtype: int64"
            ]
          },
          "metadata": {},
          "execution_count": 81
        }
      ]
    },
    {
      "cell_type": "markdown",
      "source": [
        "импортируем библиотеку для вектрозиации - представления текста в численном виде для использования данных на модели"
      ],
      "metadata": {
        "id": "yT2lviggBj0h"
      }
    },
    {
      "cell_type": "code",
      "source": [
        "from sklearn.feature_extraction.text import CountVectorizer"
      ],
      "metadata": {
        "id": "NzKLUjSYBt72"
      },
      "execution_count": null,
      "outputs": []
    },
    {
      "cell_type": "markdown",
      "source": [
        "используем все варианты значения n - униграммы, биграммы и триграммы"
      ],
      "metadata": {
        "id": "HJDQaA9nBvkb"
      }
    },
    {
      "cell_type": "code",
      "source": [
        "vectorizer = CountVectorizer(ngram_range=(1, 3))\n",
        "vectorized_x_train = vectorizer.fit_transform(x_train)"
      ],
      "metadata": {
        "id": "oVPIivy2B2B9"
      },
      "execution_count": null,
      "outputs": []
    },
    {
      "cell_type": "markdown",
      "source": [
        "для классификации используем Наивный Байесовскй Классификатор"
      ],
      "metadata": {
        "id": "1x9FVNRcCBQv"
      }
    },
    {
      "cell_type": "markdown",
      "source": [
        "импортируем классификатор"
      ],
      "metadata": {
        "id": "I0H5Pg_tCHWF"
      }
    },
    {
      "cell_type": "code",
      "source": [
        "from sklearn.naive_bayes import MultinomialNB "
      ],
      "metadata": {
        "id": "B8Hw8W5pCJsN"
      },
      "execution_count": null,
      "outputs": []
    },
    {
      "cell_type": "code",
      "source": [
        "clf = MultinomialNB()\n",
        "clf.fit(vectorized_x_train, y_train)"
      ],
      "metadata": {
        "colab": {
          "base_uri": "https://localhost:8080/"
        },
        "id": "dZbOT8B6CLbe",
        "outputId": "11fb7e6b-c154-4998-f2a5-a1d9eb355185"
      },
      "execution_count": null,
      "outputs": [
        {
          "output_type": "execute_result",
          "data": {
            "text/plain": [
              "MultinomialNB()"
            ]
          },
          "metadata": {},
          "execution_count": 85
        }
      ]
    },
    {
      "cell_type": "markdown",
      "source": [
        "векторизируем выборку"
      ],
      "metadata": {
        "id": "aYw10Vd3CM3U"
      }
    },
    {
      "cell_type": "code",
      "source": [
        "vectorized_x_test = vectorizer.transform(x_test)"
      ],
      "metadata": {
        "id": "Q734KBnKCPoU"
      },
      "execution_count": null,
      "outputs": []
    },
    {
      "cell_type": "markdown",
      "source": [
        "посмотрим предсказания для выборки"
      ],
      "metadata": {
        "id": "N6_7LyLeCSSw"
      }
    },
    {
      "cell_type": "code",
      "source": [
        "clf.predict(vectorized_x_test)"
      ],
      "metadata": {
        "colab": {
          "base_uri": "https://localhost:8080/"
        },
        "id": "g98nCixrCWMe",
        "outputId": "54f53f1a-cfb9-4f62-a1e1-924dad32888b"
      },
      "execution_count": null,
      "outputs": [
        {
          "output_type": "execute_result",
          "data": {
            "text/plain": [
              "array(['Christian', 'Christian', 'Christian', 'Christian', 'Christian',\n",
              "       'Rock', 'Christian', 'Rock', 'Christian', 'Rock', 'Rock', 'Rock',\n",
              "       'Christian', 'Rock', 'Rock', 'Christian', 'Christian', 'Rock',\n",
              "       'Christian', 'Christian', 'Christian', 'Christian', 'Christian',\n",
              "       'Rock', 'Christian', 'Christian', 'Rock', 'Rock', 'Rock', 'Rock',\n",
              "       'Rock', 'Christian', 'Christian', 'Rock', 'Rock', 'Rock',\n",
              "       'Christian', 'Christian', 'Christian', 'Christian', 'Christian',\n",
              "       'Christian', 'Christian', 'Rock', 'Rock', 'Christian', 'Christian',\n",
              "       'Christian', 'Rock', 'Christian', 'Christian', 'Rock', 'Christian',\n",
              "       'Rock', 'Christian', 'Christian', 'Rock'], dtype='<U9')"
            ]
          },
          "metadata": {},
          "execution_count": 87
        }
      ]
    },
    {
      "cell_type": "markdown",
      "source": [
        "получаем оценку классификации"
      ],
      "metadata": {
        "id": "V5CEwQk4CYD5"
      }
    },
    {
      "cell_type": "code",
      "source": [
        "from sklearn.metrics import * \n",
        "pred = clf.predict(vectorized_x_test)\n",
        "print(classification_report(y_test, pred))"
      ],
      "metadata": {
        "colab": {
          "base_uri": "https://localhost:8080/"
        },
        "id": "a0sqzbSPCc_L",
        "outputId": "d959a30d-0f25-424a-ee18-d24a6921c344"
      },
      "execution_count": null,
      "outputs": [
        {
          "output_type": "stream",
          "name": "stdout",
          "text": [
            "              precision    recall  f1-score   support\n",
            "\n",
            "   Christian       0.94      1.00      0.97        32\n",
            "        Rock       1.00      0.92      0.96        25\n",
            "\n",
            "    accuracy                           0.96        57\n",
            "   macro avg       0.97      0.96      0.96        57\n",
            "weighted avg       0.97      0.96      0.96        57\n",
            "\n"
          ]
        }
      ]
    },
    {
      "cell_type": "markdown",
      "source": [
        "# **Задание 2**"
      ],
      "metadata": {
        "id": "iyx0bXZ1EjuG"
      }
    },
    {
      "cell_type": "markdown",
      "source": [
        "добавляем тексты песен\n",
        "\n",
        "из жанра rock я выбрала smells like teen spirit by nirvana\n",
        "\n",
        "из жанра christian - redeemer by Nicole C. Mullen"
      ],
      "metadata": {
        "id": "fCLo_QoULzp1"
      }
    },
    {
      "cell_type": "code",
      "source": [
        "song1_lyrics = '''Load up on guns, bring your friends\n",
        "It's fun to lose and to pretend\n",
        "She's over bored and self assured\n",
        "Oh no, I know a dirty word\n",
        "Hello, hello, hello, how low\n",
        "Hello, hello, hello, how low\n",
        "Hello, hello, hello, how low\n",
        "Hello, hello, hello\n",
        "With the lights out, it's less dangerous\n",
        "Here we are now, entertain us\n",
        "I feel stupid and contagious\n",
        "Here we are now, entertain us\n",
        "A mulatto, an albino, a mosquito, my libido\n",
        "Yeah, hey\n",
        "Yay\n",
        "I'm worse at what I do best\n",
        "And for this gift I feel blessed\n",
        "Our little group has always been\n",
        "And always will until the end\n",
        "Hello, hello, hello, how low\n",
        "Hello, hello, hello, how low\n",
        "Hello, hello, hello, how low\n",
        "Hello, hello, hello\n",
        "With the lights out, it's less dangerous\n",
        "Here we are now, entertain us\n",
        "I feel stupid and contagious\n",
        "Here we are now, entertain us\n",
        "A mulatto, an albino, a mosquito, my libido\n",
        "Yeah, hey\n",
        "Yay\n",
        "And I forget just why I taste\n",
        "Oh yeah, I guess it makes me smile\n",
        "I found it hard, was hard to find\n",
        "Oh well, whatever, never mind\n",
        "Hello, hello, hello, how low\n",
        "Hello, hello, hello, how low\n",
        "Hello, hello, hello, how low\n",
        "Hello, hello, hello\n",
        "With the lights out, it's less dangerous\n",
        "Here we are now, entertain us\n",
        "I feel stupid and contagious\n",
        "Here we are now, entertain us\n",
        "A mulatto, an albino, a mosquito, my libido\n",
        "A denial, a denial, a denial, a denial, a denial\n",
        "A denial, a denial, a denial, a denial'''\n",
        "\n",
        "song2_lyrics = '''Who taught the sun where to stand in the morning?\n",
        "And who told the ocean, you can only come this far?\n",
        "And who showed the moon where to hide 'til evening?\n",
        "Whose words alone can catch a falling star?\n",
        "Well, I know my Redeemer lives\n",
        "I know my Redeemer lives\n",
        "All of creation tesifies\n",
        "This life within me cries\n",
        "I know my Redeemer lives, yeah\n",
        "The very same God that spins things in orbit\n",
        "Runs to the weary, the wern and the weak\n",
        "And the same gentle hands that hold me when I'm broken\n",
        "They conquered death to bring me victory\n",
        "Now, I know my Redeemer lives\n",
        "I know my Redeemer lives\n",
        "Let all creation testify\n",
        "Let this life within me cry\n",
        "I know my Redeemer\n",
        "He lives to take away my shame\n",
        "And He lives forever, I'll proclaim\n",
        "That the payment for my sin\n",
        "Was the precious life He gave\n",
        "But now He's alive and\n",
        "There's an empty grave...\n",
        "And I know my Redeemer lives\n",
        "I know my Redeemer lives\n",
        "Let all creation testify\n",
        "Let this life within me cry\n",
        "I know my Redeemer\n",
        "I know my Redeemer lives\n",
        "I know my Redeemer lives\n",
        "I know my Redeemer lives\n",
        "He lives'''\n",
        "\n",
        "song1_genre = \"Rock\"\n",
        "song2_genre = \"Christian\""
      ],
      "metadata": {
        "id": "rs1or3y7L2BJ"
      },
      "execution_count": null,
      "outputs": []
    },
    {
      "cell_type": "markdown",
      "source": [
        "создаем датасет из вышеуказанных элементов"
      ],
      "metadata": {
        "id": "vWCrYitSPe5A"
      }
    },
    {
      "cell_type": "code",
      "source": [
        "songs_dataset = pd.DataFrame(data = {\"genre\":[song2_genre,song1_genre],\"lyrics\":[song2_lyrics,song1_lyrics]})"
      ],
      "metadata": {
        "id": "OYvA-GSSPmhu"
      },
      "execution_count": null,
      "outputs": []
    },
    {
      "cell_type": "markdown",
      "source": [
        "приводим к нижнему регистру"
      ],
      "metadata": {
        "id": "QU-roSACQFA2"
      }
    },
    {
      "cell_type": "code",
      "source": [
        "lowered = songs_dataset['lyrics'].str.lower()\n",
        "songs_dataset['lowered'] = lowered"
      ],
      "metadata": {
        "id": "gPx82n-BQL3o"
      },
      "execution_count": null,
      "outputs": []
    },
    {
      "cell_type": "markdown",
      "source": [
        "разбиваем на отдельные слова:"
      ],
      "metadata": {
        "id": "xc_NTMeMQYGx"
      }
    },
    {
      "cell_type": "code",
      "source": [
        "tokened = songs_dataset.apply(lambda row: nltk.word_tokenize(row['lowered']), axis=1)\n",
        "songs_dataset['tokened'] = tokened"
      ],
      "metadata": {
        "id": "UG8nn8koQarm"
      },
      "execution_count": null,
      "outputs": []
    },
    {
      "cell_type": "markdown",
      "source": [
        "удаляем стоп-слова:"
      ],
      "metadata": {
        "id": "JU8PMnpmQiGD"
      }
    },
    {
      "cell_type": "code",
      "source": [
        "withoutstop = songs_dataset['tokened'].apply(lambda x: [item for item in x if item not in noise])\n",
        "\n",
        "without_stop = []\n",
        "for a in withoutstop:    \n",
        "    without_stop.append(\", \".join(a))\n",
        "\n",
        "songs_dataset['without_stop'] = without_stop"
      ],
      "metadata": {
        "id": "wsurqjxcQktR"
      },
      "execution_count": null,
      "outputs": []
    },
    {
      "cell_type": "markdown",
      "source": [
        "лемматизация"
      ],
      "metadata": {
        "id": "a8Ez7O5zQ6S7"
      }
    },
    {
      "cell_type": "code",
      "source": [
        "lemmatized = songs_dataset['without_stop'].apply(lambda x: [lemmatizer.lemmatize(x)])"
      ],
      "metadata": {
        "id": "oBB2jMkGQ8sM"
      },
      "execution_count": null,
      "outputs": []
    },
    {
      "cell_type": "code",
      "source": [
        "lemma = []\n",
        "for a in lemmatized:    \n",
        "    lemma.append(\", \".join(a))"
      ],
      "metadata": {
        "id": "nV9u0LTvRB2j"
      },
      "execution_count": null,
      "outputs": []
    },
    {
      "cell_type": "code",
      "source": [
        "songs_dataset['lemmatized'] = lemma"
      ],
      "metadata": {
        "id": "0DRAodBnRDIt"
      },
      "execution_count": null,
      "outputs": []
    },
    {
      "cell_type": "code",
      "source": [
        "songs_dataset"
      ],
      "metadata": {
        "colab": {
          "base_uri": "https://localhost:8080/",
          "height": 191
        },
        "id": "pLnAeY4TRT1C",
        "outputId": "b6b51c1a-10f7-4ba7-d2cc-47155a8692e3"
      },
      "execution_count": null,
      "outputs": [
        {
          "output_type": "execute_result",
          "data": {
            "text/plain": [
              "       genre                                             lyrics  \\\n",
              "0  Christian  Who taught the sun where to stand in the morni...   \n",
              "1       Rock  Load up on guns, bring your friends\\nIt's fun ...   \n",
              "\n",
              "                                             lowered  \\\n",
              "0  who taught the sun where to stand in the morni...   \n",
              "1  load up on guns, bring your friends\\nit's fun ...   \n",
              "\n",
              "                                             tokened  \\\n",
              "0  [who, taught, the, sun, where, to, stand, in, ...   \n",
              "1  [load, up, on, guns, ,, bring, your, friends, ...   \n",
              "\n",
              "                                        without_stop  \\\n",
              "0  taught, sun, stand, morning, ?, told, ocean, ,...   \n",
              "1  load, guns, ,, bring, friends, 's, fun, lose, ...   \n",
              "\n",
              "                                          lemmatized  \n",
              "0  taught, sun, stand, morning, ?, told, ocean, ,...  \n",
              "1  load, guns, ,, bring, friends, 's, fun, lose, ...  "
            ],
            "text/html": [
              "\n",
              "  <div id=\"df-6a139f50-42d8-4978-b215-e2ff798c03c1\">\n",
              "    <div class=\"colab-df-container\">\n",
              "      <div>\n",
              "<style scoped>\n",
              "    .dataframe tbody tr th:only-of-type {\n",
              "        vertical-align: middle;\n",
              "    }\n",
              "\n",
              "    .dataframe tbody tr th {\n",
              "        vertical-align: top;\n",
              "    }\n",
              "\n",
              "    .dataframe thead th {\n",
              "        text-align: right;\n",
              "    }\n",
              "</style>\n",
              "<table border=\"1\" class=\"dataframe\">\n",
              "  <thead>\n",
              "    <tr style=\"text-align: right;\">\n",
              "      <th></th>\n",
              "      <th>genre</th>\n",
              "      <th>lyrics</th>\n",
              "      <th>lowered</th>\n",
              "      <th>tokened</th>\n",
              "      <th>without_stop</th>\n",
              "      <th>lemmatized</th>\n",
              "    </tr>\n",
              "  </thead>\n",
              "  <tbody>\n",
              "    <tr>\n",
              "      <th>0</th>\n",
              "      <td>Christian</td>\n",
              "      <td>Who taught the sun where to stand in the morni...</td>\n",
              "      <td>who taught the sun where to stand in the morni...</td>\n",
              "      <td>[who, taught, the, sun, where, to, stand, in, ...</td>\n",
              "      <td>taught, sun, stand, morning, ?, told, ocean, ,...</td>\n",
              "      <td>taught, sun, stand, morning, ?, told, ocean, ,...</td>\n",
              "    </tr>\n",
              "    <tr>\n",
              "      <th>1</th>\n",
              "      <td>Rock</td>\n",
              "      <td>Load up on guns, bring your friends\\nIt's fun ...</td>\n",
              "      <td>load up on guns, bring your friends\\nit's fun ...</td>\n",
              "      <td>[load, up, on, guns, ,, bring, your, friends, ...</td>\n",
              "      <td>load, guns, ,, bring, friends, 's, fun, lose, ...</td>\n",
              "      <td>load, guns, ,, bring, friends, 's, fun, lose, ...</td>\n",
              "    </tr>\n",
              "  </tbody>\n",
              "</table>\n",
              "</div>\n",
              "      <button class=\"colab-df-convert\" onclick=\"convertToInteractive('df-6a139f50-42d8-4978-b215-e2ff798c03c1')\"\n",
              "              title=\"Convert this dataframe to an interactive table.\"\n",
              "              style=\"display:none;\">\n",
              "        \n",
              "  <svg xmlns=\"http://www.w3.org/2000/svg\" height=\"24px\"viewBox=\"0 0 24 24\"\n",
              "       width=\"24px\">\n",
              "    <path d=\"M0 0h24v24H0V0z\" fill=\"none\"/>\n",
              "    <path d=\"M18.56 5.44l.94 2.06.94-2.06 2.06-.94-2.06-.94-.94-2.06-.94 2.06-2.06.94zm-11 1L8.5 8.5l.94-2.06 2.06-.94-2.06-.94L8.5 2.5l-.94 2.06-2.06.94zm10 10l.94 2.06.94-2.06 2.06-.94-2.06-.94-.94-2.06-.94 2.06-2.06.94z\"/><path d=\"M17.41 7.96l-1.37-1.37c-.4-.4-.92-.59-1.43-.59-.52 0-1.04.2-1.43.59L10.3 9.45l-7.72 7.72c-.78.78-.78 2.05 0 2.83L4 21.41c.39.39.9.59 1.41.59.51 0 1.02-.2 1.41-.59l7.78-7.78 2.81-2.81c.8-.78.8-2.07 0-2.86zM5.41 20L4 18.59l7.72-7.72 1.47 1.35L5.41 20z\"/>\n",
              "  </svg>\n",
              "      </button>\n",
              "      \n",
              "  <style>\n",
              "    .colab-df-container {\n",
              "      display:flex;\n",
              "      flex-wrap:wrap;\n",
              "      gap: 12px;\n",
              "    }\n",
              "\n",
              "    .colab-df-convert {\n",
              "      background-color: #E8F0FE;\n",
              "      border: none;\n",
              "      border-radius: 50%;\n",
              "      cursor: pointer;\n",
              "      display: none;\n",
              "      fill: #1967D2;\n",
              "      height: 32px;\n",
              "      padding: 0 0 0 0;\n",
              "      width: 32px;\n",
              "    }\n",
              "\n",
              "    .colab-df-convert:hover {\n",
              "      background-color: #E2EBFA;\n",
              "      box-shadow: 0px 1px 2px rgba(60, 64, 67, 0.3), 0px 1px 3px 1px rgba(60, 64, 67, 0.15);\n",
              "      fill: #174EA6;\n",
              "    }\n",
              "\n",
              "    [theme=dark] .colab-df-convert {\n",
              "      background-color: #3B4455;\n",
              "      fill: #D2E3FC;\n",
              "    }\n",
              "\n",
              "    [theme=dark] .colab-df-convert:hover {\n",
              "      background-color: #434B5C;\n",
              "      box-shadow: 0px 1px 3px 1px rgba(0, 0, 0, 0.15);\n",
              "      filter: drop-shadow(0px 1px 2px rgba(0, 0, 0, 0.3));\n",
              "      fill: #FFFFFF;\n",
              "    }\n",
              "  </style>\n",
              "\n",
              "      <script>\n",
              "        const buttonEl =\n",
              "          document.querySelector('#df-6a139f50-42d8-4978-b215-e2ff798c03c1 button.colab-df-convert');\n",
              "        buttonEl.style.display =\n",
              "          google.colab.kernel.accessAllowed ? 'block' : 'none';\n",
              "\n",
              "        async function convertToInteractive(key) {\n",
              "          const element = document.querySelector('#df-6a139f50-42d8-4978-b215-e2ff798c03c1');\n",
              "          const dataTable =\n",
              "            await google.colab.kernel.invokeFunction('convertToInteractive',\n",
              "                                                     [key], {});\n",
              "          if (!dataTable) return;\n",
              "\n",
              "          const docLinkHtml = 'Like what you see? Visit the ' +\n",
              "            '<a target=\"_blank\" href=https://colab.research.google.com/notebooks/data_table.ipynb>data table notebook</a>'\n",
              "            + ' to learn more about interactive tables.';\n",
              "          element.innerHTML = '';\n",
              "          dataTable['output_type'] = 'display_data';\n",
              "          await google.colab.output.renderOutput(dataTable, element);\n",
              "          const docLink = document.createElement('div');\n",
              "          docLink.innerHTML = docLinkHtml;\n",
              "          element.appendChild(docLink);\n",
              "        }\n",
              "      </script>\n",
              "    </div>\n",
              "  </div>\n",
              "  "
            ]
          },
          "metadata": {},
          "execution_count": 97
        }
      ]
    },
    {
      "cell_type": "code",
      "source": [
        "x_test = songs_dataset['lyrics'].squeeze()\n",
        "y_test = songs_dataset['genre'].squeeze()"
      ],
      "metadata": {
        "id": "ToV82bqGxREY"
      },
      "execution_count": null,
      "outputs": []
    },
    {
      "cell_type": "code",
      "source": [
        "vectorized_x_test = vectorizer.transform(x_test)"
      ],
      "metadata": {
        "id": "v-DO6VXtya3U"
      },
      "execution_count": null,
      "outputs": []
    },
    {
      "cell_type": "code",
      "source": [
        "pred = clf.predict(vectorized_x_test)\n",
        "print(classification_report(y_test, pred))"
      ],
      "metadata": {
        "colab": {
          "base_uri": "https://localhost:8080/"
        },
        "id": "08JLmyWGdq_w",
        "outputId": "360473c3-75a9-441f-faf8-ffe4cc7087dc"
      },
      "execution_count": null,
      "outputs": [
        {
          "output_type": "stream",
          "name": "stdout",
          "text": [
            "              precision    recall  f1-score   support\n",
            "\n",
            "   Christian       1.00      1.00      1.00         1\n",
            "        Rock       1.00      1.00      1.00         1\n",
            "\n",
            "    accuracy                           1.00         2\n",
            "   macro avg       1.00      1.00      1.00         2\n",
            "weighted avg       1.00      1.00      1.00         2\n",
            "\n"
          ]
        }
      ]
    },
    {
      "cell_type": "markdown",
      "source": [
        "# **Задание 3**"
      ],
      "metadata": {
        "id": "p2hQqiAYzI0R"
      }
    },
    {
      "cell_type": "markdown",
      "source": [
        "загружаем исходные данные"
      ],
      "metadata": {
        "id": "a55bmmx6tqG8"
      }
    },
    {
      "cell_type": "code",
      "source": [
        "data = pd.read_csv(\"/content/drive/MyDrive/modern-instruments-for-data-analysing-itmo/dataset-lyrics-musics-mini.csv\")\n",
        "columns = data[['cantorNome', 'letra']]\n",
        "columns"
      ],
      "metadata": {
        "colab": {
          "base_uri": "https://localhost:8080/",
          "height": 424
        },
        "id": "Sk6uJ2-OzfJ8",
        "outputId": "0fcc3adc-5046-4eca-f077-20b2207f3a3b"
      },
      "execution_count": null,
      "outputs": [
        {
          "output_type": "execute_result",
          "data": {
            "text/plain": [
              "       cantorNome                                              letra\n",
              "0     david-bowie  I, I will be king. And you, you will be queen....\n",
              "1     david-bowie  Didn't know what time it was,. The lights were...\n",
              "2     david-bowie  Ground control to Major Tom. Ground control to...\n",
              "3     david-bowie  It's a god-awful small affair. To the girl wit...\n",
              "4     david-bowie  I know when to go out. And when to stay in. Ge...\n",
              "...           ...                                                ...\n",
              "1743        ac-dc  The video game says Play me. Face it on a leve...\n",
              "1744        ac-dc  Wanna tell you a story. 'Bout a woman I know. ...\n",
              "1745        ac-dc  You can roll me round your finger. You can rol...\n",
              "1746        ac-dc  She was a fast machine. She kept the motor cle...\n",
              "1747        ac-dc  Give me a big beat. Now here this, now here th...\n",
              "\n",
              "[1748 rows x 2 columns]"
            ],
            "text/html": [
              "\n",
              "  <div id=\"df-46e84873-406e-4b2e-ad3b-7c62e3576ce6\">\n",
              "    <div class=\"colab-df-container\">\n",
              "      <div>\n",
              "<style scoped>\n",
              "    .dataframe tbody tr th:only-of-type {\n",
              "        vertical-align: middle;\n",
              "    }\n",
              "\n",
              "    .dataframe tbody tr th {\n",
              "        vertical-align: top;\n",
              "    }\n",
              "\n",
              "    .dataframe thead th {\n",
              "        text-align: right;\n",
              "    }\n",
              "</style>\n",
              "<table border=\"1\" class=\"dataframe\">\n",
              "  <thead>\n",
              "    <tr style=\"text-align: right;\">\n",
              "      <th></th>\n",
              "      <th>cantorNome</th>\n",
              "      <th>letra</th>\n",
              "    </tr>\n",
              "  </thead>\n",
              "  <tbody>\n",
              "    <tr>\n",
              "      <th>0</th>\n",
              "      <td>david-bowie</td>\n",
              "      <td>I, I will be king. And you, you will be queen....</td>\n",
              "    </tr>\n",
              "    <tr>\n",
              "      <th>1</th>\n",
              "      <td>david-bowie</td>\n",
              "      <td>Didn't know what time it was,. The lights were...</td>\n",
              "    </tr>\n",
              "    <tr>\n",
              "      <th>2</th>\n",
              "      <td>david-bowie</td>\n",
              "      <td>Ground control to Major Tom. Ground control to...</td>\n",
              "    </tr>\n",
              "    <tr>\n",
              "      <th>3</th>\n",
              "      <td>david-bowie</td>\n",
              "      <td>It's a god-awful small affair. To the girl wit...</td>\n",
              "    </tr>\n",
              "    <tr>\n",
              "      <th>4</th>\n",
              "      <td>david-bowie</td>\n",
              "      <td>I know when to go out. And when to stay in. Ge...</td>\n",
              "    </tr>\n",
              "    <tr>\n",
              "      <th>...</th>\n",
              "      <td>...</td>\n",
              "      <td>...</td>\n",
              "    </tr>\n",
              "    <tr>\n",
              "      <th>1743</th>\n",
              "      <td>ac-dc</td>\n",
              "      <td>The video game says Play me. Face it on a leve...</td>\n",
              "    </tr>\n",
              "    <tr>\n",
              "      <th>1744</th>\n",
              "      <td>ac-dc</td>\n",
              "      <td>Wanna tell you a story. 'Bout a woman I know. ...</td>\n",
              "    </tr>\n",
              "    <tr>\n",
              "      <th>1745</th>\n",
              "      <td>ac-dc</td>\n",
              "      <td>You can roll me round your finger. You can rol...</td>\n",
              "    </tr>\n",
              "    <tr>\n",
              "      <th>1746</th>\n",
              "      <td>ac-dc</td>\n",
              "      <td>She was a fast machine. She kept the motor cle...</td>\n",
              "    </tr>\n",
              "    <tr>\n",
              "      <th>1747</th>\n",
              "      <td>ac-dc</td>\n",
              "      <td>Give me a big beat. Now here this, now here th...</td>\n",
              "    </tr>\n",
              "  </tbody>\n",
              "</table>\n",
              "<p>1748 rows × 2 columns</p>\n",
              "</div>\n",
              "      <button class=\"colab-df-convert\" onclick=\"convertToInteractive('df-46e84873-406e-4b2e-ad3b-7c62e3576ce6')\"\n",
              "              title=\"Convert this dataframe to an interactive table.\"\n",
              "              style=\"display:none;\">\n",
              "        \n",
              "  <svg xmlns=\"http://www.w3.org/2000/svg\" height=\"24px\"viewBox=\"0 0 24 24\"\n",
              "       width=\"24px\">\n",
              "    <path d=\"M0 0h24v24H0V0z\" fill=\"none\"/>\n",
              "    <path d=\"M18.56 5.44l.94 2.06.94-2.06 2.06-.94-2.06-.94-.94-2.06-.94 2.06-2.06.94zm-11 1L8.5 8.5l.94-2.06 2.06-.94-2.06-.94L8.5 2.5l-.94 2.06-2.06.94zm10 10l.94 2.06.94-2.06 2.06-.94-2.06-.94-.94-2.06-.94 2.06-2.06.94z\"/><path d=\"M17.41 7.96l-1.37-1.37c-.4-.4-.92-.59-1.43-.59-.52 0-1.04.2-1.43.59L10.3 9.45l-7.72 7.72c-.78.78-.78 2.05 0 2.83L4 21.41c.39.39.9.59 1.41.59.51 0 1.02-.2 1.41-.59l7.78-7.78 2.81-2.81c.8-.78.8-2.07 0-2.86zM5.41 20L4 18.59l7.72-7.72 1.47 1.35L5.41 20z\"/>\n",
              "  </svg>\n",
              "      </button>\n",
              "      \n",
              "  <style>\n",
              "    .colab-df-container {\n",
              "      display:flex;\n",
              "      flex-wrap:wrap;\n",
              "      gap: 12px;\n",
              "    }\n",
              "\n",
              "    .colab-df-convert {\n",
              "      background-color: #E8F0FE;\n",
              "      border: none;\n",
              "      border-radius: 50%;\n",
              "      cursor: pointer;\n",
              "      display: none;\n",
              "      fill: #1967D2;\n",
              "      height: 32px;\n",
              "      padding: 0 0 0 0;\n",
              "      width: 32px;\n",
              "    }\n",
              "\n",
              "    .colab-df-convert:hover {\n",
              "      background-color: #E2EBFA;\n",
              "      box-shadow: 0px 1px 2px rgba(60, 64, 67, 0.3), 0px 1px 3px 1px rgba(60, 64, 67, 0.15);\n",
              "      fill: #174EA6;\n",
              "    }\n",
              "\n",
              "    [theme=dark] .colab-df-convert {\n",
              "      background-color: #3B4455;\n",
              "      fill: #D2E3FC;\n",
              "    }\n",
              "\n",
              "    [theme=dark] .colab-df-convert:hover {\n",
              "      background-color: #434B5C;\n",
              "      box-shadow: 0px 1px 3px 1px rgba(0, 0, 0, 0.15);\n",
              "      filter: drop-shadow(0px 1px 2px rgba(0, 0, 0, 0.3));\n",
              "      fill: #FFFFFF;\n",
              "    }\n",
              "  </style>\n",
              "\n",
              "      <script>\n",
              "        const buttonEl =\n",
              "          document.querySelector('#df-46e84873-406e-4b2e-ad3b-7c62e3576ce6 button.colab-df-convert');\n",
              "        buttonEl.style.display =\n",
              "          google.colab.kernel.accessAllowed ? 'block' : 'none';\n",
              "\n",
              "        async function convertToInteractive(key) {\n",
              "          const element = document.querySelector('#df-46e84873-406e-4b2e-ad3b-7c62e3576ce6');\n",
              "          const dataTable =\n",
              "            await google.colab.kernel.invokeFunction('convertToInteractive',\n",
              "                                                     [key], {});\n",
              "          if (!dataTable) return;\n",
              "\n",
              "          const docLinkHtml = 'Like what you see? Visit the ' +\n",
              "            '<a target=\"_blank\" href=https://colab.research.google.com/notebooks/data_table.ipynb>data table notebook</a>'\n",
              "            + ' to learn more about interactive tables.';\n",
              "          element.innerHTML = '';\n",
              "          dataTable['output_type'] = 'display_data';\n",
              "          await google.colab.output.renderOutput(dataTable, element);\n",
              "          const docLink = document.createElement('div');\n",
              "          docLink.innerHTML = docLinkHtml;\n",
              "          element.appendChild(docLink);\n",
              "        }\n",
              "      </script>\n",
              "    </div>\n",
              "  </div>\n",
              "  "
            ]
          },
          "metadata": {},
          "execution_count": 101
        }
      ]
    },
    {
      "cell_type": "markdown",
      "source": [
        "оставляем только строки с именами david-bowie и paul-mccartney, приводим слова песен к нижнему регистру"
      ],
      "metadata": {
        "id": "a22-5Vx_tuZo"
      }
    },
    {
      "cell_type": "code",
      "source": [
        "columns = columns[(columns.cantorNome == 'david-bowie') | (columns.cantorNome == 'paul-mccartney')]\n",
        "\n",
        "lowered = columns['letra'].str.lower()\n",
        "columns['lowered'] = lowered"
      ],
      "metadata": {
        "colab": {
          "base_uri": "https://localhost:8080/"
        },
        "id": "prs-Q5Ax0AEp",
        "outputId": "7256f3e9-a2bc-42ed-9f92-a5fe2a8d83cd"
      },
      "execution_count": null,
      "outputs": [
        {
          "output_type": "stream",
          "name": "stderr",
          "text": [
            "/usr/local/lib/python3.7/dist-packages/ipykernel_launcher.py:4: SettingWithCopyWarning: \n",
            "A value is trying to be set on a copy of a slice from a DataFrame.\n",
            "Try using .loc[row_indexer,col_indexer] = value instead\n",
            "\n",
            "See the caveats in the documentation: https://pandas.pydata.org/pandas-docs/stable/user_guide/indexing.html#returning-a-view-versus-a-copy\n",
            "  after removing the cwd from sys.path.\n"
          ]
        }
      ]
    },
    {
      "cell_type": "markdown",
      "source": [
        "разбиваем слова по одному - проводим токенизацию"
      ],
      "metadata": {
        "id": "BO9GRMnjt7Bd"
      }
    },
    {
      "cell_type": "code",
      "source": [
        "tokened = columns.apply(lambda row: nltk.word_tokenize(row['lowered']), axis=1)\n",
        "columns['tokened'] = tokened"
      ],
      "metadata": {
        "colab": {
          "base_uri": "https://localhost:8080/"
        },
        "id": "g-NXF62X0aTa",
        "outputId": "9c8156c6-6a92-4e8d-e31f-cd04b9d57fa5"
      },
      "execution_count": null,
      "outputs": [
        {
          "output_type": "stream",
          "name": "stderr",
          "text": [
            "/usr/local/lib/python3.7/dist-packages/ipykernel_launcher.py:2: SettingWithCopyWarning: \n",
            "A value is trying to be set on a copy of a slice from a DataFrame.\n",
            "Try using .loc[row_indexer,col_indexer] = value instead\n",
            "\n",
            "See the caveats in the documentation: https://pandas.pydata.org/pandas-docs/stable/user_guide/indexing.html#returning-a-view-versus-a-copy\n",
            "  \n"
          ]
        }
      ]
    },
    {
      "cell_type": "markdown",
      "source": [
        "убираем ненужные стоп-слова"
      ],
      "metadata": {
        "id": "c_mZqcDsuA-7"
      }
    },
    {
      "cell_type": "code",
      "source": [
        "withoutstop = columns['tokened'].apply(lambda x: [item for item in x if item not in noise])\n",
        "without_stop = []\n",
        "for a in withoutstop:    \n",
        "    without_stop.append(\", \".join(a))\n",
        "columns['without_stop'] = without_stop"
      ],
      "metadata": {
        "colab": {
          "base_uri": "https://localhost:8080/"
        },
        "id": "URqo9an90gNb",
        "outputId": "c66b05cc-3a3a-41ef-f616-ea9d15976a0f"
      },
      "execution_count": null,
      "outputs": [
        {
          "output_type": "stream",
          "name": "stderr",
          "text": [
            "/usr/local/lib/python3.7/dist-packages/ipykernel_launcher.py:5: SettingWithCopyWarning: \n",
            "A value is trying to be set on a copy of a slice from a DataFrame.\n",
            "Try using .loc[row_indexer,col_indexer] = value instead\n",
            "\n",
            "See the caveats in the documentation: https://pandas.pydata.org/pandas-docs/stable/user_guide/indexing.html#returning-a-view-versus-a-copy\n",
            "  \"\"\"\n"
          ]
        }
      ]
    },
    {
      "cell_type": "markdown",
      "source": [
        "приводим все слова к начальной форме"
      ],
      "metadata": {
        "id": "roGNc_ChuD5H"
      }
    },
    {
      "cell_type": "code",
      "source": [
        "lemmatized = columns['without_stop'].apply(lambda x: [lemmatizer.lemmatize(x)])\n",
        "lemma = []\n",
        "for a in lemmatized:    \n",
        "    lemma.append(\", \".join(a))\n",
        "columns['lemmatized'] = lemma"
      ],
      "metadata": {
        "colab": {
          "base_uri": "https://localhost:8080/"
        },
        "id": "Xup-k7Pr0k0Y",
        "outputId": "f27b9731-abf8-438a-c640-bd0400f5de84"
      },
      "execution_count": null,
      "outputs": [
        {
          "output_type": "stream",
          "name": "stderr",
          "text": [
            "/usr/local/lib/python3.7/dist-packages/ipykernel_launcher.py:5: SettingWithCopyWarning: \n",
            "A value is trying to be set on a copy of a slice from a DataFrame.\n",
            "Try using .loc[row_indexer,col_indexer] = value instead\n",
            "\n",
            "See the caveats in the documentation: https://pandas.pydata.org/pandas-docs/stable/user_guide/indexing.html#returning-a-view-versus-a-copy\n",
            "  \"\"\"\n"
          ]
        }
      ]
    },
    {
      "cell_type": "markdown",
      "source": [
        "берем тестовые и тренировочные выборки"
      ],
      "metadata": {
        "id": "rcQ9clFkuTAy"
      }
    },
    {
      "cell_type": "code",
      "source": [
        "x_train, x_test, y_train, y_test = train_test_split(columns.lemmatized, columns.cantorNome, train_size = 0.7)"
      ],
      "metadata": {
        "id": "gShYemM20tsJ"
      },
      "execution_count": null,
      "outputs": []
    },
    {
      "cell_type": "markdown",
      "source": [
        "представляем слова в численном виде"
      ],
      "metadata": {
        "id": "wIb_bOeguZ9e"
      }
    },
    {
      "cell_type": "code",
      "source": [
        "vectorizer = CountVectorizer(ngram_range=(1, 3))\n",
        "vectorized_x_train = vectorizer.fit_transform(x_train)"
      ],
      "metadata": {
        "id": "AZ8NXP1W01Xv"
      },
      "execution_count": null,
      "outputs": []
    },
    {
      "cell_type": "markdown",
      "source": [
        "создаем новый классификатор, обучаем, получаем результаты обучения"
      ],
      "metadata": {
        "id": "He_xGjbyufut"
      }
    },
    {
      "cell_type": "code",
      "source": [
        "clf = MultinomialNB()\n",
        "clf.fit(vectorized_x_train, y_train)\n",
        "\n",
        "vectorized_x_test = vectorizer.transform(x_test)\n",
        "\n",
        "pred = clf.predict(vectorized_x_test)\n",
        "print(classification_report(y_test, pred))"
      ],
      "metadata": {
        "colab": {
          "base_uri": "https://localhost:8080/"
        },
        "id": "CpvZCI7B03Tu",
        "outputId": "022d5ba7-168c-47a5-a129-ed9974d5673e"
      },
      "execution_count": null,
      "outputs": [
        {
          "output_type": "stream",
          "name": "stdout",
          "text": [
            "                precision    recall  f1-score   support\n",
            "\n",
            "   david-bowie       0.78      0.71      0.75       159\n",
            "paul-mccartney       0.67      0.75      0.71       126\n",
            "\n",
            "      accuracy                           0.73       285\n",
            "     macro avg       0.73      0.73      0.73       285\n",
            "  weighted avg       0.74      0.73      0.73       285\n",
            "\n"
          ]
        }
      ]
    }
  ]
}