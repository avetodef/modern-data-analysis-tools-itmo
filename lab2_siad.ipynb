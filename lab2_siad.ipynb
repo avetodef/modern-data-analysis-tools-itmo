{
  "nbformat": 4,
  "nbformat_minor": 0,
  "metadata": {
    "colab": {
      "provenance": [],
      "mount_file_id": "1P302VfRKbtEgK9Y8D5VvzlxVfkewL892",
      "authorship_tag": "ABX9TyOai4Gybomr5o7rBuyI33Cu",
      "include_colab_link": true
    },
    "kernelspec": {
      "name": "python3",
      "display_name": "Python 3"
    },
    "language_info": {
      "name": "python"
    }
  },
  "cells": [
    {
      "cell_type": "markdown",
      "metadata": {
        "id": "view-in-github",
        "colab_type": "text"
      },
      "source": [
        "<a href=\"https://colab.research.google.com/github/avetodef/modern-data-analysis-tools-itmo/blob/main/lab2_siad.ipynb\" target=\"_parent\"><img src=\"https://colab.research.google.com/assets/colab-badge.svg\" alt=\"Open In Colab\"/></a>"
      ]
    },
    {
      "cell_type": "markdown",
      "source": [
        "#**Лабораторная работа №2 - классификация текстов**"
      ],
      "metadata": {
        "id": "7ut0oTLI6oOR"
      }
    },
    {
      "cell_type": "markdown",
      "source": [
        "#**Задание 1**"
      ],
      "metadata": {
        "id": "uTixlmd_EImW"
      }
    },
    {
      "cell_type": "markdown",
      "source": [
        "Получаю два жанра, которые буду использовать в работе"
      ],
      "metadata": {
        "id": "WQC08gpQ60x0"
      }
    },
    {
      "cell_type": "code",
      "source": [
        "import random\n",
        "lst = ['Christian', 'Country', 'Pop', 'Rock', 'R&B'] \n",
        "print('ваши жанры', random.choice(lst), 'и', random.choice(lst)) "
      ],
      "metadata": {
        "colab": {
          "base_uri": "https://localhost:8080/"
        },
        "id": "rxjiomES7EnP",
        "outputId": "5461baa6-eab3-4d68-e44e-d095fb6d5104"
      },
      "execution_count": 1279,
      "outputs": [
        {
          "output_type": "stream",
          "name": "stdout",
          "text": [
            "ваши жанры Country и Christian\n"
          ]
        }
      ]
    },
    {
      "cell_type": "markdown",
      "source": [
        "Жанры - Christian и Rock"
      ],
      "metadata": {
        "id": "9fOT2gQF7Ujq"
      }
    },
    {
      "cell_type": "markdown",
      "source": [
        "Для начала читаем набор данных:"
      ],
      "metadata": {
        "id": "aZ7Yxybf7hwl"
      }
    },
    {
      "cell_type": "code",
      "source": [
        "import pandas as pd\n",
        "data = pd.read_csv(\"/content/drive/MyDrive/modern-instruments-for-data-analysing-itmo/dataset.csv\")\n",
        "\n",
        "data.head()"
      ],
      "metadata": {
        "colab": {
          "base_uri": "https://localhost:8080/",
          "height": 0
        },
        "id": "T8ZSbTdj7keu",
        "outputId": "fc84600a-ab9b-4ef0-de72-80803566c269"
      },
      "execution_count": 1280,
      "outputs": [
        {
          "output_type": "execute_result",
          "data": {
            "text/plain": [
              "       genre                                             lyrics  \\\n",
              "0  Christian   Who am I, that the Lord of all the earth Woul...   \n",
              "1  Christian   Glory Revealed  By His Wounds He was pierced ...   \n",
              "2  Christian   Lord of heaven and earth Lord of all creation...   \n",
              "3  Christian   I can only imagine what it will be like When ...   \n",
              "4  Christian   I am not skilled to understand What God has w...   \n",
              "\n",
              "                                 SongInfo  \n",
              "0        CASTING CROWNS - WHO AM I LYRICS  \n",
              "1   GLORY REVEALED - BY HIS WOUNDS LYRICS  \n",
              "2  CAEDMON'S CALL - GOD OF WONDERS LYRICS  \n",
              "3     MERCYME - I CAN ONLY IMAGINE LYRICS  \n",
              "4   AARON SHUST - MY SAVIOR MY GOD LYRICS  "
            ],
            "text/html": [
              "\n",
              "  <div id=\"df-56a47bed-102f-413c-8a43-14106cd39a2c\">\n",
              "    <div class=\"colab-df-container\">\n",
              "      <div>\n",
              "<style scoped>\n",
              "    .dataframe tbody tr th:only-of-type {\n",
              "        vertical-align: middle;\n",
              "    }\n",
              "\n",
              "    .dataframe tbody tr th {\n",
              "        vertical-align: top;\n",
              "    }\n",
              "\n",
              "    .dataframe thead th {\n",
              "        text-align: right;\n",
              "    }\n",
              "</style>\n",
              "<table border=\"1\" class=\"dataframe\">\n",
              "  <thead>\n",
              "    <tr style=\"text-align: right;\">\n",
              "      <th></th>\n",
              "      <th>genre</th>\n",
              "      <th>lyrics</th>\n",
              "      <th>SongInfo</th>\n",
              "    </tr>\n",
              "  </thead>\n",
              "  <tbody>\n",
              "    <tr>\n",
              "      <th>0</th>\n",
              "      <td>Christian</td>\n",
              "      <td>Who am I, that the Lord of all the earth Woul...</td>\n",
              "      <td>CASTING CROWNS - WHO AM I LYRICS</td>\n",
              "    </tr>\n",
              "    <tr>\n",
              "      <th>1</th>\n",
              "      <td>Christian</td>\n",
              "      <td>Glory Revealed  By His Wounds He was pierced ...</td>\n",
              "      <td>GLORY REVEALED - BY HIS WOUNDS LYRICS</td>\n",
              "    </tr>\n",
              "    <tr>\n",
              "      <th>2</th>\n",
              "      <td>Christian</td>\n",
              "      <td>Lord of heaven and earth Lord of all creation...</td>\n",
              "      <td>CAEDMON'S CALL - GOD OF WONDERS LYRICS</td>\n",
              "    </tr>\n",
              "    <tr>\n",
              "      <th>3</th>\n",
              "      <td>Christian</td>\n",
              "      <td>I can only imagine what it will be like When ...</td>\n",
              "      <td>MERCYME - I CAN ONLY IMAGINE LYRICS</td>\n",
              "    </tr>\n",
              "    <tr>\n",
              "      <th>4</th>\n",
              "      <td>Christian</td>\n",
              "      <td>I am not skilled to understand What God has w...</td>\n",
              "      <td>AARON SHUST - MY SAVIOR MY GOD LYRICS</td>\n",
              "    </tr>\n",
              "  </tbody>\n",
              "</table>\n",
              "</div>\n",
              "      <button class=\"colab-df-convert\" onclick=\"convertToInteractive('df-56a47bed-102f-413c-8a43-14106cd39a2c')\"\n",
              "              title=\"Convert this dataframe to an interactive table.\"\n",
              "              style=\"display:none;\">\n",
              "        \n",
              "  <svg xmlns=\"http://www.w3.org/2000/svg\" height=\"24px\"viewBox=\"0 0 24 24\"\n",
              "       width=\"24px\">\n",
              "    <path d=\"M0 0h24v24H0V0z\" fill=\"none\"/>\n",
              "    <path d=\"M18.56 5.44l.94 2.06.94-2.06 2.06-.94-2.06-.94-.94-2.06-.94 2.06-2.06.94zm-11 1L8.5 8.5l.94-2.06 2.06-.94-2.06-.94L8.5 2.5l-.94 2.06-2.06.94zm10 10l.94 2.06.94-2.06 2.06-.94-2.06-.94-.94-2.06-.94 2.06-2.06.94z\"/><path d=\"M17.41 7.96l-1.37-1.37c-.4-.4-.92-.59-1.43-.59-.52 0-1.04.2-1.43.59L10.3 9.45l-7.72 7.72c-.78.78-.78 2.05 0 2.83L4 21.41c.39.39.9.59 1.41.59.51 0 1.02-.2 1.41-.59l7.78-7.78 2.81-2.81c.8-.78.8-2.07 0-2.86zM5.41 20L4 18.59l7.72-7.72 1.47 1.35L5.41 20z\"/>\n",
              "  </svg>\n",
              "      </button>\n",
              "      \n",
              "  <style>\n",
              "    .colab-df-container {\n",
              "      display:flex;\n",
              "      flex-wrap:wrap;\n",
              "      gap: 12px;\n",
              "    }\n",
              "\n",
              "    .colab-df-convert {\n",
              "      background-color: #E8F0FE;\n",
              "      border: none;\n",
              "      border-radius: 50%;\n",
              "      cursor: pointer;\n",
              "      display: none;\n",
              "      fill: #1967D2;\n",
              "      height: 32px;\n",
              "      padding: 0 0 0 0;\n",
              "      width: 32px;\n",
              "    }\n",
              "\n",
              "    .colab-df-convert:hover {\n",
              "      background-color: #E2EBFA;\n",
              "      box-shadow: 0px 1px 2px rgba(60, 64, 67, 0.3), 0px 1px 3px 1px rgba(60, 64, 67, 0.15);\n",
              "      fill: #174EA6;\n",
              "    }\n",
              "\n",
              "    [theme=dark] .colab-df-convert {\n",
              "      background-color: #3B4455;\n",
              "      fill: #D2E3FC;\n",
              "    }\n",
              "\n",
              "    [theme=dark] .colab-df-convert:hover {\n",
              "      background-color: #434B5C;\n",
              "      box-shadow: 0px 1px 3px 1px rgba(0, 0, 0, 0.15);\n",
              "      filter: drop-shadow(0px 1px 2px rgba(0, 0, 0, 0.3));\n",
              "      fill: #FFFFFF;\n",
              "    }\n",
              "  </style>\n",
              "\n",
              "      <script>\n",
              "        const buttonEl =\n",
              "          document.querySelector('#df-56a47bed-102f-413c-8a43-14106cd39a2c button.colab-df-convert');\n",
              "        buttonEl.style.display =\n",
              "          google.colab.kernel.accessAllowed ? 'block' : 'none';\n",
              "\n",
              "        async function convertToInteractive(key) {\n",
              "          const element = document.querySelector('#df-56a47bed-102f-413c-8a43-14106cd39a2c');\n",
              "          const dataTable =\n",
              "            await google.colab.kernel.invokeFunction('convertToInteractive',\n",
              "                                                     [key], {});\n",
              "          if (!dataTable) return;\n",
              "\n",
              "          const docLinkHtml = 'Like what you see? Visit the ' +\n",
              "            '<a target=\"_blank\" href=https://colab.research.google.com/notebooks/data_table.ipynb>data table notebook</a>'\n",
              "            + ' to learn more about interactive tables.';\n",
              "          element.innerHTML = '';\n",
              "          dataTable['output_type'] = 'display_data';\n",
              "          await google.colab.output.renderOutput(dataTable, element);\n",
              "          const docLink = document.createElement('div');\n",
              "          docLink.innerHTML = docLinkHtml;\n",
              "          element.appendChild(docLink);\n",
              "        }\n",
              "      </script>\n",
              "    </div>\n",
              "  </div>\n",
              "  "
            ]
          },
          "metadata": {},
          "execution_count": 1280
        }
      ]
    },
    {
      "cell_type": "code",
      "source": [
        "columns = data[['genre', 'lyrics']]\n",
        "columns"
      ],
      "metadata": {
        "colab": {
          "base_uri": "https://localhost:8080/",
          "height": 0
        },
        "id": "GNQTUNqw9TAr",
        "outputId": "f9781523-88be-45ed-d1f7-8a6596df99d3"
      },
      "execution_count": 1281,
      "outputs": [
        {
          "output_type": "execute_result",
          "data": {
            "text/plain": [
              "         genre                                             lyrics\n",
              "0    Christian   Who am I, that the Lord of all the earth Woul...\n",
              "1    Christian   Glory Revealed  By His Wounds He was pierced ...\n",
              "2    Christian   Lord of heaven and earth Lord of all creation...\n",
              "3    Christian   I can only imagine what it will be like When ...\n",
              "4    Christian   I am not skilled to understand What God has w...\n",
              "..         ...                                                ...\n",
              "553        R&B   Ha I dont care ha, about your past I just wan...\n",
              "554        R&B   Hoverin by my suitcase  Tryin to find a warm ...\n",
              "555        R&B   I dont know why I love you like I do  After a...\n",
              "556        R&B   C. C. Rider Elvis Presley  Well now see., C. ...\n",
              "557        R&B   Cynthia get up and dance to the music!  Get o...\n",
              "\n",
              "[558 rows x 2 columns]"
            ],
            "text/html": [
              "\n",
              "  <div id=\"df-2ff9f699-f223-4e31-a699-6f858d4c8a03\">\n",
              "    <div class=\"colab-df-container\">\n",
              "      <div>\n",
              "<style scoped>\n",
              "    .dataframe tbody tr th:only-of-type {\n",
              "        vertical-align: middle;\n",
              "    }\n",
              "\n",
              "    .dataframe tbody tr th {\n",
              "        vertical-align: top;\n",
              "    }\n",
              "\n",
              "    .dataframe thead th {\n",
              "        text-align: right;\n",
              "    }\n",
              "</style>\n",
              "<table border=\"1\" class=\"dataframe\">\n",
              "  <thead>\n",
              "    <tr style=\"text-align: right;\">\n",
              "      <th></th>\n",
              "      <th>genre</th>\n",
              "      <th>lyrics</th>\n",
              "    </tr>\n",
              "  </thead>\n",
              "  <tbody>\n",
              "    <tr>\n",
              "      <th>0</th>\n",
              "      <td>Christian</td>\n",
              "      <td>Who am I, that the Lord of all the earth Woul...</td>\n",
              "    </tr>\n",
              "    <tr>\n",
              "      <th>1</th>\n",
              "      <td>Christian</td>\n",
              "      <td>Glory Revealed  By His Wounds He was pierced ...</td>\n",
              "    </tr>\n",
              "    <tr>\n",
              "      <th>2</th>\n",
              "      <td>Christian</td>\n",
              "      <td>Lord of heaven and earth Lord of all creation...</td>\n",
              "    </tr>\n",
              "    <tr>\n",
              "      <th>3</th>\n",
              "      <td>Christian</td>\n",
              "      <td>I can only imagine what it will be like When ...</td>\n",
              "    </tr>\n",
              "    <tr>\n",
              "      <th>4</th>\n",
              "      <td>Christian</td>\n",
              "      <td>I am not skilled to understand What God has w...</td>\n",
              "    </tr>\n",
              "    <tr>\n",
              "      <th>...</th>\n",
              "      <td>...</td>\n",
              "      <td>...</td>\n",
              "    </tr>\n",
              "    <tr>\n",
              "      <th>553</th>\n",
              "      <td>R&amp;B</td>\n",
              "      <td>Ha I dont care ha, about your past I just wan...</td>\n",
              "    </tr>\n",
              "    <tr>\n",
              "      <th>554</th>\n",
              "      <td>R&amp;B</td>\n",
              "      <td>Hoverin by my suitcase  Tryin to find a warm ...</td>\n",
              "    </tr>\n",
              "    <tr>\n",
              "      <th>555</th>\n",
              "      <td>R&amp;B</td>\n",
              "      <td>I dont know why I love you like I do  After a...</td>\n",
              "    </tr>\n",
              "    <tr>\n",
              "      <th>556</th>\n",
              "      <td>R&amp;B</td>\n",
              "      <td>C. C. Rider Elvis Presley  Well now see., C. ...</td>\n",
              "    </tr>\n",
              "    <tr>\n",
              "      <th>557</th>\n",
              "      <td>R&amp;B</td>\n",
              "      <td>Cynthia get up and dance to the music!  Get o...</td>\n",
              "    </tr>\n",
              "  </tbody>\n",
              "</table>\n",
              "<p>558 rows × 2 columns</p>\n",
              "</div>\n",
              "      <button class=\"colab-df-convert\" onclick=\"convertToInteractive('df-2ff9f699-f223-4e31-a699-6f858d4c8a03')\"\n",
              "              title=\"Convert this dataframe to an interactive table.\"\n",
              "              style=\"display:none;\">\n",
              "        \n",
              "  <svg xmlns=\"http://www.w3.org/2000/svg\" height=\"24px\"viewBox=\"0 0 24 24\"\n",
              "       width=\"24px\">\n",
              "    <path d=\"M0 0h24v24H0V0z\" fill=\"none\"/>\n",
              "    <path d=\"M18.56 5.44l.94 2.06.94-2.06 2.06-.94-2.06-.94-.94-2.06-.94 2.06-2.06.94zm-11 1L8.5 8.5l.94-2.06 2.06-.94-2.06-.94L8.5 2.5l-.94 2.06-2.06.94zm10 10l.94 2.06.94-2.06 2.06-.94-2.06-.94-.94-2.06-.94 2.06-2.06.94z\"/><path d=\"M17.41 7.96l-1.37-1.37c-.4-.4-.92-.59-1.43-.59-.52 0-1.04.2-1.43.59L10.3 9.45l-7.72 7.72c-.78.78-.78 2.05 0 2.83L4 21.41c.39.39.9.59 1.41.59.51 0 1.02-.2 1.41-.59l7.78-7.78 2.81-2.81c.8-.78.8-2.07 0-2.86zM5.41 20L4 18.59l7.72-7.72 1.47 1.35L5.41 20z\"/>\n",
              "  </svg>\n",
              "      </button>\n",
              "      \n",
              "  <style>\n",
              "    .colab-df-container {\n",
              "      display:flex;\n",
              "      flex-wrap:wrap;\n",
              "      gap: 12px;\n",
              "    }\n",
              "\n",
              "    .colab-df-convert {\n",
              "      background-color: #E8F0FE;\n",
              "      border: none;\n",
              "      border-radius: 50%;\n",
              "      cursor: pointer;\n",
              "      display: none;\n",
              "      fill: #1967D2;\n",
              "      height: 32px;\n",
              "      padding: 0 0 0 0;\n",
              "      width: 32px;\n",
              "    }\n",
              "\n",
              "    .colab-df-convert:hover {\n",
              "      background-color: #E2EBFA;\n",
              "      box-shadow: 0px 1px 2px rgba(60, 64, 67, 0.3), 0px 1px 3px 1px rgba(60, 64, 67, 0.15);\n",
              "      fill: #174EA6;\n",
              "    }\n",
              "\n",
              "    [theme=dark] .colab-df-convert {\n",
              "      background-color: #3B4455;\n",
              "      fill: #D2E3FC;\n",
              "    }\n",
              "\n",
              "    [theme=dark] .colab-df-convert:hover {\n",
              "      background-color: #434B5C;\n",
              "      box-shadow: 0px 1px 3px 1px rgba(0, 0, 0, 0.15);\n",
              "      filter: drop-shadow(0px 1px 2px rgba(0, 0, 0, 0.3));\n",
              "      fill: #FFFFFF;\n",
              "    }\n",
              "  </style>\n",
              "\n",
              "      <script>\n",
              "        const buttonEl =\n",
              "          document.querySelector('#df-2ff9f699-f223-4e31-a699-6f858d4c8a03 button.colab-df-convert');\n",
              "        buttonEl.style.display =\n",
              "          google.colab.kernel.accessAllowed ? 'block' : 'none';\n",
              "\n",
              "        async function convertToInteractive(key) {\n",
              "          const element = document.querySelector('#df-2ff9f699-f223-4e31-a699-6f858d4c8a03');\n",
              "          const dataTable =\n",
              "            await google.colab.kernel.invokeFunction('convertToInteractive',\n",
              "                                                     [key], {});\n",
              "          if (!dataTable) return;\n",
              "\n",
              "          const docLinkHtml = 'Like what you see? Visit the ' +\n",
              "            '<a target=\"_blank\" href=https://colab.research.google.com/notebooks/data_table.ipynb>data table notebook</a>'\n",
              "            + ' to learn more about interactive tables.';\n",
              "          element.innerHTML = '';\n",
              "          dataTable['output_type'] = 'display_data';\n",
              "          await google.colab.output.renderOutput(dataTable, element);\n",
              "          const docLink = document.createElement('div');\n",
              "          docLink.innerHTML = docLinkHtml;\n",
              "          element.appendChild(docLink);\n",
              "        }\n",
              "      </script>\n",
              "    </div>\n",
              "  </div>\n",
              "  "
            ]
          },
          "metadata": {},
          "execution_count": 1281
        }
      ]
    },
    {
      "cell_type": "markdown",
      "source": [
        "выводим уникальные значения столбца жанра, чтобы узнать, какие есть жанры"
      ],
      "metadata": {
        "id": "SCBjru_L9XKG"
      }
    },
    {
      "cell_type": "code",
      "source": [
        "columns['genre'].unique()"
      ],
      "metadata": {
        "colab": {
          "base_uri": "https://localhost:8080/"
        },
        "id": "jwa6ZJd09ePD",
        "outputId": "31367577-4227-4a58-f3aa-71d453c499b3"
      },
      "execution_count": 1282,
      "outputs": [
        {
          "output_type": "execute_result",
          "data": {
            "text/plain": [
              "array(['Christian', 'Country', 'Hip-Hop', 'Pop', 'Rock', 'R&B'],\n",
              "      dtype=object)"
            ]
          },
          "metadata": {},
          "execution_count": 1282
        }
      ]
    },
    {
      "cell_type": "markdown",
      "source": [
        "прочитаем сколько всего песен каждого жанра"
      ],
      "metadata": {
        "id": "gqt_g3As9p7N"
      }
    },
    {
      "cell_type": "code",
      "source": [
        "columns['genre'].value_counts()"
      ],
      "metadata": {
        "colab": {
          "base_uri": "https://localhost:8080/"
        },
        "id": "DiHCTJoH9sZT",
        "outputId": "134c71ba-3839-4092-e7ff-837634f7e560"
      },
      "execution_count": 1283,
      "outputs": [
        {
          "output_type": "execute_result",
          "data": {
            "text/plain": [
              "Pop          100\n",
              "Rock          95\n",
              "Christian     94\n",
              "Hip-Hop       91\n",
              "R&B           91\n",
              "Country       87\n",
              "Name: genre, dtype: int64"
            ]
          },
          "metadata": {},
          "execution_count": 1283
        }
      ]
    },
    {
      "cell_type": "code",
      "source": [
        "columns = columns[(columns.genre == 'Christian') | (columns.genre == 'Rock')]"
      ],
      "metadata": {
        "id": "W45r_p-596OK"
      },
      "execution_count": 1284,
      "outputs": []
    },
    {
      "cell_type": "markdown",
      "source": [
        "привожу все слова в текстах оставленных жанров к нижнему регистру"
      ],
      "metadata": {
        "id": "Cqj9r8-5-WXt"
      }
    },
    {
      "cell_type": "code",
      "source": [
        "lowered = columns['lyrics'].str.lower()\n",
        "columns['lowered'] = lowered"
      ],
      "metadata": {
        "colab": {
          "base_uri": "https://localhost:8080/"
        },
        "id": "5Ds-HeFz-aV5",
        "outputId": "5a911720-204d-4389-99bd-b3abab25f7b9"
      },
      "execution_count": 1285,
      "outputs": [
        {
          "output_type": "stream",
          "name": "stderr",
          "text": [
            "/usr/local/lib/python3.7/dist-packages/ipykernel_launcher.py:2: SettingWithCopyWarning: \n",
            "A value is trying to be set on a copy of a slice from a DataFrame.\n",
            "Try using .loc[row_indexer,col_indexer] = value instead\n",
            "\n",
            "See the caveats in the documentation: https://pandas.pydata.org/pandas-docs/stable/user_guide/indexing.html#returning-a-view-versus-a-copy\n",
            "  \n"
          ]
        }
      ]
    },
    {
      "cell_type": "markdown",
      "source": [
        "разбиваю тексты на отдельные слова - провожу токенизацию"
      ],
      "metadata": {
        "id": "7ijBqdIr-fMO"
      }
    },
    {
      "cell_type": "code",
      "source": [
        "import nltk\n",
        "from nltk.tokenize import word_tokenize\n",
        "nltk.download('punkt')"
      ],
      "metadata": {
        "colab": {
          "base_uri": "https://localhost:8080/"
        },
        "id": "VIwJjyIo-jns",
        "outputId": "5c08686f-31e1-4348-f711-7da1a676da2d"
      },
      "execution_count": 1286,
      "outputs": [
        {
          "output_type": "stream",
          "name": "stderr",
          "text": [
            "[nltk_data] Downloading package punkt to /root/nltk_data...\n",
            "[nltk_data]   Package punkt is already up-to-date!\n"
          ]
        },
        {
          "output_type": "execute_result",
          "data": {
            "text/plain": [
              "True"
            ]
          },
          "metadata": {},
          "execution_count": 1286
        }
      ]
    },
    {
      "cell_type": "code",
      "source": [
        "tokened = columns.apply(lambda row: nltk.word_tokenize(row['lowered']), axis=1)\n",
        "columns['tokened'] = tokened"
      ],
      "metadata": {
        "colab": {
          "base_uri": "https://localhost:8080/"
        },
        "id": "21jIzVuE-lxn",
        "outputId": "76009350-57b5-4a5d-fc68-b5afcdf93fed"
      },
      "execution_count": 1287,
      "outputs": [
        {
          "output_type": "stream",
          "name": "stderr",
          "text": [
            "/usr/local/lib/python3.7/dist-packages/ipykernel_launcher.py:2: SettingWithCopyWarning: \n",
            "A value is trying to be set on a copy of a slice from a DataFrame.\n",
            "Try using .loc[row_indexer,col_indexer] = value instead\n",
            "\n",
            "See the caveats in the documentation: https://pandas.pydata.org/pandas-docs/stable/user_guide/indexing.html#returning-a-view-versus-a-copy\n",
            "  \n"
          ]
        }
      ]
    },
    {
      "cell_type": "markdown",
      "source": [
        "удаляю стоп-слова"
      ],
      "metadata": {
        "id": "ya_fyj4N-qxi"
      }
    },
    {
      "cell_type": "code",
      "source": [
        "nltk.download('stopwords')\n",
        "from nltk.corpus import stopwords\n",
        "noise = stopwords.words('english')\n",
        "\n",
        "withoutstop = columns['tokened'].apply(lambda x: [item for item in x if item not in noise])\n",
        "\n",
        "without_stop = []\n",
        "for a in withoutstop:    \n",
        "    without_stop.append(\", \".join(a))\n",
        "\n",
        "columns['without_stop'] = without_stop"
      ],
      "metadata": {
        "colab": {
          "base_uri": "https://localhost:8080/"
        },
        "id": "NsDNbqge-tGu",
        "outputId": "05bb0113-008e-445c-fc84-3c9ec8d2f41a"
      },
      "execution_count": 1288,
      "outputs": [
        {
          "output_type": "stream",
          "name": "stderr",
          "text": [
            "[nltk_data] Downloading package stopwords to /root/nltk_data...\n",
            "[nltk_data]   Package stopwords is already up-to-date!\n",
            "/usr/local/lib/python3.7/dist-packages/ipykernel_launcher.py:11: SettingWithCopyWarning: \n",
            "A value is trying to be set on a copy of a slice from a DataFrame.\n",
            "Try using .loc[row_indexer,col_indexer] = value instead\n",
            "\n",
            "See the caveats in the documentation: https://pandas.pydata.org/pandas-docs/stable/user_guide/indexing.html#returning-a-view-versus-a-copy\n",
            "  # This is added back by InteractiveShellApp.init_path()\n"
          ]
        }
      ]
    },
    {
      "cell_type": "markdown",
      "source": [
        "привожу все слова к исходной форме (лемматизация)"
      ],
      "metadata": {
        "id": "SF2Vmiy7_hzw"
      }
    },
    {
      "cell_type": "code",
      "source": [
        "from nltk.stem import WordNetLemmatizer \n",
        "nltk.download('wordnet')\n",
        "lemmatizer = WordNetLemmatizer()"
      ],
      "metadata": {
        "colab": {
          "base_uri": "https://localhost:8080/"
        },
        "id": "GaeAl8CF_mW9",
        "outputId": "784abfad-a666-405b-ede7-80f3614852c4"
      },
      "execution_count": 1289,
      "outputs": [
        {
          "output_type": "stream",
          "name": "stderr",
          "text": [
            "[nltk_data] Downloading package wordnet to /root/nltk_data...\n",
            "[nltk_data]   Package wordnet is already up-to-date!\n"
          ]
        }
      ]
    },
    {
      "cell_type": "code",
      "source": [
        "lemmatized = columns['without_stop'].apply(lambda x: [lemmatizer.lemmatize(x)])"
      ],
      "metadata": {
        "id": "BvEwkRy2_3C6"
      },
      "execution_count": 1290,
      "outputs": []
    },
    {
      "cell_type": "code",
      "source": [
        "lemma = []\n",
        "for a in lemmatized:    \n",
        "    lemma.append(\", \".join(a))"
      ],
      "metadata": {
        "id": "spcEbeZ8AseT"
      },
      "execution_count": 1291,
      "outputs": []
    },
    {
      "cell_type": "code",
      "source": [
        "columns['lemmatized'] = lemma"
      ],
      "metadata": {
        "colab": {
          "base_uri": "https://localhost:8080/"
        },
        "id": "xOi7GlVwAtF5",
        "outputId": "7255788b-a9b2-42c5-9a4c-b32a5f71e3d0"
      },
      "execution_count": 1292,
      "outputs": [
        {
          "output_type": "stream",
          "name": "stderr",
          "text": [
            "/usr/local/lib/python3.7/dist-packages/ipykernel_launcher.py:1: SettingWithCopyWarning: \n",
            "A value is trying to be set on a copy of a slice from a DataFrame.\n",
            "Try using .loc[row_indexer,col_indexer] = value instead\n",
            "\n",
            "See the caveats in the documentation: https://pandas.pydata.org/pandas-docs/stable/user_guide/indexing.html#returning-a-view-versus-a-copy\n",
            "  \"\"\"Entry point for launching an IPython kernel.\n"
          ]
        }
      ]
    },
    {
      "cell_type": "markdown",
      "source": [
        "посмотрим на полученные даные:"
      ],
      "metadata": {
        "id": "t7BWj0x9Ayc3"
      }
    },
    {
      "cell_type": "code",
      "source": [
        "columns"
      ],
      "metadata": {
        "colab": {
          "base_uri": "https://localhost:8080/",
          "height": 0
        },
        "id": "xzVAizZhAxYd",
        "outputId": "d327324e-f73e-4a67-e330-3158932f1eb6"
      },
      "execution_count": 1293,
      "outputs": [
        {
          "output_type": "execute_result",
          "data": {
            "text/plain": [
              "         genre                                             lyrics  \\\n",
              "0    Christian   Who am I, that the Lord of all the earth Woul...   \n",
              "1    Christian   Glory Revealed  By His Wounds He was pierced ...   \n",
              "2    Christian   Lord of heaven and earth Lord of all creation...   \n",
              "3    Christian   I can only imagine what it will be like When ...   \n",
              "4    Christian   I am not skilled to understand What God has w...   \n",
              "..         ...                                                ...   \n",
              "462       Rock   Cant explain all the feelings that youre maki...   \n",
              "463       Rock   One foot on the brake and one on the gas, hey...   \n",
              "464       Rock   Carry on my wayward son Therell be peace when...   \n",
              "465       Rock   Ooh yeah Turn it up Come on  Im working hard,...   \n",
              "466       Rock   Out on the road for forty days Last night in ...   \n",
              "\n",
              "                                               lowered  \\\n",
              "0     who am i, that the lord of all the earth woul...   \n",
              "1     glory revealed  by his wounds he was pierced ...   \n",
              "2     lord of heaven and earth lord of all creation...   \n",
              "3     i can only imagine what it will be like when ...   \n",
              "4     i am not skilled to understand what god has w...   \n",
              "..                                                 ...   \n",
              "462   cant explain all the feelings that youre maki...   \n",
              "463   one foot on the brake and one on the gas, hey...   \n",
              "464   carry on my wayward son therell be peace when...   \n",
              "465   ooh yeah turn it up come on  im working hard,...   \n",
              "466   out on the road for forty days last night in ...   \n",
              "\n",
              "                                               tokened  \\\n",
              "0    [who, am, i, ,, that, the, lord, of, all, the,...   \n",
              "1    [glory, revealed, by, his, wounds, he, was, pi...   \n",
              "2    [lord, of, heaven, and, earth, lord, of, all, ...   \n",
              "3    [i, can, only, imagine, what, it, will, be, li...   \n",
              "4    [i, am, not, skilled, to, understand, what, go...   \n",
              "..                                                 ...   \n",
              "462  [cant, explain, all, the, feelings, that, your...   \n",
              "463  [one, foot, on, the, brake, and, one, on, the,...   \n",
              "464  [carry, on, my, wayward, son, therell, be, pea...   \n",
              "465  [ooh, yeah, turn, it, up, come, on, im, workin...   \n",
              "466  [out, on, the, road, for, forty, days, last, n...   \n",
              "\n",
              "                                          without_stop  \\\n",
              "0    ,, lord, earth, would, care, know, name, would...   \n",
              "1    glory, revealed, wounds, pierced, transgressio...   \n",
              "2    lord, heaven, earth, lord, creation, lord, hea...   \n",
              "3    imagine, like, walk, side, imagine, eyes, see,...   \n",
              "4    skilled, understand, god, willed, ,, god, plan...   \n",
              "..                                                 ...   \n",
              "462  cant, explain, feelings, youre, making, feel, ...   \n",
              "463  one, foot, brake, one, gas, ,, hey, well, ,, t...   \n",
              "464  carry, wayward, son, therell, peace, done, lay...   \n",
              "465  ooh, yeah, turn, come, im, working, hard, ,, y...   \n",
              "466  road, forty, days, last, night, little, rock, ...   \n",
              "\n",
              "                                            lemmatized  \n",
              "0    ,, lord, earth, would, care, know, name, would...  \n",
              "1    glory, revealed, wounds, pierced, transgressio...  \n",
              "2    lord, heaven, earth, lord, creation, lord, hea...  \n",
              "3    imagine, like, walk, side, imagine, eyes, see,...  \n",
              "4    skilled, understand, god, willed, ,, god, plan...  \n",
              "..                                                 ...  \n",
              "462  cant, explain, feelings, youre, making, feel, ...  \n",
              "463  one, foot, brake, one, gas, ,, hey, well, ,, t...  \n",
              "464  carry, wayward, son, therell, peace, done, lay...  \n",
              "465  ooh, yeah, turn, come, im, working, hard, ,, y...  \n",
              "466  road, forty, days, last, night, little, rock, ...  \n",
              "\n",
              "[189 rows x 6 columns]"
            ],
            "text/html": [
              "\n",
              "  <div id=\"df-11ebc82c-9b76-4b96-906e-2f50558170fc\">\n",
              "    <div class=\"colab-df-container\">\n",
              "      <div>\n",
              "<style scoped>\n",
              "    .dataframe tbody tr th:only-of-type {\n",
              "        vertical-align: middle;\n",
              "    }\n",
              "\n",
              "    .dataframe tbody tr th {\n",
              "        vertical-align: top;\n",
              "    }\n",
              "\n",
              "    .dataframe thead th {\n",
              "        text-align: right;\n",
              "    }\n",
              "</style>\n",
              "<table border=\"1\" class=\"dataframe\">\n",
              "  <thead>\n",
              "    <tr style=\"text-align: right;\">\n",
              "      <th></th>\n",
              "      <th>genre</th>\n",
              "      <th>lyrics</th>\n",
              "      <th>lowered</th>\n",
              "      <th>tokened</th>\n",
              "      <th>without_stop</th>\n",
              "      <th>lemmatized</th>\n",
              "    </tr>\n",
              "  </thead>\n",
              "  <tbody>\n",
              "    <tr>\n",
              "      <th>0</th>\n",
              "      <td>Christian</td>\n",
              "      <td>Who am I, that the Lord of all the earth Woul...</td>\n",
              "      <td>who am i, that the lord of all the earth woul...</td>\n",
              "      <td>[who, am, i, ,, that, the, lord, of, all, the,...</td>\n",
              "      <td>,, lord, earth, would, care, know, name, would...</td>\n",
              "      <td>,, lord, earth, would, care, know, name, would...</td>\n",
              "    </tr>\n",
              "    <tr>\n",
              "      <th>1</th>\n",
              "      <td>Christian</td>\n",
              "      <td>Glory Revealed  By His Wounds He was pierced ...</td>\n",
              "      <td>glory revealed  by his wounds he was pierced ...</td>\n",
              "      <td>[glory, revealed, by, his, wounds, he, was, pi...</td>\n",
              "      <td>glory, revealed, wounds, pierced, transgressio...</td>\n",
              "      <td>glory, revealed, wounds, pierced, transgressio...</td>\n",
              "    </tr>\n",
              "    <tr>\n",
              "      <th>2</th>\n",
              "      <td>Christian</td>\n",
              "      <td>Lord of heaven and earth Lord of all creation...</td>\n",
              "      <td>lord of heaven and earth lord of all creation...</td>\n",
              "      <td>[lord, of, heaven, and, earth, lord, of, all, ...</td>\n",
              "      <td>lord, heaven, earth, lord, creation, lord, hea...</td>\n",
              "      <td>lord, heaven, earth, lord, creation, lord, hea...</td>\n",
              "    </tr>\n",
              "    <tr>\n",
              "      <th>3</th>\n",
              "      <td>Christian</td>\n",
              "      <td>I can only imagine what it will be like When ...</td>\n",
              "      <td>i can only imagine what it will be like when ...</td>\n",
              "      <td>[i, can, only, imagine, what, it, will, be, li...</td>\n",
              "      <td>imagine, like, walk, side, imagine, eyes, see,...</td>\n",
              "      <td>imagine, like, walk, side, imagine, eyes, see,...</td>\n",
              "    </tr>\n",
              "    <tr>\n",
              "      <th>4</th>\n",
              "      <td>Christian</td>\n",
              "      <td>I am not skilled to understand What God has w...</td>\n",
              "      <td>i am not skilled to understand what god has w...</td>\n",
              "      <td>[i, am, not, skilled, to, understand, what, go...</td>\n",
              "      <td>skilled, understand, god, willed, ,, god, plan...</td>\n",
              "      <td>skilled, understand, god, willed, ,, god, plan...</td>\n",
              "    </tr>\n",
              "    <tr>\n",
              "      <th>...</th>\n",
              "      <td>...</td>\n",
              "      <td>...</td>\n",
              "      <td>...</td>\n",
              "      <td>...</td>\n",
              "      <td>...</td>\n",
              "      <td>...</td>\n",
              "    </tr>\n",
              "    <tr>\n",
              "      <th>462</th>\n",
              "      <td>Rock</td>\n",
              "      <td>Cant explain all the feelings that youre maki...</td>\n",
              "      <td>cant explain all the feelings that youre maki...</td>\n",
              "      <td>[cant, explain, all, the, feelings, that, your...</td>\n",
              "      <td>cant, explain, feelings, youre, making, feel, ...</td>\n",
              "      <td>cant, explain, feelings, youre, making, feel, ...</td>\n",
              "    </tr>\n",
              "    <tr>\n",
              "      <th>463</th>\n",
              "      <td>Rock</td>\n",
              "      <td>One foot on the brake and one on the gas, hey...</td>\n",
              "      <td>one foot on the brake and one on the gas, hey...</td>\n",
              "      <td>[one, foot, on, the, brake, and, one, on, the,...</td>\n",
              "      <td>one, foot, brake, one, gas, ,, hey, well, ,, t...</td>\n",
              "      <td>one, foot, brake, one, gas, ,, hey, well, ,, t...</td>\n",
              "    </tr>\n",
              "    <tr>\n",
              "      <th>464</th>\n",
              "      <td>Rock</td>\n",
              "      <td>Carry on my wayward son Therell be peace when...</td>\n",
              "      <td>carry on my wayward son therell be peace when...</td>\n",
              "      <td>[carry, on, my, wayward, son, therell, be, pea...</td>\n",
              "      <td>carry, wayward, son, therell, peace, done, lay...</td>\n",
              "      <td>carry, wayward, son, therell, peace, done, lay...</td>\n",
              "    </tr>\n",
              "    <tr>\n",
              "      <th>465</th>\n",
              "      <td>Rock</td>\n",
              "      <td>Ooh yeah Turn it up Come on  Im working hard,...</td>\n",
              "      <td>ooh yeah turn it up come on  im working hard,...</td>\n",
              "      <td>[ooh, yeah, turn, it, up, come, on, im, workin...</td>\n",
              "      <td>ooh, yeah, turn, come, im, working, hard, ,, y...</td>\n",
              "      <td>ooh, yeah, turn, come, im, working, hard, ,, y...</td>\n",
              "    </tr>\n",
              "    <tr>\n",
              "      <th>466</th>\n",
              "      <td>Rock</td>\n",
              "      <td>Out on the road for forty days Last night in ...</td>\n",
              "      <td>out on the road for forty days last night in ...</td>\n",
              "      <td>[out, on, the, road, for, forty, days, last, n...</td>\n",
              "      <td>road, forty, days, last, night, little, rock, ...</td>\n",
              "      <td>road, forty, days, last, night, little, rock, ...</td>\n",
              "    </tr>\n",
              "  </tbody>\n",
              "</table>\n",
              "<p>189 rows × 6 columns</p>\n",
              "</div>\n",
              "      <button class=\"colab-df-convert\" onclick=\"convertToInteractive('df-11ebc82c-9b76-4b96-906e-2f50558170fc')\"\n",
              "              title=\"Convert this dataframe to an interactive table.\"\n",
              "              style=\"display:none;\">\n",
              "        \n",
              "  <svg xmlns=\"http://www.w3.org/2000/svg\" height=\"24px\"viewBox=\"0 0 24 24\"\n",
              "       width=\"24px\">\n",
              "    <path d=\"M0 0h24v24H0V0z\" fill=\"none\"/>\n",
              "    <path d=\"M18.56 5.44l.94 2.06.94-2.06 2.06-.94-2.06-.94-.94-2.06-.94 2.06-2.06.94zm-11 1L8.5 8.5l.94-2.06 2.06-.94-2.06-.94L8.5 2.5l-.94 2.06-2.06.94zm10 10l.94 2.06.94-2.06 2.06-.94-2.06-.94-.94-2.06-.94 2.06-2.06.94z\"/><path d=\"M17.41 7.96l-1.37-1.37c-.4-.4-.92-.59-1.43-.59-.52 0-1.04.2-1.43.59L10.3 9.45l-7.72 7.72c-.78.78-.78 2.05 0 2.83L4 21.41c.39.39.9.59 1.41.59.51 0 1.02-.2 1.41-.59l7.78-7.78 2.81-2.81c.8-.78.8-2.07 0-2.86zM5.41 20L4 18.59l7.72-7.72 1.47 1.35L5.41 20z\"/>\n",
              "  </svg>\n",
              "      </button>\n",
              "      \n",
              "  <style>\n",
              "    .colab-df-container {\n",
              "      display:flex;\n",
              "      flex-wrap:wrap;\n",
              "      gap: 12px;\n",
              "    }\n",
              "\n",
              "    .colab-df-convert {\n",
              "      background-color: #E8F0FE;\n",
              "      border: none;\n",
              "      border-radius: 50%;\n",
              "      cursor: pointer;\n",
              "      display: none;\n",
              "      fill: #1967D2;\n",
              "      height: 32px;\n",
              "      padding: 0 0 0 0;\n",
              "      width: 32px;\n",
              "    }\n",
              "\n",
              "    .colab-df-convert:hover {\n",
              "      background-color: #E2EBFA;\n",
              "      box-shadow: 0px 1px 2px rgba(60, 64, 67, 0.3), 0px 1px 3px 1px rgba(60, 64, 67, 0.15);\n",
              "      fill: #174EA6;\n",
              "    }\n",
              "\n",
              "    [theme=dark] .colab-df-convert {\n",
              "      background-color: #3B4455;\n",
              "      fill: #D2E3FC;\n",
              "    }\n",
              "\n",
              "    [theme=dark] .colab-df-convert:hover {\n",
              "      background-color: #434B5C;\n",
              "      box-shadow: 0px 1px 3px 1px rgba(0, 0, 0, 0.15);\n",
              "      filter: drop-shadow(0px 1px 2px rgba(0, 0, 0, 0.3));\n",
              "      fill: #FFFFFF;\n",
              "    }\n",
              "  </style>\n",
              "\n",
              "      <script>\n",
              "        const buttonEl =\n",
              "          document.querySelector('#df-11ebc82c-9b76-4b96-906e-2f50558170fc button.colab-df-convert');\n",
              "        buttonEl.style.display =\n",
              "          google.colab.kernel.accessAllowed ? 'block' : 'none';\n",
              "\n",
              "        async function convertToInteractive(key) {\n",
              "          const element = document.querySelector('#df-11ebc82c-9b76-4b96-906e-2f50558170fc');\n",
              "          const dataTable =\n",
              "            await google.colab.kernel.invokeFunction('convertToInteractive',\n",
              "                                                     [key], {});\n",
              "          if (!dataTable) return;\n",
              "\n",
              "          const docLinkHtml = 'Like what you see? Visit the ' +\n",
              "            '<a target=\"_blank\" href=https://colab.research.google.com/notebooks/data_table.ipynb>data table notebook</a>'\n",
              "            + ' to learn more about interactive tables.';\n",
              "          element.innerHTML = '';\n",
              "          dataTable['output_type'] = 'display_data';\n",
              "          await google.colab.output.renderOutput(dataTable, element);\n",
              "          const docLink = document.createElement('div');\n",
              "          docLink.innerHTML = docLinkHtml;\n",
              "          element.appendChild(docLink);\n",
              "        }\n",
              "      </script>\n",
              "    </div>\n",
              "  </div>\n",
              "  "
            ]
          },
          "metadata": {},
          "execution_count": 1293
        }
      ]
    },
    {
      "cell_type": "markdown",
      "source": [
        "разделяем данные на обучающую и тестовую выборки:"
      ],
      "metadata": {
        "id": "A9ed0OVAA8_o"
      }
    },
    {
      "cell_type": "code",
      "source": [
        "from sklearn.model_selection import train_test_split \n",
        "x_train, x_test, y_train, y_test = train_test_split(columns.lemmatized, columns.genre, train_size = 0.7)"
      ],
      "metadata": {
        "id": "5oo_WzdxBDgL"
      },
      "execution_count": 1294,
      "outputs": []
    },
    {
      "cell_type": "code",
      "source": [
        "columns.genre.value_counts()"
      ],
      "metadata": {
        "colab": {
          "base_uri": "https://localhost:8080/"
        },
        "id": "B4lzblQQBGJm",
        "outputId": "d5e6de34-5892-4cfe-f651-3b03a6ed5b18"
      },
      "execution_count": 1295,
      "outputs": [
        {
          "output_type": "execute_result",
          "data": {
            "text/plain": [
              "Rock         95\n",
              "Christian    94\n",
              "Name: genre, dtype: int64"
            ]
          },
          "metadata": {},
          "execution_count": 1295
        }
      ]
    },
    {
      "cell_type": "markdown",
      "source": [
        "импортируем библиотеку для вектрозиации - представления текста в численном виде для использования данных на модели"
      ],
      "metadata": {
        "id": "yT2lviggBj0h"
      }
    },
    {
      "cell_type": "code",
      "source": [
        "from sklearn.feature_extraction.text import CountVectorizer"
      ],
      "metadata": {
        "id": "NzKLUjSYBt72"
      },
      "execution_count": 1296,
      "outputs": []
    },
    {
      "cell_type": "markdown",
      "source": [
        "используем все варианты значения n - униграммы, биграммы и триграммы"
      ],
      "metadata": {
        "id": "HJDQaA9nBvkb"
      }
    },
    {
      "cell_type": "code",
      "source": [
        "vectorizer = CountVectorizer(ngram_range=(1, 3))\n",
        "vectorized_x_train = vectorizer.fit_transform(x_train)"
      ],
      "metadata": {
        "id": "oVPIivy2B2B9"
      },
      "execution_count": 1297,
      "outputs": []
    },
    {
      "cell_type": "markdown",
      "source": [
        "для классификации используем Наивный Байесовскй Классификатор"
      ],
      "metadata": {
        "id": "1x9FVNRcCBQv"
      }
    },
    {
      "cell_type": "markdown",
      "source": [
        "импортируем классификатор"
      ],
      "metadata": {
        "id": "I0H5Pg_tCHWF"
      }
    },
    {
      "cell_type": "code",
      "source": [
        "from sklearn.naive_bayes import MultinomialNB "
      ],
      "metadata": {
        "id": "B8Hw8W5pCJsN"
      },
      "execution_count": 1298,
      "outputs": []
    },
    {
      "cell_type": "code",
      "source": [
        "clf = MultinomialNB()\n",
        "clf.fit(vectorized_x_train, y_train)"
      ],
      "metadata": {
        "colab": {
          "base_uri": "https://localhost:8080/"
        },
        "id": "dZbOT8B6CLbe",
        "outputId": "cac846e4-d93e-47a5-b7a3-463e2d05e73c"
      },
      "execution_count": 1299,
      "outputs": [
        {
          "output_type": "execute_result",
          "data": {
            "text/plain": [
              "MultinomialNB()"
            ]
          },
          "metadata": {},
          "execution_count": 1299
        }
      ]
    },
    {
      "cell_type": "markdown",
      "source": [
        "векторизируем выборку"
      ],
      "metadata": {
        "id": "aYw10Vd3CM3U"
      }
    },
    {
      "cell_type": "code",
      "source": [
        "vectorized_x_test = vectorizer.transform(x_test)"
      ],
      "metadata": {
        "id": "Q734KBnKCPoU"
      },
      "execution_count": 1300,
      "outputs": []
    },
    {
      "cell_type": "markdown",
      "source": [
        "посмотрим предсказания для выборки"
      ],
      "metadata": {
        "id": "N6_7LyLeCSSw"
      }
    },
    {
      "cell_type": "code",
      "source": [
        "clf.predict(vectorized_x_test)"
      ],
      "metadata": {
        "colab": {
          "base_uri": "https://localhost:8080/"
        },
        "id": "g98nCixrCWMe",
        "outputId": "ee95f2f4-4a52-4455-f673-4326572af0ea"
      },
      "execution_count": 1301,
      "outputs": [
        {
          "output_type": "execute_result",
          "data": {
            "text/plain": [
              "array(['Rock', 'Rock', 'Christian', 'Rock', 'Christian', 'Rock',\n",
              "       'Christian', 'Christian', 'Christian', 'Christian', 'Christian',\n",
              "       'Christian', 'Christian', 'Rock', 'Christian', 'Christian', 'Rock',\n",
              "       'Rock', 'Christian', 'Christian', 'Christian', 'Christian', 'Rock',\n",
              "       'Christian', 'Rock', 'Rock', 'Christian', 'Christian', 'Christian',\n",
              "       'Rock', 'Rock', 'Christian', 'Rock', 'Rock', 'Christian', 'Rock',\n",
              "       'Christian', 'Rock', 'Rock', 'Christian', 'Rock', 'Rock',\n",
              "       'Christian', 'Rock', 'Christian', 'Christian', 'Rock', 'Christian',\n",
              "       'Rock', 'Rock', 'Rock', 'Rock', 'Rock', 'Rock', 'Rock', 'Rock',\n",
              "       'Rock'], dtype='<U9')"
            ]
          },
          "metadata": {},
          "execution_count": 1301
        }
      ]
    },
    {
      "cell_type": "markdown",
      "source": [
        "получаем оценку классификации"
      ],
      "metadata": {
        "id": "V5CEwQk4CYD5"
      }
    },
    {
      "cell_type": "code",
      "source": [
        "from sklearn.metrics import * \n",
        "pred = clf.predict(vectorized_x_test)\n",
        "print(classification_report(y_test, pred))"
      ],
      "metadata": {
        "colab": {
          "base_uri": "https://localhost:8080/"
        },
        "id": "a0sqzbSPCc_L",
        "outputId": "df381c79-4041-4440-c980-63f8398fac9e"
      },
      "execution_count": 1302,
      "outputs": [
        {
          "output_type": "stream",
          "name": "stdout",
          "text": [
            "              precision    recall  f1-score   support\n",
            "\n",
            "   Christian       0.89      0.89      0.89        27\n",
            "        Rock       0.90      0.90      0.90        30\n",
            "\n",
            "    accuracy                           0.89        57\n",
            "   macro avg       0.89      0.89      0.89        57\n",
            "weighted avg       0.89      0.89      0.89        57\n",
            "\n"
          ]
        }
      ]
    },
    {
      "cell_type": "markdown",
      "source": [
        "показатель accuracy равен 0.93 ура победа"
      ],
      "metadata": {
        "id": "GaEhZLlQCk5U"
      }
    },
    {
      "cell_type": "markdown",
      "source": [
        "# **Задание 2**"
      ],
      "metadata": {
        "id": "iyx0bXZ1EjuG"
      }
    },
    {
      "cell_type": "markdown",
      "source": [
        "добавляем тексты песен"
      ],
      "metadata": {
        "id": "fCLo_QoULzp1"
      }
    },
    {
      "cell_type": "code",
      "source": [
        "song1_lyrics = '''Foo Fighters The Colour And The Shape Everlong Hello  Ive waited here for you  Everlong   Tonight   I throw myself into  and out of the red out of her head she sang   Come down and waste away with me  down with me  Slow out you wanted it to be  over my head, out of my head she sang  and I wonder  when I sing along with you  If everything could ever feel this real forever  If anything could ever be this good again  the only thing Ill ever ask of you  youve got to promise not to stop when I say when  she sang  Breathe out  so I can breathe you in  Hold you in   and now  I know youve always been  out of your head out of my head i sang   and I wonder  If everything could ever feel this real forever  If anything could ever be this good again  the only thing Ill ever ask of you  youve got to promise not to stop when I say when '''\n",
        "\n",
        "song2_lyrics = ''' Who taught the sun where to stand in the morning? And who told the ocean you can only come this far? And who showed the moon where to hide till evening? Whose words alone can catch a falling star? Well I know my Redeemer lives I know my Redeemer lives All of creation testifies this life within me cries  I know my Redeemer lives ye-e-eah The very same God that spins things in orbit runs to the weary, the worn and the weak and the same gentle hands that hold me when Im broken  they conquered death to bring me victory Now I know, my Redeemer lives I know my Redeemer lives let all creation testify Let this life within me cry I-I-I know My Redeemer  He lives to take away my shame and He lives forever Ill proclaim that the payment for my sin  was the precious life He gave and now Hes alive and theres an empty grave! And I know  my Redeemer lives He lives I know my Redeemer lives  let all creation testify Let this life within me cry I-I-I know my Redeemer I know my Redeemer lives I know my Redeemer lives I know, That I know, that I know, that i know, that I know He lives Because He lives I can face tomorrow  He lives I know, I know He lives I spoke with Him this morning! He lives The tomb is empty He lives Im going to tell everybody!'''\n",
        "\n",
        "song1_genre = \"Rock\"\n",
        "song2_genre = \"Christian\""
      ],
      "metadata": {
        "id": "rs1or3y7L2BJ"
      },
      "execution_count": 1303,
      "outputs": []
    },
    {
      "cell_type": "markdown",
      "source": [
        "создаем датасет из вышеуказанных элементов"
      ],
      "metadata": {
        "id": "vWCrYitSPe5A"
      }
    },
    {
      "cell_type": "code",
      "source": [
        "songs_dataset = pd.DataFrame(data = {\"genre\":[song2_genre,song1_genre],\"lyrics\":[song2_lyrics,song1_lyrics]})"
      ],
      "metadata": {
        "id": "OYvA-GSSPmhu"
      },
      "execution_count": 1304,
      "outputs": []
    },
    {
      "cell_type": "markdown",
      "source": [
        "приводим к нижнему регистру"
      ],
      "metadata": {
        "id": "QU-roSACQFA2"
      }
    },
    {
      "cell_type": "code",
      "source": [
        "lowered = songs_dataset['lyrics'].str.lower()\n",
        "songs_dataset['lowered'] = lowered"
      ],
      "metadata": {
        "id": "gPx82n-BQL3o"
      },
      "execution_count": 1305,
      "outputs": []
    },
    {
      "cell_type": "markdown",
      "source": [
        "разбиваем на отдельные слова:"
      ],
      "metadata": {
        "id": "xc_NTMeMQYGx"
      }
    },
    {
      "cell_type": "code",
      "source": [
        "tokened = songs_dataset.apply(lambda row: nltk.word_tokenize(row['lowered']), axis=1)\n",
        "songs_dataset['tokened'] = tokened"
      ],
      "metadata": {
        "id": "UG8nn8koQarm"
      },
      "execution_count": 1306,
      "outputs": []
    },
    {
      "cell_type": "markdown",
      "source": [
        "удаляем стоп-слова:"
      ],
      "metadata": {
        "id": "JU8PMnpmQiGD"
      }
    },
    {
      "cell_type": "code",
      "source": [
        "withoutstop = songs_dataset['tokened'].apply(lambda x: [item for item in x if item not in noise])\n",
        "\n",
        "without_stop = []\n",
        "for a in withoutstop:    \n",
        "    without_stop.append(\", \".join(a))\n",
        "\n",
        "songs_dataset['without_stop'] = without_stop"
      ],
      "metadata": {
        "id": "wsurqjxcQktR"
      },
      "execution_count": 1307,
      "outputs": []
    },
    {
      "cell_type": "markdown",
      "source": [
        "лемматизация"
      ],
      "metadata": {
        "id": "a8Ez7O5zQ6S7"
      }
    },
    {
      "cell_type": "code",
      "source": [
        "lemmatized = songs_dataset['without_stop'].apply(lambda x: [lemmatizer.lemmatize(x)])"
      ],
      "metadata": {
        "id": "oBB2jMkGQ8sM"
      },
      "execution_count": 1308,
      "outputs": []
    },
    {
      "cell_type": "code",
      "source": [
        "lemma = []\n",
        "for a in lemmatized:    \n",
        "    lemma.append(\", \".join(a))"
      ],
      "metadata": {
        "id": "nV9u0LTvRB2j"
      },
      "execution_count": 1309,
      "outputs": []
    },
    {
      "cell_type": "code",
      "source": [
        "songs_dataset['lemmatized'] = lemma"
      ],
      "metadata": {
        "id": "0DRAodBnRDIt"
      },
      "execution_count": 1310,
      "outputs": []
    },
    {
      "cell_type": "code",
      "source": [
        "songs_dataset"
      ],
      "metadata": {
        "colab": {
          "base_uri": "https://localhost:8080/",
          "height": 0
        },
        "id": "pLnAeY4TRT1C",
        "outputId": "96c178a8-41fb-40a8-8e57-8498b2559ed2"
      },
      "execution_count": 1311,
      "outputs": [
        {
          "output_type": "execute_result",
          "data": {
            "text/plain": [
              "       genre                                             lyrics  \\\n",
              "0  Christian   Who taught the sun where to stand in the morn...   \n",
              "1       Rock  Foo Fighters The Colour And The Shape Everlong...   \n",
              "\n",
              "                                             lowered  \\\n",
              "0   who taught the sun where to stand in the morn...   \n",
              "1  foo fighters the colour and the shape everlong...   \n",
              "\n",
              "                                             tokened  \\\n",
              "0  [who, taught, the, sun, where, to, stand, in, ...   \n",
              "1  [foo, fighters, the, colour, and, the, shape, ...   \n",
              "\n",
              "                                        without_stop  \\\n",
              "0  taught, sun, stand, morning, ?, told, ocean, c...   \n",
              "1  foo, fighters, colour, shape, everlong, hello,...   \n",
              "\n",
              "                                          lemmatized  \n",
              "0  taught, sun, stand, morning, ?, told, ocean, c...  \n",
              "1  foo, fighters, colour, shape, everlong, hello,...  "
            ],
            "text/html": [
              "\n",
              "  <div id=\"df-290984d1-f93b-4195-9224-c9cb864e9eb3\">\n",
              "    <div class=\"colab-df-container\">\n",
              "      <div>\n",
              "<style scoped>\n",
              "    .dataframe tbody tr th:only-of-type {\n",
              "        vertical-align: middle;\n",
              "    }\n",
              "\n",
              "    .dataframe tbody tr th {\n",
              "        vertical-align: top;\n",
              "    }\n",
              "\n",
              "    .dataframe thead th {\n",
              "        text-align: right;\n",
              "    }\n",
              "</style>\n",
              "<table border=\"1\" class=\"dataframe\">\n",
              "  <thead>\n",
              "    <tr style=\"text-align: right;\">\n",
              "      <th></th>\n",
              "      <th>genre</th>\n",
              "      <th>lyrics</th>\n",
              "      <th>lowered</th>\n",
              "      <th>tokened</th>\n",
              "      <th>without_stop</th>\n",
              "      <th>lemmatized</th>\n",
              "    </tr>\n",
              "  </thead>\n",
              "  <tbody>\n",
              "    <tr>\n",
              "      <th>0</th>\n",
              "      <td>Christian</td>\n",
              "      <td>Who taught the sun where to stand in the morn...</td>\n",
              "      <td>who taught the sun where to stand in the morn...</td>\n",
              "      <td>[who, taught, the, sun, where, to, stand, in, ...</td>\n",
              "      <td>taught, sun, stand, morning, ?, told, ocean, c...</td>\n",
              "      <td>taught, sun, stand, morning, ?, told, ocean, c...</td>\n",
              "    </tr>\n",
              "    <tr>\n",
              "      <th>1</th>\n",
              "      <td>Rock</td>\n",
              "      <td>Foo Fighters The Colour And The Shape Everlong...</td>\n",
              "      <td>foo fighters the colour and the shape everlong...</td>\n",
              "      <td>[foo, fighters, the, colour, and, the, shape, ...</td>\n",
              "      <td>foo, fighters, colour, shape, everlong, hello,...</td>\n",
              "      <td>foo, fighters, colour, shape, everlong, hello,...</td>\n",
              "    </tr>\n",
              "  </tbody>\n",
              "</table>\n",
              "</div>\n",
              "      <button class=\"colab-df-convert\" onclick=\"convertToInteractive('df-290984d1-f93b-4195-9224-c9cb864e9eb3')\"\n",
              "              title=\"Convert this dataframe to an interactive table.\"\n",
              "              style=\"display:none;\">\n",
              "        \n",
              "  <svg xmlns=\"http://www.w3.org/2000/svg\" height=\"24px\"viewBox=\"0 0 24 24\"\n",
              "       width=\"24px\">\n",
              "    <path d=\"M0 0h24v24H0V0z\" fill=\"none\"/>\n",
              "    <path d=\"M18.56 5.44l.94 2.06.94-2.06 2.06-.94-2.06-.94-.94-2.06-.94 2.06-2.06.94zm-11 1L8.5 8.5l.94-2.06 2.06-.94-2.06-.94L8.5 2.5l-.94 2.06-2.06.94zm10 10l.94 2.06.94-2.06 2.06-.94-2.06-.94-.94-2.06-.94 2.06-2.06.94z\"/><path d=\"M17.41 7.96l-1.37-1.37c-.4-.4-.92-.59-1.43-.59-.52 0-1.04.2-1.43.59L10.3 9.45l-7.72 7.72c-.78.78-.78 2.05 0 2.83L4 21.41c.39.39.9.59 1.41.59.51 0 1.02-.2 1.41-.59l7.78-7.78 2.81-2.81c.8-.78.8-2.07 0-2.86zM5.41 20L4 18.59l7.72-7.72 1.47 1.35L5.41 20z\"/>\n",
              "  </svg>\n",
              "      </button>\n",
              "      \n",
              "  <style>\n",
              "    .colab-df-container {\n",
              "      display:flex;\n",
              "      flex-wrap:wrap;\n",
              "      gap: 12px;\n",
              "    }\n",
              "\n",
              "    .colab-df-convert {\n",
              "      background-color: #E8F0FE;\n",
              "      border: none;\n",
              "      border-radius: 50%;\n",
              "      cursor: pointer;\n",
              "      display: none;\n",
              "      fill: #1967D2;\n",
              "      height: 32px;\n",
              "      padding: 0 0 0 0;\n",
              "      width: 32px;\n",
              "    }\n",
              "\n",
              "    .colab-df-convert:hover {\n",
              "      background-color: #E2EBFA;\n",
              "      box-shadow: 0px 1px 2px rgba(60, 64, 67, 0.3), 0px 1px 3px 1px rgba(60, 64, 67, 0.15);\n",
              "      fill: #174EA6;\n",
              "    }\n",
              "\n",
              "    [theme=dark] .colab-df-convert {\n",
              "      background-color: #3B4455;\n",
              "      fill: #D2E3FC;\n",
              "    }\n",
              "\n",
              "    [theme=dark] .colab-df-convert:hover {\n",
              "      background-color: #434B5C;\n",
              "      box-shadow: 0px 1px 3px 1px rgba(0, 0, 0, 0.15);\n",
              "      filter: drop-shadow(0px 1px 2px rgba(0, 0, 0, 0.3));\n",
              "      fill: #FFFFFF;\n",
              "    }\n",
              "  </style>\n",
              "\n",
              "      <script>\n",
              "        const buttonEl =\n",
              "          document.querySelector('#df-290984d1-f93b-4195-9224-c9cb864e9eb3 button.colab-df-convert');\n",
              "        buttonEl.style.display =\n",
              "          google.colab.kernel.accessAllowed ? 'block' : 'none';\n",
              "\n",
              "        async function convertToInteractive(key) {\n",
              "          const element = document.querySelector('#df-290984d1-f93b-4195-9224-c9cb864e9eb3');\n",
              "          const dataTable =\n",
              "            await google.colab.kernel.invokeFunction('convertToInteractive',\n",
              "                                                     [key], {});\n",
              "          if (!dataTable) return;\n",
              "\n",
              "          const docLinkHtml = 'Like what you see? Visit the ' +\n",
              "            '<a target=\"_blank\" href=https://colab.research.google.com/notebooks/data_table.ipynb>data table notebook</a>'\n",
              "            + ' to learn more about interactive tables.';\n",
              "          element.innerHTML = '';\n",
              "          dataTable['output_type'] = 'display_data';\n",
              "          await google.colab.output.renderOutput(dataTable, element);\n",
              "          const docLink = document.createElement('div');\n",
              "          docLink.innerHTML = docLinkHtml;\n",
              "          element.appendChild(docLink);\n",
              "        }\n",
              "      </script>\n",
              "    </div>\n",
              "  </div>\n",
              "  "
            ]
          },
          "metadata": {},
          "execution_count": 1311
        }
      ]
    },
    {
      "cell_type": "code",
      "source": [
        "x_test = songs_dataset['lyrics'].squeeze()\n",
        "y_test = songs_dataset['genre'].squeeze()"
      ],
      "metadata": {
        "id": "ToV82bqGxREY"
      },
      "execution_count": 1312,
      "outputs": []
    },
    {
      "cell_type": "code",
      "source": [
        "vectorized_x_test = vectorizer.transform(x_test)"
      ],
      "metadata": {
        "id": "v-DO6VXtya3U"
      },
      "execution_count": 1313,
      "outputs": []
    },
    {
      "cell_type": "code",
      "source": [
        "pred = clf.predict(vectorized_x_test)\n",
        "print(classification_report(y_test, pred))"
      ],
      "metadata": {
        "colab": {
          "base_uri": "https://localhost:8080/"
        },
        "id": "08JLmyWGdq_w",
        "outputId": "7fddb25e-36ce-432a-b00c-fc0005f11f04"
      },
      "execution_count": 1314,
      "outputs": [
        {
          "output_type": "stream",
          "name": "stdout",
          "text": [
            "              precision    recall  f1-score   support\n",
            "\n",
            "   Christian       1.00      1.00      1.00         1\n",
            "        Rock       1.00      1.00      1.00         1\n",
            "\n",
            "    accuracy                           1.00         2\n",
            "   macro avg       1.00      1.00      1.00         2\n",
            "weighted avg       1.00      1.00      1.00         2\n",
            "\n"
          ]
        }
      ]
    },
    {
      "cell_type": "markdown",
      "source": [
        "# **Задание 3**"
      ],
      "metadata": {
        "id": "p2hQqiAYzI0R"
      }
    },
    {
      "cell_type": "code",
      "source": [
        "data = pd.read_csv(\"/content/drive/MyDrive/modern-instruments-for-data-analysing-itmo/dataset-lyrics-musics-mini.csv\")\n",
        "columns = data[['cantorNome', 'letra']]\n",
        "columns"
      ],
      "metadata": {
        "colab": {
          "base_uri": "https://localhost:8080/",
          "height": 424
        },
        "id": "Sk6uJ2-OzfJ8",
        "outputId": "12bbe92f-8d66-4788-9c8c-ad057cb3f795"
      },
      "execution_count": 1315,
      "outputs": [
        {
          "output_type": "execute_result",
          "data": {
            "text/plain": [
              "       cantorNome                                              letra\n",
              "0     david-bowie  I, I will be king. And you, you will be queen....\n",
              "1     david-bowie  Didn't know what time it was,. The lights were...\n",
              "2     david-bowie  Ground control to Major Tom. Ground control to...\n",
              "3     david-bowie  It's a god-awful small affair. To the girl wit...\n",
              "4     david-bowie  I know when to go out. And when to stay in. Ge...\n",
              "...           ...                                                ...\n",
              "1743        ac-dc  The video game says Play me. Face it on a leve...\n",
              "1744        ac-dc  Wanna tell you a story. 'Bout a woman I know. ...\n",
              "1745        ac-dc  You can roll me round your finger. You can rol...\n",
              "1746        ac-dc  She was a fast machine. She kept the motor cle...\n",
              "1747        ac-dc  Give me a big beat. Now here this, now here th...\n",
              "\n",
              "[1748 rows x 2 columns]"
            ],
            "text/html": [
              "\n",
              "  <div id=\"df-1dcacd7e-1bc1-45e1-b5e3-eb738bd63659\">\n",
              "    <div class=\"colab-df-container\">\n",
              "      <div>\n",
              "<style scoped>\n",
              "    .dataframe tbody tr th:only-of-type {\n",
              "        vertical-align: middle;\n",
              "    }\n",
              "\n",
              "    .dataframe tbody tr th {\n",
              "        vertical-align: top;\n",
              "    }\n",
              "\n",
              "    .dataframe thead th {\n",
              "        text-align: right;\n",
              "    }\n",
              "</style>\n",
              "<table border=\"1\" class=\"dataframe\">\n",
              "  <thead>\n",
              "    <tr style=\"text-align: right;\">\n",
              "      <th></th>\n",
              "      <th>cantorNome</th>\n",
              "      <th>letra</th>\n",
              "    </tr>\n",
              "  </thead>\n",
              "  <tbody>\n",
              "    <tr>\n",
              "      <th>0</th>\n",
              "      <td>david-bowie</td>\n",
              "      <td>I, I will be king. And you, you will be queen....</td>\n",
              "    </tr>\n",
              "    <tr>\n",
              "      <th>1</th>\n",
              "      <td>david-bowie</td>\n",
              "      <td>Didn't know what time it was,. The lights were...</td>\n",
              "    </tr>\n",
              "    <tr>\n",
              "      <th>2</th>\n",
              "      <td>david-bowie</td>\n",
              "      <td>Ground control to Major Tom. Ground control to...</td>\n",
              "    </tr>\n",
              "    <tr>\n",
              "      <th>3</th>\n",
              "      <td>david-bowie</td>\n",
              "      <td>It's a god-awful small affair. To the girl wit...</td>\n",
              "    </tr>\n",
              "    <tr>\n",
              "      <th>4</th>\n",
              "      <td>david-bowie</td>\n",
              "      <td>I know when to go out. And when to stay in. Ge...</td>\n",
              "    </tr>\n",
              "    <tr>\n",
              "      <th>...</th>\n",
              "      <td>...</td>\n",
              "      <td>...</td>\n",
              "    </tr>\n",
              "    <tr>\n",
              "      <th>1743</th>\n",
              "      <td>ac-dc</td>\n",
              "      <td>The video game says Play me. Face it on a leve...</td>\n",
              "    </tr>\n",
              "    <tr>\n",
              "      <th>1744</th>\n",
              "      <td>ac-dc</td>\n",
              "      <td>Wanna tell you a story. 'Bout a woman I know. ...</td>\n",
              "    </tr>\n",
              "    <tr>\n",
              "      <th>1745</th>\n",
              "      <td>ac-dc</td>\n",
              "      <td>You can roll me round your finger. You can rol...</td>\n",
              "    </tr>\n",
              "    <tr>\n",
              "      <th>1746</th>\n",
              "      <td>ac-dc</td>\n",
              "      <td>She was a fast machine. She kept the motor cle...</td>\n",
              "    </tr>\n",
              "    <tr>\n",
              "      <th>1747</th>\n",
              "      <td>ac-dc</td>\n",
              "      <td>Give me a big beat. Now here this, now here th...</td>\n",
              "    </tr>\n",
              "  </tbody>\n",
              "</table>\n",
              "<p>1748 rows × 2 columns</p>\n",
              "</div>\n",
              "      <button class=\"colab-df-convert\" onclick=\"convertToInteractive('df-1dcacd7e-1bc1-45e1-b5e3-eb738bd63659')\"\n",
              "              title=\"Convert this dataframe to an interactive table.\"\n",
              "              style=\"display:none;\">\n",
              "        \n",
              "  <svg xmlns=\"http://www.w3.org/2000/svg\" height=\"24px\"viewBox=\"0 0 24 24\"\n",
              "       width=\"24px\">\n",
              "    <path d=\"M0 0h24v24H0V0z\" fill=\"none\"/>\n",
              "    <path d=\"M18.56 5.44l.94 2.06.94-2.06 2.06-.94-2.06-.94-.94-2.06-.94 2.06-2.06.94zm-11 1L8.5 8.5l.94-2.06 2.06-.94-2.06-.94L8.5 2.5l-.94 2.06-2.06.94zm10 10l.94 2.06.94-2.06 2.06-.94-2.06-.94-.94-2.06-.94 2.06-2.06.94z\"/><path d=\"M17.41 7.96l-1.37-1.37c-.4-.4-.92-.59-1.43-.59-.52 0-1.04.2-1.43.59L10.3 9.45l-7.72 7.72c-.78.78-.78 2.05 0 2.83L4 21.41c.39.39.9.59 1.41.59.51 0 1.02-.2 1.41-.59l7.78-7.78 2.81-2.81c.8-.78.8-2.07 0-2.86zM5.41 20L4 18.59l7.72-7.72 1.47 1.35L5.41 20z\"/>\n",
              "  </svg>\n",
              "      </button>\n",
              "      \n",
              "  <style>\n",
              "    .colab-df-container {\n",
              "      display:flex;\n",
              "      flex-wrap:wrap;\n",
              "      gap: 12px;\n",
              "    }\n",
              "\n",
              "    .colab-df-convert {\n",
              "      background-color: #E8F0FE;\n",
              "      border: none;\n",
              "      border-radius: 50%;\n",
              "      cursor: pointer;\n",
              "      display: none;\n",
              "      fill: #1967D2;\n",
              "      height: 32px;\n",
              "      padding: 0 0 0 0;\n",
              "      width: 32px;\n",
              "    }\n",
              "\n",
              "    .colab-df-convert:hover {\n",
              "      background-color: #E2EBFA;\n",
              "      box-shadow: 0px 1px 2px rgba(60, 64, 67, 0.3), 0px 1px 3px 1px rgba(60, 64, 67, 0.15);\n",
              "      fill: #174EA6;\n",
              "    }\n",
              "\n",
              "    [theme=dark] .colab-df-convert {\n",
              "      background-color: #3B4455;\n",
              "      fill: #D2E3FC;\n",
              "    }\n",
              "\n",
              "    [theme=dark] .colab-df-convert:hover {\n",
              "      background-color: #434B5C;\n",
              "      box-shadow: 0px 1px 3px 1px rgba(0, 0, 0, 0.15);\n",
              "      filter: drop-shadow(0px 1px 2px rgba(0, 0, 0, 0.3));\n",
              "      fill: #FFFFFF;\n",
              "    }\n",
              "  </style>\n",
              "\n",
              "      <script>\n",
              "        const buttonEl =\n",
              "          document.querySelector('#df-1dcacd7e-1bc1-45e1-b5e3-eb738bd63659 button.colab-df-convert');\n",
              "        buttonEl.style.display =\n",
              "          google.colab.kernel.accessAllowed ? 'block' : 'none';\n",
              "\n",
              "        async function convertToInteractive(key) {\n",
              "          const element = document.querySelector('#df-1dcacd7e-1bc1-45e1-b5e3-eb738bd63659');\n",
              "          const dataTable =\n",
              "            await google.colab.kernel.invokeFunction('convertToInteractive',\n",
              "                                                     [key], {});\n",
              "          if (!dataTable) return;\n",
              "\n",
              "          const docLinkHtml = 'Like what you see? Visit the ' +\n",
              "            '<a target=\"_blank\" href=https://colab.research.google.com/notebooks/data_table.ipynb>data table notebook</a>'\n",
              "            + ' to learn more about interactive tables.';\n",
              "          element.innerHTML = '';\n",
              "          dataTable['output_type'] = 'display_data';\n",
              "          await google.colab.output.renderOutput(dataTable, element);\n",
              "          const docLink = document.createElement('div');\n",
              "          docLink.innerHTML = docLinkHtml;\n",
              "          element.appendChild(docLink);\n",
              "        }\n",
              "      </script>\n",
              "    </div>\n",
              "  </div>\n",
              "  "
            ]
          },
          "metadata": {},
          "execution_count": 1315
        }
      ]
    },
    {
      "cell_type": "code",
      "source": [
        "columns = columns[(columns.cantorNome == 'david-bowie') | (columns.cantorNome == 'paul-mccartney')]\n",
        "\n",
        "lowered = columns['letra'].str.lower()\n",
        "columns['lowered'] = lowered"
      ],
      "metadata": {
        "colab": {
          "base_uri": "https://localhost:8080/"
        },
        "id": "prs-Q5Ax0AEp",
        "outputId": "45fa98ea-db77-4d27-ca6b-f958d5bdc299"
      },
      "execution_count": 1316,
      "outputs": [
        {
          "output_type": "stream",
          "name": "stderr",
          "text": [
            "/usr/local/lib/python3.7/dist-packages/ipykernel_launcher.py:4: SettingWithCopyWarning: \n",
            "A value is trying to be set on a copy of a slice from a DataFrame.\n",
            "Try using .loc[row_indexer,col_indexer] = value instead\n",
            "\n",
            "See the caveats in the documentation: https://pandas.pydata.org/pandas-docs/stable/user_guide/indexing.html#returning-a-view-versus-a-copy\n",
            "  after removing the cwd from sys.path.\n"
          ]
        }
      ]
    },
    {
      "cell_type": "code",
      "source": [
        "tokened = columns.apply(lambda row: nltk.word_tokenize(row['lowered']), axis=1)\n",
        "columns['tokened'] = tokened"
      ],
      "metadata": {
        "colab": {
          "base_uri": "https://localhost:8080/"
        },
        "id": "g-NXF62X0aTa",
        "outputId": "150c175f-b132-4628-bc19-5e8c1e0352a8"
      },
      "execution_count": 1317,
      "outputs": [
        {
          "output_type": "stream",
          "name": "stderr",
          "text": [
            "/usr/local/lib/python3.7/dist-packages/ipykernel_launcher.py:2: SettingWithCopyWarning: \n",
            "A value is trying to be set on a copy of a slice from a DataFrame.\n",
            "Try using .loc[row_indexer,col_indexer] = value instead\n",
            "\n",
            "See the caveats in the documentation: https://pandas.pydata.org/pandas-docs/stable/user_guide/indexing.html#returning-a-view-versus-a-copy\n",
            "  \n"
          ]
        }
      ]
    },
    {
      "cell_type": "code",
      "source": [
        "withoutstop = columns['tokened'].apply(lambda x: [item for item in x if item not in noise])\n",
        "without_stop = []\n",
        "for a in withoutstop:    \n",
        "    without_stop.append(\", \".join(a))\n",
        "columns['without_stop'] = without_stop"
      ],
      "metadata": {
        "colab": {
          "base_uri": "https://localhost:8080/"
        },
        "id": "URqo9an90gNb",
        "outputId": "7ada36a4-e13f-4e16-e66c-54a84ab89289"
      },
      "execution_count": 1318,
      "outputs": [
        {
          "output_type": "stream",
          "name": "stderr",
          "text": [
            "/usr/local/lib/python3.7/dist-packages/ipykernel_launcher.py:5: SettingWithCopyWarning: \n",
            "A value is trying to be set on a copy of a slice from a DataFrame.\n",
            "Try using .loc[row_indexer,col_indexer] = value instead\n",
            "\n",
            "See the caveats in the documentation: https://pandas.pydata.org/pandas-docs/stable/user_guide/indexing.html#returning-a-view-versus-a-copy\n",
            "  \"\"\"\n"
          ]
        }
      ]
    },
    {
      "cell_type": "code",
      "source": [
        "lemmatized = columns['without_stop'].apply(lambda x: [lemmatizer.lemmatize(x)])\n",
        "lemma = []\n",
        "for a in lemmatized:    \n",
        "    lemma.append(\", \".join(a))\n",
        "columns['lemmatized'] = lemma"
      ],
      "metadata": {
        "colab": {
          "base_uri": "https://localhost:8080/"
        },
        "id": "Xup-k7Pr0k0Y",
        "outputId": "fadcb9d2-8117-4dc2-e0fd-27512f14accc"
      },
      "execution_count": 1319,
      "outputs": [
        {
          "output_type": "stream",
          "name": "stderr",
          "text": [
            "/usr/local/lib/python3.7/dist-packages/ipykernel_launcher.py:5: SettingWithCopyWarning: \n",
            "A value is trying to be set on a copy of a slice from a DataFrame.\n",
            "Try using .loc[row_indexer,col_indexer] = value instead\n",
            "\n",
            "See the caveats in the documentation: https://pandas.pydata.org/pandas-docs/stable/user_guide/indexing.html#returning-a-view-versus-a-copy\n",
            "  \"\"\"\n"
          ]
        }
      ]
    },
    {
      "cell_type": "code",
      "source": [
        "x_train, x_test, y_train, y_test = train_test_split(columns.lemmatized, columns.cantorNome, train_size = 0.7)"
      ],
      "metadata": {
        "id": "gShYemM20tsJ"
      },
      "execution_count": 1320,
      "outputs": []
    },
    {
      "cell_type": "code",
      "source": [
        "vectorizer = CountVectorizer(ngram_range=(1, 3))\n",
        "vectorized_x_train = vectorizer.fit_transform(x_train)"
      ],
      "metadata": {
        "id": "AZ8NXP1W01Xv"
      },
      "execution_count": 1321,
      "outputs": []
    },
    {
      "cell_type": "code",
      "source": [
        "clf = MultinomialNB()\n",
        "clf.fit(vectorized_x_train, y_train)\n",
        "\n",
        "vectorized_x_test = vectorizer.transform(x_test)\n",
        "\n",
        "pred = clf.predict(vectorized_x_test)\n",
        "print(classification_report(y_test, pred))"
      ],
      "metadata": {
        "colab": {
          "base_uri": "https://localhost:8080/"
        },
        "id": "CpvZCI7B03Tu",
        "outputId": "546423d5-ee6a-40a5-8519-301bf27ba148"
      },
      "execution_count": 1322,
      "outputs": [
        {
          "output_type": "stream",
          "name": "stdout",
          "text": [
            "                precision    recall  f1-score   support\n",
            "\n",
            "   david-bowie       0.76      0.73      0.75       153\n",
            "paul-mccartney       0.70      0.73      0.72       132\n",
            "\n",
            "      accuracy                           0.73       285\n",
            "     macro avg       0.73      0.73      0.73       285\n",
            "  weighted avg       0.73      0.73      0.73       285\n",
            "\n"
          ]
        }
      ]
    }
  ]
}