{
  "nbformat": 4,
  "nbformat_minor": 0,
  "metadata": {
    "colab": {
      "provenance": [],
      "mount_file_id": "1P302VfRKbtEgK9Y8D5VvzlxVfkewL892",
      "authorship_tag": "ABX9TyOKzk8rop0Zc4As/uAeKs/F",
      "include_colab_link": true
    },
    "kernelspec": {
      "name": "python3",
      "display_name": "Python 3"
    },
    "language_info": {
      "name": "python"
    }
  },
  "cells": [
    {
      "cell_type": "markdown",
      "metadata": {
        "id": "view-in-github",
        "colab_type": "text"
      },
      "source": [
        "<a href=\"https://colab.research.google.com/github/avetodef/modern-data-analysis-tools-itmo/blob/main/lab2_siad.ipynb\" target=\"_parent\"><img src=\"https://colab.research.google.com/assets/colab-badge.svg\" alt=\"Open In Colab\"/></a>"
      ]
    },
    {
      "cell_type": "markdown",
      "source": [
        "#**Лабораторная работа №2 - классификация текстов**"
      ],
      "metadata": {
        "id": "7ut0oTLI6oOR"
      }
    },
    {
      "cell_type": "markdown",
      "source": [
        "#**Задание 1**"
      ],
      "metadata": {
        "id": "uTixlmd_EImW"
      }
    },
    {
      "cell_type": "markdown",
      "source": [
        "Получаю два жанра, которые буду использовать в работе"
      ],
      "metadata": {
        "id": "WQC08gpQ60x0"
      }
    },
    {
      "cell_type": "code",
      "source": [],
      "metadata": {
        "id": "dhcLk0aSEiFo"
      },
      "execution_count": 836,
      "outputs": []
    },
    {
      "cell_type": "code",
      "source": [
        "import random\n",
        "lst = ['Christian', 'Country', 'Pop', 'Rock', 'R&B'] \n",
        "print('ваши жанры', random.choice(lst), 'и', random.choice(lst)) "
      ],
      "metadata": {
        "colab": {
          "base_uri": "https://localhost:8080/"
        },
        "id": "rxjiomES7EnP",
        "outputId": "8e04f56e-56f9-46bd-8325-30655a72060e"
      },
      "execution_count": 837,
      "outputs": [
        {
          "output_type": "stream",
          "name": "stdout",
          "text": [
            "ваши жанры Pop и Pop\n"
          ]
        }
      ]
    },
    {
      "cell_type": "markdown",
      "source": [
        "Жанры - Christian и Rock"
      ],
      "metadata": {
        "id": "9fOT2gQF7Ujq"
      }
    },
    {
      "cell_type": "markdown",
      "source": [
        "Для начала читаем набор данных:"
      ],
      "metadata": {
        "id": "aZ7Yxybf7hwl"
      }
    },
    {
      "cell_type": "code",
      "source": [
        "import pandas as pd\n",
        "data = pd.read_csv(\"/content/drive/MyDrive/modern-instruments-for-data-analysing-itmo/dataset.csv\")\n",
        "\n",
        "data.head()"
      ],
      "metadata": {
        "colab": {
          "base_uri": "https://localhost:8080/",
          "height": 337
        },
        "id": "T8ZSbTdj7keu",
        "outputId": "bce6beb5-6f29-447b-e2a4-a666aa617f09"
      },
      "execution_count": 838,
      "outputs": [
        {
          "output_type": "execute_result",
          "data": {
            "text/plain": [
              "       genre                                             lyrics  \\\n",
              "0  Christian   Who am I, that the Lord of all the earth Woul...   \n",
              "1  Christian   Glory Revealed  By His Wounds He was pierced ...   \n",
              "2  Christian   Lord of heaven and earth Lord of all creation...   \n",
              "3  Christian   I can only imagine what it will be like When ...   \n",
              "4  Christian   I am not skilled to understand What God has w...   \n",
              "\n",
              "                                 SongInfo  \n",
              "0        CASTING CROWNS - WHO AM I LYRICS  \n",
              "1   GLORY REVEALED - BY HIS WOUNDS LYRICS  \n",
              "2  CAEDMON'S CALL - GOD OF WONDERS LYRICS  \n",
              "3     MERCYME - I CAN ONLY IMAGINE LYRICS  \n",
              "4   AARON SHUST - MY SAVIOR MY GOD LYRICS  "
            ],
            "text/html": [
              "\n",
              "  <div id=\"df-7d7ab420-66fe-46b0-8303-032cfba9214a\">\n",
              "    <div class=\"colab-df-container\">\n",
              "      <div>\n",
              "<style scoped>\n",
              "    .dataframe tbody tr th:only-of-type {\n",
              "        vertical-align: middle;\n",
              "    }\n",
              "\n",
              "    .dataframe tbody tr th {\n",
              "        vertical-align: top;\n",
              "    }\n",
              "\n",
              "    .dataframe thead th {\n",
              "        text-align: right;\n",
              "    }\n",
              "</style>\n",
              "<table border=\"1\" class=\"dataframe\">\n",
              "  <thead>\n",
              "    <tr style=\"text-align: right;\">\n",
              "      <th></th>\n",
              "      <th>genre</th>\n",
              "      <th>lyrics</th>\n",
              "      <th>SongInfo</th>\n",
              "    </tr>\n",
              "  </thead>\n",
              "  <tbody>\n",
              "    <tr>\n",
              "      <th>0</th>\n",
              "      <td>Christian</td>\n",
              "      <td>Who am I, that the Lord of all the earth Woul...</td>\n",
              "      <td>CASTING CROWNS - WHO AM I LYRICS</td>\n",
              "    </tr>\n",
              "    <tr>\n",
              "      <th>1</th>\n",
              "      <td>Christian</td>\n",
              "      <td>Glory Revealed  By His Wounds He was pierced ...</td>\n",
              "      <td>GLORY REVEALED - BY HIS WOUNDS LYRICS</td>\n",
              "    </tr>\n",
              "    <tr>\n",
              "      <th>2</th>\n",
              "      <td>Christian</td>\n",
              "      <td>Lord of heaven and earth Lord of all creation...</td>\n",
              "      <td>CAEDMON'S CALL - GOD OF WONDERS LYRICS</td>\n",
              "    </tr>\n",
              "    <tr>\n",
              "      <th>3</th>\n",
              "      <td>Christian</td>\n",
              "      <td>I can only imagine what it will be like When ...</td>\n",
              "      <td>MERCYME - I CAN ONLY IMAGINE LYRICS</td>\n",
              "    </tr>\n",
              "    <tr>\n",
              "      <th>4</th>\n",
              "      <td>Christian</td>\n",
              "      <td>I am not skilled to understand What God has w...</td>\n",
              "      <td>AARON SHUST - MY SAVIOR MY GOD LYRICS</td>\n",
              "    </tr>\n",
              "  </tbody>\n",
              "</table>\n",
              "</div>\n",
              "      <button class=\"colab-df-convert\" onclick=\"convertToInteractive('df-7d7ab420-66fe-46b0-8303-032cfba9214a')\"\n",
              "              title=\"Convert this dataframe to an interactive table.\"\n",
              "              style=\"display:none;\">\n",
              "        \n",
              "  <svg xmlns=\"http://www.w3.org/2000/svg\" height=\"24px\"viewBox=\"0 0 24 24\"\n",
              "       width=\"24px\">\n",
              "    <path d=\"M0 0h24v24H0V0z\" fill=\"none\"/>\n",
              "    <path d=\"M18.56 5.44l.94 2.06.94-2.06 2.06-.94-2.06-.94-.94-2.06-.94 2.06-2.06.94zm-11 1L8.5 8.5l.94-2.06 2.06-.94-2.06-.94L8.5 2.5l-.94 2.06-2.06.94zm10 10l.94 2.06.94-2.06 2.06-.94-2.06-.94-.94-2.06-.94 2.06-2.06.94z\"/><path d=\"M17.41 7.96l-1.37-1.37c-.4-.4-.92-.59-1.43-.59-.52 0-1.04.2-1.43.59L10.3 9.45l-7.72 7.72c-.78.78-.78 2.05 0 2.83L4 21.41c.39.39.9.59 1.41.59.51 0 1.02-.2 1.41-.59l7.78-7.78 2.81-2.81c.8-.78.8-2.07 0-2.86zM5.41 20L4 18.59l7.72-7.72 1.47 1.35L5.41 20z\"/>\n",
              "  </svg>\n",
              "      </button>\n",
              "      \n",
              "  <style>\n",
              "    .colab-df-container {\n",
              "      display:flex;\n",
              "      flex-wrap:wrap;\n",
              "      gap: 12px;\n",
              "    }\n",
              "\n",
              "    .colab-df-convert {\n",
              "      background-color: #E8F0FE;\n",
              "      border: none;\n",
              "      border-radius: 50%;\n",
              "      cursor: pointer;\n",
              "      display: none;\n",
              "      fill: #1967D2;\n",
              "      height: 32px;\n",
              "      padding: 0 0 0 0;\n",
              "      width: 32px;\n",
              "    }\n",
              "\n",
              "    .colab-df-convert:hover {\n",
              "      background-color: #E2EBFA;\n",
              "      box-shadow: 0px 1px 2px rgba(60, 64, 67, 0.3), 0px 1px 3px 1px rgba(60, 64, 67, 0.15);\n",
              "      fill: #174EA6;\n",
              "    }\n",
              "\n",
              "    [theme=dark] .colab-df-convert {\n",
              "      background-color: #3B4455;\n",
              "      fill: #D2E3FC;\n",
              "    }\n",
              "\n",
              "    [theme=dark] .colab-df-convert:hover {\n",
              "      background-color: #434B5C;\n",
              "      box-shadow: 0px 1px 3px 1px rgba(0, 0, 0, 0.15);\n",
              "      filter: drop-shadow(0px 1px 2px rgba(0, 0, 0, 0.3));\n",
              "      fill: #FFFFFF;\n",
              "    }\n",
              "  </style>\n",
              "\n",
              "      <script>\n",
              "        const buttonEl =\n",
              "          document.querySelector('#df-7d7ab420-66fe-46b0-8303-032cfba9214a button.colab-df-convert');\n",
              "        buttonEl.style.display =\n",
              "          google.colab.kernel.accessAllowed ? 'block' : 'none';\n",
              "\n",
              "        async function convertToInteractive(key) {\n",
              "          const element = document.querySelector('#df-7d7ab420-66fe-46b0-8303-032cfba9214a');\n",
              "          const dataTable =\n",
              "            await google.colab.kernel.invokeFunction('convertToInteractive',\n",
              "                                                     [key], {});\n",
              "          if (!dataTable) return;\n",
              "\n",
              "          const docLinkHtml = 'Like what you see? Visit the ' +\n",
              "            '<a target=\"_blank\" href=https://colab.research.google.com/notebooks/data_table.ipynb>data table notebook</a>'\n",
              "            + ' to learn more about interactive tables.';\n",
              "          element.innerHTML = '';\n",
              "          dataTable['output_type'] = 'display_data';\n",
              "          await google.colab.output.renderOutput(dataTable, element);\n",
              "          const docLink = document.createElement('div');\n",
              "          docLink.innerHTML = docLinkHtml;\n",
              "          element.appendChild(docLink);\n",
              "        }\n",
              "      </script>\n",
              "    </div>\n",
              "  </div>\n",
              "  "
            ]
          },
          "metadata": {},
          "execution_count": 838
        }
      ]
    },
    {
      "cell_type": "code",
      "source": [
        "columns = data[['genre', 'lyrics']]\n",
        "columns"
      ],
      "metadata": {
        "colab": {
          "base_uri": "https://localhost:8080/",
          "height": 424
        },
        "id": "GNQTUNqw9TAr",
        "outputId": "f1dc2534-60cc-4839-f059-5a9faf35adb2"
      },
      "execution_count": 839,
      "outputs": [
        {
          "output_type": "execute_result",
          "data": {
            "text/plain": [
              "         genre                                             lyrics\n",
              "0    Christian   Who am I, that the Lord of all the earth Woul...\n",
              "1    Christian   Glory Revealed  By His Wounds He was pierced ...\n",
              "2    Christian   Lord of heaven and earth Lord of all creation...\n",
              "3    Christian   I can only imagine what it will be like When ...\n",
              "4    Christian   I am not skilled to understand What God has w...\n",
              "..         ...                                                ...\n",
              "553        R&B   Ha I dont care ha, about your past I just wan...\n",
              "554        R&B   Hoverin by my suitcase  Tryin to find a warm ...\n",
              "555        R&B   I dont know why I love you like I do  After a...\n",
              "556        R&B   C. C. Rider Elvis Presley  Well now see., C. ...\n",
              "557        R&B   Cynthia get up and dance to the music!  Get o...\n",
              "\n",
              "[558 rows x 2 columns]"
            ],
            "text/html": [
              "\n",
              "  <div id=\"df-e7bd5feb-ed88-41fa-8b9a-173a1f827ee3\">\n",
              "    <div class=\"colab-df-container\">\n",
              "      <div>\n",
              "<style scoped>\n",
              "    .dataframe tbody tr th:only-of-type {\n",
              "        vertical-align: middle;\n",
              "    }\n",
              "\n",
              "    .dataframe tbody tr th {\n",
              "        vertical-align: top;\n",
              "    }\n",
              "\n",
              "    .dataframe thead th {\n",
              "        text-align: right;\n",
              "    }\n",
              "</style>\n",
              "<table border=\"1\" class=\"dataframe\">\n",
              "  <thead>\n",
              "    <tr style=\"text-align: right;\">\n",
              "      <th></th>\n",
              "      <th>genre</th>\n",
              "      <th>lyrics</th>\n",
              "    </tr>\n",
              "  </thead>\n",
              "  <tbody>\n",
              "    <tr>\n",
              "      <th>0</th>\n",
              "      <td>Christian</td>\n",
              "      <td>Who am I, that the Lord of all the earth Woul...</td>\n",
              "    </tr>\n",
              "    <tr>\n",
              "      <th>1</th>\n",
              "      <td>Christian</td>\n",
              "      <td>Glory Revealed  By His Wounds He was pierced ...</td>\n",
              "    </tr>\n",
              "    <tr>\n",
              "      <th>2</th>\n",
              "      <td>Christian</td>\n",
              "      <td>Lord of heaven and earth Lord of all creation...</td>\n",
              "    </tr>\n",
              "    <tr>\n",
              "      <th>3</th>\n",
              "      <td>Christian</td>\n",
              "      <td>I can only imagine what it will be like When ...</td>\n",
              "    </tr>\n",
              "    <tr>\n",
              "      <th>4</th>\n",
              "      <td>Christian</td>\n",
              "      <td>I am not skilled to understand What God has w...</td>\n",
              "    </tr>\n",
              "    <tr>\n",
              "      <th>...</th>\n",
              "      <td>...</td>\n",
              "      <td>...</td>\n",
              "    </tr>\n",
              "    <tr>\n",
              "      <th>553</th>\n",
              "      <td>R&amp;B</td>\n",
              "      <td>Ha I dont care ha, about your past I just wan...</td>\n",
              "    </tr>\n",
              "    <tr>\n",
              "      <th>554</th>\n",
              "      <td>R&amp;B</td>\n",
              "      <td>Hoverin by my suitcase  Tryin to find a warm ...</td>\n",
              "    </tr>\n",
              "    <tr>\n",
              "      <th>555</th>\n",
              "      <td>R&amp;B</td>\n",
              "      <td>I dont know why I love you like I do  After a...</td>\n",
              "    </tr>\n",
              "    <tr>\n",
              "      <th>556</th>\n",
              "      <td>R&amp;B</td>\n",
              "      <td>C. C. Rider Elvis Presley  Well now see., C. ...</td>\n",
              "    </tr>\n",
              "    <tr>\n",
              "      <th>557</th>\n",
              "      <td>R&amp;B</td>\n",
              "      <td>Cynthia get up and dance to the music!  Get o...</td>\n",
              "    </tr>\n",
              "  </tbody>\n",
              "</table>\n",
              "<p>558 rows × 2 columns</p>\n",
              "</div>\n",
              "      <button class=\"colab-df-convert\" onclick=\"convertToInteractive('df-e7bd5feb-ed88-41fa-8b9a-173a1f827ee3')\"\n",
              "              title=\"Convert this dataframe to an interactive table.\"\n",
              "              style=\"display:none;\">\n",
              "        \n",
              "  <svg xmlns=\"http://www.w3.org/2000/svg\" height=\"24px\"viewBox=\"0 0 24 24\"\n",
              "       width=\"24px\">\n",
              "    <path d=\"M0 0h24v24H0V0z\" fill=\"none\"/>\n",
              "    <path d=\"M18.56 5.44l.94 2.06.94-2.06 2.06-.94-2.06-.94-.94-2.06-.94 2.06-2.06.94zm-11 1L8.5 8.5l.94-2.06 2.06-.94-2.06-.94L8.5 2.5l-.94 2.06-2.06.94zm10 10l.94 2.06.94-2.06 2.06-.94-2.06-.94-.94-2.06-.94 2.06-2.06.94z\"/><path d=\"M17.41 7.96l-1.37-1.37c-.4-.4-.92-.59-1.43-.59-.52 0-1.04.2-1.43.59L10.3 9.45l-7.72 7.72c-.78.78-.78 2.05 0 2.83L4 21.41c.39.39.9.59 1.41.59.51 0 1.02-.2 1.41-.59l7.78-7.78 2.81-2.81c.8-.78.8-2.07 0-2.86zM5.41 20L4 18.59l7.72-7.72 1.47 1.35L5.41 20z\"/>\n",
              "  </svg>\n",
              "      </button>\n",
              "      \n",
              "  <style>\n",
              "    .colab-df-container {\n",
              "      display:flex;\n",
              "      flex-wrap:wrap;\n",
              "      gap: 12px;\n",
              "    }\n",
              "\n",
              "    .colab-df-convert {\n",
              "      background-color: #E8F0FE;\n",
              "      border: none;\n",
              "      border-radius: 50%;\n",
              "      cursor: pointer;\n",
              "      display: none;\n",
              "      fill: #1967D2;\n",
              "      height: 32px;\n",
              "      padding: 0 0 0 0;\n",
              "      width: 32px;\n",
              "    }\n",
              "\n",
              "    .colab-df-convert:hover {\n",
              "      background-color: #E2EBFA;\n",
              "      box-shadow: 0px 1px 2px rgba(60, 64, 67, 0.3), 0px 1px 3px 1px rgba(60, 64, 67, 0.15);\n",
              "      fill: #174EA6;\n",
              "    }\n",
              "\n",
              "    [theme=dark] .colab-df-convert {\n",
              "      background-color: #3B4455;\n",
              "      fill: #D2E3FC;\n",
              "    }\n",
              "\n",
              "    [theme=dark] .colab-df-convert:hover {\n",
              "      background-color: #434B5C;\n",
              "      box-shadow: 0px 1px 3px 1px rgba(0, 0, 0, 0.15);\n",
              "      filter: drop-shadow(0px 1px 2px rgba(0, 0, 0, 0.3));\n",
              "      fill: #FFFFFF;\n",
              "    }\n",
              "  </style>\n",
              "\n",
              "      <script>\n",
              "        const buttonEl =\n",
              "          document.querySelector('#df-e7bd5feb-ed88-41fa-8b9a-173a1f827ee3 button.colab-df-convert');\n",
              "        buttonEl.style.display =\n",
              "          google.colab.kernel.accessAllowed ? 'block' : 'none';\n",
              "\n",
              "        async function convertToInteractive(key) {\n",
              "          const element = document.querySelector('#df-e7bd5feb-ed88-41fa-8b9a-173a1f827ee3');\n",
              "          const dataTable =\n",
              "            await google.colab.kernel.invokeFunction('convertToInteractive',\n",
              "                                                     [key], {});\n",
              "          if (!dataTable) return;\n",
              "\n",
              "          const docLinkHtml = 'Like what you see? Visit the ' +\n",
              "            '<a target=\"_blank\" href=https://colab.research.google.com/notebooks/data_table.ipynb>data table notebook</a>'\n",
              "            + ' to learn more about interactive tables.';\n",
              "          element.innerHTML = '';\n",
              "          dataTable['output_type'] = 'display_data';\n",
              "          await google.colab.output.renderOutput(dataTable, element);\n",
              "          const docLink = document.createElement('div');\n",
              "          docLink.innerHTML = docLinkHtml;\n",
              "          element.appendChild(docLink);\n",
              "        }\n",
              "      </script>\n",
              "    </div>\n",
              "  </div>\n",
              "  "
            ]
          },
          "metadata": {},
          "execution_count": 839
        }
      ]
    },
    {
      "cell_type": "markdown",
      "source": [
        "выводим уникальные значения столбца жанра, чтобы узнать, какие есть жанры"
      ],
      "metadata": {
        "id": "SCBjru_L9XKG"
      }
    },
    {
      "cell_type": "code",
      "source": [
        "columns['genre'].unique()"
      ],
      "metadata": {
        "colab": {
          "base_uri": "https://localhost:8080/"
        },
        "id": "jwa6ZJd09ePD",
        "outputId": "31b85790-a26a-45eb-808c-eed979d169f6"
      },
      "execution_count": 840,
      "outputs": [
        {
          "output_type": "execute_result",
          "data": {
            "text/plain": [
              "array(['Christian', 'Country', 'Hip-Hop', 'Pop', 'Rock', 'R&B'],\n",
              "      dtype=object)"
            ]
          },
          "metadata": {},
          "execution_count": 840
        }
      ]
    },
    {
      "cell_type": "markdown",
      "source": [
        "прочитаем сколько всего песен каждого жанра"
      ],
      "metadata": {
        "id": "gqt_g3As9p7N"
      }
    },
    {
      "cell_type": "code",
      "source": [
        "columns['genre'].value_counts()"
      ],
      "metadata": {
        "colab": {
          "base_uri": "https://localhost:8080/"
        },
        "id": "DiHCTJoH9sZT",
        "outputId": "3bfa3449-bb30-4ef5-eff0-47afe94e90f6"
      },
      "execution_count": 841,
      "outputs": [
        {
          "output_type": "execute_result",
          "data": {
            "text/plain": [
              "Pop          100\n",
              "Rock          95\n",
              "Christian     94\n",
              "Hip-Hop       91\n",
              "R&B           91\n",
              "Country       87\n",
              "Name: genre, dtype: int64"
            ]
          },
          "metadata": {},
          "execution_count": 841
        }
      ]
    },
    {
      "cell_type": "markdown",
      "source": [
        "рандомайзер определил мне жанры Pop и Country. оставляю только их"
      ],
      "metadata": {
        "id": "z5BNmRND9tqH"
      }
    },
    {
      "cell_type": "code",
      "source": [
        "columns = columns[(columns.genre == 'Christian') | (columns.genre == 'Rock')]"
      ],
      "metadata": {
        "id": "W45r_p-596OK"
      },
      "execution_count": 842,
      "outputs": []
    },
    {
      "cell_type": "markdown",
      "source": [
        "привожу все слова в текстах оставленных жанров к нижнему регистру"
      ],
      "metadata": {
        "id": "Cqj9r8-5-WXt"
      }
    },
    {
      "cell_type": "code",
      "source": [
        "lowered = columns['lyrics'].str.lower()\n",
        "columns['lowered'] = lowered"
      ],
      "metadata": {
        "colab": {
          "base_uri": "https://localhost:8080/"
        },
        "id": "5Ds-HeFz-aV5",
        "outputId": "369ff300-b79c-4478-e7a7-79458cbb40ef"
      },
      "execution_count": 843,
      "outputs": [
        {
          "output_type": "stream",
          "name": "stderr",
          "text": [
            "/usr/local/lib/python3.7/dist-packages/ipykernel_launcher.py:2: SettingWithCopyWarning: \n",
            "A value is trying to be set on a copy of a slice from a DataFrame.\n",
            "Try using .loc[row_indexer,col_indexer] = value instead\n",
            "\n",
            "See the caveats in the documentation: https://pandas.pydata.org/pandas-docs/stable/user_guide/indexing.html#returning-a-view-versus-a-copy\n",
            "  \n"
          ]
        }
      ]
    },
    {
      "cell_type": "markdown",
      "source": [
        "разбиваю тексты на отдельные слова - провожу токенизацию"
      ],
      "metadata": {
        "id": "7ijBqdIr-fMO"
      }
    },
    {
      "cell_type": "code",
      "source": [
        "import nltk\n",
        "from nltk.tokenize import word_tokenize\n",
        "nltk.download('punkt')"
      ],
      "metadata": {
        "colab": {
          "base_uri": "https://localhost:8080/"
        },
        "id": "VIwJjyIo-jns",
        "outputId": "61b4a077-cec2-42a1-8e85-bdc29b4dc269"
      },
      "execution_count": 844,
      "outputs": [
        {
          "output_type": "stream",
          "name": "stderr",
          "text": [
            "[nltk_data] Downloading package punkt to /root/nltk_data...\n",
            "[nltk_data]   Package punkt is already up-to-date!\n"
          ]
        },
        {
          "output_type": "execute_result",
          "data": {
            "text/plain": [
              "True"
            ]
          },
          "metadata": {},
          "execution_count": 844
        }
      ]
    },
    {
      "cell_type": "code",
      "source": [
        "tokened = columns.apply(lambda row: nltk.word_tokenize(row['lowered']), axis=1)\n",
        "columns['tokened'] = tokened"
      ],
      "metadata": {
        "colab": {
          "base_uri": "https://localhost:8080/"
        },
        "id": "21jIzVuE-lxn",
        "outputId": "82fa6b99-050f-4b64-992e-678431312a5a"
      },
      "execution_count": 845,
      "outputs": [
        {
          "output_type": "stream",
          "name": "stderr",
          "text": [
            "/usr/local/lib/python3.7/dist-packages/ipykernel_launcher.py:2: SettingWithCopyWarning: \n",
            "A value is trying to be set on a copy of a slice from a DataFrame.\n",
            "Try using .loc[row_indexer,col_indexer] = value instead\n",
            "\n",
            "See the caveats in the documentation: https://pandas.pydata.org/pandas-docs/stable/user_guide/indexing.html#returning-a-view-versus-a-copy\n",
            "  \n"
          ]
        }
      ]
    },
    {
      "cell_type": "markdown",
      "source": [
        "удаляю стоп-слова"
      ],
      "metadata": {
        "id": "ya_fyj4N-qxi"
      }
    },
    {
      "cell_type": "code",
      "source": [
        "nltk.download('stopwords')\n",
        "from nltk.corpus import stopwords\n",
        "noise = stopwords.words('english')\n",
        "\n",
        "withoutstop = columns['tokened'].apply(lambda x: [item for item in x if item not in noise])\n",
        "\n",
        "without_stop = []\n",
        "for a in withoutstop:    \n",
        "    without_stop.append(\", \".join(a))\n",
        "\n",
        "columns['without_stop'] = without_stop"
      ],
      "metadata": {
        "colab": {
          "base_uri": "https://localhost:8080/"
        },
        "id": "NsDNbqge-tGu",
        "outputId": "3f9de133-d8f4-4f4e-ccf6-c5db68bde213"
      },
      "execution_count": 846,
      "outputs": [
        {
          "output_type": "stream",
          "name": "stderr",
          "text": [
            "[nltk_data] Downloading package stopwords to /root/nltk_data...\n",
            "[nltk_data]   Package stopwords is already up-to-date!\n",
            "/usr/local/lib/python3.7/dist-packages/ipykernel_launcher.py:11: SettingWithCopyWarning: \n",
            "A value is trying to be set on a copy of a slice from a DataFrame.\n",
            "Try using .loc[row_indexer,col_indexer] = value instead\n",
            "\n",
            "See the caveats in the documentation: https://pandas.pydata.org/pandas-docs/stable/user_guide/indexing.html#returning-a-view-versus-a-copy\n",
            "  # This is added back by InteractiveShellApp.init_path()\n"
          ]
        }
      ]
    },
    {
      "cell_type": "markdown",
      "source": [
        "привожу все слова к исходной форме (лемматизация)"
      ],
      "metadata": {
        "id": "SF2Vmiy7_hzw"
      }
    },
    {
      "cell_type": "code",
      "source": [
        "from nltk.stem import WordNetLemmatizer \n",
        "nltk.download('wordnet')\n",
        "lemmatizer = WordNetLemmatizer()"
      ],
      "metadata": {
        "colab": {
          "base_uri": "https://localhost:8080/"
        },
        "id": "GaeAl8CF_mW9",
        "outputId": "2cf86090-7ed7-4f77-96ad-70a0e0111901"
      },
      "execution_count": 847,
      "outputs": [
        {
          "output_type": "stream",
          "name": "stderr",
          "text": [
            "[nltk_data] Downloading package wordnet to /root/nltk_data...\n",
            "[nltk_data]   Package wordnet is already up-to-date!\n"
          ]
        }
      ]
    },
    {
      "cell_type": "code",
      "source": [
        "lemmatized = columns['without_stop'].apply(lambda x: [lemmatizer.lemmatize(x)])"
      ],
      "metadata": {
        "id": "BvEwkRy2_3C6"
      },
      "execution_count": 848,
      "outputs": []
    },
    {
      "cell_type": "code",
      "source": [
        "lemma = []\n",
        "for a in lemmatized:    \n",
        "    lemma.append(\", \".join(a))"
      ],
      "metadata": {
        "id": "spcEbeZ8AseT"
      },
      "execution_count": 849,
      "outputs": []
    },
    {
      "cell_type": "code",
      "source": [
        "columns['lemmatized'] = lemma"
      ],
      "metadata": {
        "colab": {
          "base_uri": "https://localhost:8080/"
        },
        "id": "xOi7GlVwAtF5",
        "outputId": "94f5bce2-e3a3-4114-d791-6bef116bdae4"
      },
      "execution_count": 850,
      "outputs": [
        {
          "output_type": "stream",
          "name": "stderr",
          "text": [
            "/usr/local/lib/python3.7/dist-packages/ipykernel_launcher.py:1: SettingWithCopyWarning: \n",
            "A value is trying to be set on a copy of a slice from a DataFrame.\n",
            "Try using .loc[row_indexer,col_indexer] = value instead\n",
            "\n",
            "See the caveats in the documentation: https://pandas.pydata.org/pandas-docs/stable/user_guide/indexing.html#returning-a-view-versus-a-copy\n",
            "  \"\"\"Entry point for launching an IPython kernel.\n"
          ]
        }
      ]
    },
    {
      "cell_type": "markdown",
      "source": [
        "посмотрим на полученные даные:"
      ],
      "metadata": {
        "id": "t7BWj0x9Ayc3"
      }
    },
    {
      "cell_type": "code",
      "source": [
        "columns"
      ],
      "metadata": {
        "colab": {
          "base_uri": "https://localhost:8080/",
          "height": 1000
        },
        "id": "xzVAizZhAxYd",
        "outputId": "64373442-d813-4135-febd-1faeefb9257d"
      },
      "execution_count": 851,
      "outputs": [
        {
          "output_type": "execute_result",
          "data": {
            "text/plain": [
              "         genre                                             lyrics  \\\n",
              "0    Christian   Who am I, that the Lord of all the earth Woul...   \n",
              "1    Christian   Glory Revealed  By His Wounds He was pierced ...   \n",
              "2    Christian   Lord of heaven and earth Lord of all creation...   \n",
              "3    Christian   I can only imagine what it will be like When ...   \n",
              "4    Christian   I am not skilled to understand What God has w...   \n",
              "..         ...                                                ...   \n",
              "462       Rock   Cant explain all the feelings that youre maki...   \n",
              "463       Rock   One foot on the brake and one on the gas, hey...   \n",
              "464       Rock   Carry on my wayward son Therell be peace when...   \n",
              "465       Rock   Ooh yeah Turn it up Come on  Im working hard,...   \n",
              "466       Rock   Out on the road for forty days Last night in ...   \n",
              "\n",
              "                                               lowered  \\\n",
              "0     who am i, that the lord of all the earth woul...   \n",
              "1     glory revealed  by his wounds he was pierced ...   \n",
              "2     lord of heaven and earth lord of all creation...   \n",
              "3     i can only imagine what it will be like when ...   \n",
              "4     i am not skilled to understand what god has w...   \n",
              "..                                                 ...   \n",
              "462   cant explain all the feelings that youre maki...   \n",
              "463   one foot on the brake and one on the gas, hey...   \n",
              "464   carry on my wayward son therell be peace when...   \n",
              "465   ooh yeah turn it up come on  im working hard,...   \n",
              "466   out on the road for forty days last night in ...   \n",
              "\n",
              "                                               tokened  \\\n",
              "0    [who, am, i, ,, that, the, lord, of, all, the,...   \n",
              "1    [glory, revealed, by, his, wounds, he, was, pi...   \n",
              "2    [lord, of, heaven, and, earth, lord, of, all, ...   \n",
              "3    [i, can, only, imagine, what, it, will, be, li...   \n",
              "4    [i, am, not, skilled, to, understand, what, go...   \n",
              "..                                                 ...   \n",
              "462  [cant, explain, all, the, feelings, that, your...   \n",
              "463  [one, foot, on, the, brake, and, one, on, the,...   \n",
              "464  [carry, on, my, wayward, son, therell, be, pea...   \n",
              "465  [ooh, yeah, turn, it, up, come, on, im, workin...   \n",
              "466  [out, on, the, road, for, forty, days, last, n...   \n",
              "\n",
              "                                          without_stop  \\\n",
              "0    ,, lord, earth, would, care, know, name, would...   \n",
              "1    glory, revealed, wounds, pierced, transgressio...   \n",
              "2    lord, heaven, earth, lord, creation, lord, hea...   \n",
              "3    imagine, like, walk, side, imagine, eyes, see,...   \n",
              "4    skilled, understand, god, willed, ,, god, plan...   \n",
              "..                                                 ...   \n",
              "462  cant, explain, feelings, youre, making, feel, ...   \n",
              "463  one, foot, brake, one, gas, ,, hey, well, ,, t...   \n",
              "464  carry, wayward, son, therell, peace, done, lay...   \n",
              "465  ooh, yeah, turn, come, im, working, hard, ,, y...   \n",
              "466  road, forty, days, last, night, little, rock, ...   \n",
              "\n",
              "                                            lemmatized  \n",
              "0    ,, lord, earth, would, care, know, name, would...  \n",
              "1    glory, revealed, wounds, pierced, transgressio...  \n",
              "2    lord, heaven, earth, lord, creation, lord, hea...  \n",
              "3    imagine, like, walk, side, imagine, eyes, see,...  \n",
              "4    skilled, understand, god, willed, ,, god, plan...  \n",
              "..                                                 ...  \n",
              "462  cant, explain, feelings, youre, making, feel, ...  \n",
              "463  one, foot, brake, one, gas, ,, hey, well, ,, t...  \n",
              "464  carry, wayward, son, therell, peace, done, lay...  \n",
              "465  ooh, yeah, turn, come, im, working, hard, ,, y...  \n",
              "466  road, forty, days, last, night, little, rock, ...  \n",
              "\n",
              "[189 rows x 6 columns]"
            ],
            "text/html": [
              "\n",
              "  <div id=\"df-ecce94a3-4799-4f5f-8484-e3dd691bcf52\">\n",
              "    <div class=\"colab-df-container\">\n",
              "      <div>\n",
              "<style scoped>\n",
              "    .dataframe tbody tr th:only-of-type {\n",
              "        vertical-align: middle;\n",
              "    }\n",
              "\n",
              "    .dataframe tbody tr th {\n",
              "        vertical-align: top;\n",
              "    }\n",
              "\n",
              "    .dataframe thead th {\n",
              "        text-align: right;\n",
              "    }\n",
              "</style>\n",
              "<table border=\"1\" class=\"dataframe\">\n",
              "  <thead>\n",
              "    <tr style=\"text-align: right;\">\n",
              "      <th></th>\n",
              "      <th>genre</th>\n",
              "      <th>lyrics</th>\n",
              "      <th>lowered</th>\n",
              "      <th>tokened</th>\n",
              "      <th>without_stop</th>\n",
              "      <th>lemmatized</th>\n",
              "    </tr>\n",
              "  </thead>\n",
              "  <tbody>\n",
              "    <tr>\n",
              "      <th>0</th>\n",
              "      <td>Christian</td>\n",
              "      <td>Who am I, that the Lord of all the earth Woul...</td>\n",
              "      <td>who am i, that the lord of all the earth woul...</td>\n",
              "      <td>[who, am, i, ,, that, the, lord, of, all, the,...</td>\n",
              "      <td>,, lord, earth, would, care, know, name, would...</td>\n",
              "      <td>,, lord, earth, would, care, know, name, would...</td>\n",
              "    </tr>\n",
              "    <tr>\n",
              "      <th>1</th>\n",
              "      <td>Christian</td>\n",
              "      <td>Glory Revealed  By His Wounds He was pierced ...</td>\n",
              "      <td>glory revealed  by his wounds he was pierced ...</td>\n",
              "      <td>[glory, revealed, by, his, wounds, he, was, pi...</td>\n",
              "      <td>glory, revealed, wounds, pierced, transgressio...</td>\n",
              "      <td>glory, revealed, wounds, pierced, transgressio...</td>\n",
              "    </tr>\n",
              "    <tr>\n",
              "      <th>2</th>\n",
              "      <td>Christian</td>\n",
              "      <td>Lord of heaven and earth Lord of all creation...</td>\n",
              "      <td>lord of heaven and earth lord of all creation...</td>\n",
              "      <td>[lord, of, heaven, and, earth, lord, of, all, ...</td>\n",
              "      <td>lord, heaven, earth, lord, creation, lord, hea...</td>\n",
              "      <td>lord, heaven, earth, lord, creation, lord, hea...</td>\n",
              "    </tr>\n",
              "    <tr>\n",
              "      <th>3</th>\n",
              "      <td>Christian</td>\n",
              "      <td>I can only imagine what it will be like When ...</td>\n",
              "      <td>i can only imagine what it will be like when ...</td>\n",
              "      <td>[i, can, only, imagine, what, it, will, be, li...</td>\n",
              "      <td>imagine, like, walk, side, imagine, eyes, see,...</td>\n",
              "      <td>imagine, like, walk, side, imagine, eyes, see,...</td>\n",
              "    </tr>\n",
              "    <tr>\n",
              "      <th>4</th>\n",
              "      <td>Christian</td>\n",
              "      <td>I am not skilled to understand What God has w...</td>\n",
              "      <td>i am not skilled to understand what god has w...</td>\n",
              "      <td>[i, am, not, skilled, to, understand, what, go...</td>\n",
              "      <td>skilled, understand, god, willed, ,, god, plan...</td>\n",
              "      <td>skilled, understand, god, willed, ,, god, plan...</td>\n",
              "    </tr>\n",
              "    <tr>\n",
              "      <th>...</th>\n",
              "      <td>...</td>\n",
              "      <td>...</td>\n",
              "      <td>...</td>\n",
              "      <td>...</td>\n",
              "      <td>...</td>\n",
              "      <td>...</td>\n",
              "    </tr>\n",
              "    <tr>\n",
              "      <th>462</th>\n",
              "      <td>Rock</td>\n",
              "      <td>Cant explain all the feelings that youre maki...</td>\n",
              "      <td>cant explain all the feelings that youre maki...</td>\n",
              "      <td>[cant, explain, all, the, feelings, that, your...</td>\n",
              "      <td>cant, explain, feelings, youre, making, feel, ...</td>\n",
              "      <td>cant, explain, feelings, youre, making, feel, ...</td>\n",
              "    </tr>\n",
              "    <tr>\n",
              "      <th>463</th>\n",
              "      <td>Rock</td>\n",
              "      <td>One foot on the brake and one on the gas, hey...</td>\n",
              "      <td>one foot on the brake and one on the gas, hey...</td>\n",
              "      <td>[one, foot, on, the, brake, and, one, on, the,...</td>\n",
              "      <td>one, foot, brake, one, gas, ,, hey, well, ,, t...</td>\n",
              "      <td>one, foot, brake, one, gas, ,, hey, well, ,, t...</td>\n",
              "    </tr>\n",
              "    <tr>\n",
              "      <th>464</th>\n",
              "      <td>Rock</td>\n",
              "      <td>Carry on my wayward son Therell be peace when...</td>\n",
              "      <td>carry on my wayward son therell be peace when...</td>\n",
              "      <td>[carry, on, my, wayward, son, therell, be, pea...</td>\n",
              "      <td>carry, wayward, son, therell, peace, done, lay...</td>\n",
              "      <td>carry, wayward, son, therell, peace, done, lay...</td>\n",
              "    </tr>\n",
              "    <tr>\n",
              "      <th>465</th>\n",
              "      <td>Rock</td>\n",
              "      <td>Ooh yeah Turn it up Come on  Im working hard,...</td>\n",
              "      <td>ooh yeah turn it up come on  im working hard,...</td>\n",
              "      <td>[ooh, yeah, turn, it, up, come, on, im, workin...</td>\n",
              "      <td>ooh, yeah, turn, come, im, working, hard, ,, y...</td>\n",
              "      <td>ooh, yeah, turn, come, im, working, hard, ,, y...</td>\n",
              "    </tr>\n",
              "    <tr>\n",
              "      <th>466</th>\n",
              "      <td>Rock</td>\n",
              "      <td>Out on the road for forty days Last night in ...</td>\n",
              "      <td>out on the road for forty days last night in ...</td>\n",
              "      <td>[out, on, the, road, for, forty, days, last, n...</td>\n",
              "      <td>road, forty, days, last, night, little, rock, ...</td>\n",
              "      <td>road, forty, days, last, night, little, rock, ...</td>\n",
              "    </tr>\n",
              "  </tbody>\n",
              "</table>\n",
              "<p>189 rows × 6 columns</p>\n",
              "</div>\n",
              "      <button class=\"colab-df-convert\" onclick=\"convertToInteractive('df-ecce94a3-4799-4f5f-8484-e3dd691bcf52')\"\n",
              "              title=\"Convert this dataframe to an interactive table.\"\n",
              "              style=\"display:none;\">\n",
              "        \n",
              "  <svg xmlns=\"http://www.w3.org/2000/svg\" height=\"24px\"viewBox=\"0 0 24 24\"\n",
              "       width=\"24px\">\n",
              "    <path d=\"M0 0h24v24H0V0z\" fill=\"none\"/>\n",
              "    <path d=\"M18.56 5.44l.94 2.06.94-2.06 2.06-.94-2.06-.94-.94-2.06-.94 2.06-2.06.94zm-11 1L8.5 8.5l.94-2.06 2.06-.94-2.06-.94L8.5 2.5l-.94 2.06-2.06.94zm10 10l.94 2.06.94-2.06 2.06-.94-2.06-.94-.94-2.06-.94 2.06-2.06.94z\"/><path d=\"M17.41 7.96l-1.37-1.37c-.4-.4-.92-.59-1.43-.59-.52 0-1.04.2-1.43.59L10.3 9.45l-7.72 7.72c-.78.78-.78 2.05 0 2.83L4 21.41c.39.39.9.59 1.41.59.51 0 1.02-.2 1.41-.59l7.78-7.78 2.81-2.81c.8-.78.8-2.07 0-2.86zM5.41 20L4 18.59l7.72-7.72 1.47 1.35L5.41 20z\"/>\n",
              "  </svg>\n",
              "      </button>\n",
              "      \n",
              "  <style>\n",
              "    .colab-df-container {\n",
              "      display:flex;\n",
              "      flex-wrap:wrap;\n",
              "      gap: 12px;\n",
              "    }\n",
              "\n",
              "    .colab-df-convert {\n",
              "      background-color: #E8F0FE;\n",
              "      border: none;\n",
              "      border-radius: 50%;\n",
              "      cursor: pointer;\n",
              "      display: none;\n",
              "      fill: #1967D2;\n",
              "      height: 32px;\n",
              "      padding: 0 0 0 0;\n",
              "      width: 32px;\n",
              "    }\n",
              "\n",
              "    .colab-df-convert:hover {\n",
              "      background-color: #E2EBFA;\n",
              "      box-shadow: 0px 1px 2px rgba(60, 64, 67, 0.3), 0px 1px 3px 1px rgba(60, 64, 67, 0.15);\n",
              "      fill: #174EA6;\n",
              "    }\n",
              "\n",
              "    [theme=dark] .colab-df-convert {\n",
              "      background-color: #3B4455;\n",
              "      fill: #D2E3FC;\n",
              "    }\n",
              "\n",
              "    [theme=dark] .colab-df-convert:hover {\n",
              "      background-color: #434B5C;\n",
              "      box-shadow: 0px 1px 3px 1px rgba(0, 0, 0, 0.15);\n",
              "      filter: drop-shadow(0px 1px 2px rgba(0, 0, 0, 0.3));\n",
              "      fill: #FFFFFF;\n",
              "    }\n",
              "  </style>\n",
              "\n",
              "      <script>\n",
              "        const buttonEl =\n",
              "          document.querySelector('#df-ecce94a3-4799-4f5f-8484-e3dd691bcf52 button.colab-df-convert');\n",
              "        buttonEl.style.display =\n",
              "          google.colab.kernel.accessAllowed ? 'block' : 'none';\n",
              "\n",
              "        async function convertToInteractive(key) {\n",
              "          const element = document.querySelector('#df-ecce94a3-4799-4f5f-8484-e3dd691bcf52');\n",
              "          const dataTable =\n",
              "            await google.colab.kernel.invokeFunction('convertToInteractive',\n",
              "                                                     [key], {});\n",
              "          if (!dataTable) return;\n",
              "\n",
              "          const docLinkHtml = 'Like what you see? Visit the ' +\n",
              "            '<a target=\"_blank\" href=https://colab.research.google.com/notebooks/data_table.ipynb>data table notebook</a>'\n",
              "            + ' to learn more about interactive tables.';\n",
              "          element.innerHTML = '';\n",
              "          dataTable['output_type'] = 'display_data';\n",
              "          await google.colab.output.renderOutput(dataTable, element);\n",
              "          const docLink = document.createElement('div');\n",
              "          docLink.innerHTML = docLinkHtml;\n",
              "          element.appendChild(docLink);\n",
              "        }\n",
              "      </script>\n",
              "    </div>\n",
              "  </div>\n",
              "  "
            ]
          },
          "metadata": {},
          "execution_count": 851
        }
      ]
    },
    {
      "cell_type": "markdown",
      "source": [
        "разделяем данные на обучающую и тестовую выборки:"
      ],
      "metadata": {
        "id": "A9ed0OVAA8_o"
      }
    },
    {
      "cell_type": "code",
      "source": [
        "from sklearn.model_selection import train_test_split \n",
        "x_train, x_test, y_train, y_test = train_test_split(columns.lemmatized, columns.genre, train_size = 0.7)"
      ],
      "metadata": {
        "id": "5oo_WzdxBDgL"
      },
      "execution_count": 852,
      "outputs": []
    },
    {
      "cell_type": "code",
      "source": [
        "columns.genre.value_counts()"
      ],
      "metadata": {
        "colab": {
          "base_uri": "https://localhost:8080/"
        },
        "id": "B4lzblQQBGJm",
        "outputId": "7dca60f3-4a18-4976-a93a-4801275924bc"
      },
      "execution_count": 853,
      "outputs": [
        {
          "output_type": "execute_result",
          "data": {
            "text/plain": [
              "Rock         95\n",
              "Christian    94\n",
              "Name: genre, dtype: int64"
            ]
          },
          "metadata": {},
          "execution_count": 853
        }
      ]
    },
    {
      "cell_type": "markdown",
      "source": [
        "импортируем библиотеку для вектрозиации - представления текста в численном виде для использования данных на модели"
      ],
      "metadata": {
        "id": "yT2lviggBj0h"
      }
    },
    {
      "cell_type": "code",
      "source": [
        "from sklearn.feature_extraction.text import CountVectorizer"
      ],
      "metadata": {
        "id": "NzKLUjSYBt72"
      },
      "execution_count": 854,
      "outputs": []
    },
    {
      "cell_type": "markdown",
      "source": [
        "используем все варианты значения n - униграммы, биграммы и триграммы"
      ],
      "metadata": {
        "id": "HJDQaA9nBvkb"
      }
    },
    {
      "cell_type": "code",
      "source": [
        "vectorizer = CountVectorizer(ngram_range=(1, 3))\n",
        "vectorized_x_train = vectorizer.fit_transform(x_train)"
      ],
      "metadata": {
        "id": "oVPIivy2B2B9"
      },
      "execution_count": 855,
      "outputs": []
    },
    {
      "cell_type": "markdown",
      "source": [
        "для классификации используем Наивный Байесовскй Классификатор"
      ],
      "metadata": {
        "id": "1x9FVNRcCBQv"
      }
    },
    {
      "cell_type": "markdown",
      "source": [
        "импортируем классификатор"
      ],
      "metadata": {
        "id": "I0H5Pg_tCHWF"
      }
    },
    {
      "cell_type": "code",
      "source": [
        "from sklearn.naive_bayes import MultinomialNB "
      ],
      "metadata": {
        "id": "B8Hw8W5pCJsN"
      },
      "execution_count": 856,
      "outputs": []
    },
    {
      "cell_type": "code",
      "source": [
        "clf = MultinomialNB()\n",
        "clf.fit(vectorized_x_train, y_train)"
      ],
      "metadata": {
        "colab": {
          "base_uri": "https://localhost:8080/"
        },
        "id": "dZbOT8B6CLbe",
        "outputId": "eeea68b5-6437-44ce-9783-95a1c62e693f"
      },
      "execution_count": 857,
      "outputs": [
        {
          "output_type": "execute_result",
          "data": {
            "text/plain": [
              "MultinomialNB()"
            ]
          },
          "metadata": {},
          "execution_count": 857
        }
      ]
    },
    {
      "cell_type": "markdown",
      "source": [
        "векторизируем выборку"
      ],
      "metadata": {
        "id": "aYw10Vd3CM3U"
      }
    },
    {
      "cell_type": "code",
      "source": [
        "vectorized_x_test = vectorizer.transform(x_test)"
      ],
      "metadata": {
        "id": "Q734KBnKCPoU"
      },
      "execution_count": 858,
      "outputs": []
    },
    {
      "cell_type": "markdown",
      "source": [
        "посмотрим предсказания для выборки"
      ],
      "metadata": {
        "id": "N6_7LyLeCSSw"
      }
    },
    {
      "cell_type": "code",
      "source": [
        "clf.predict(vectorized_x_test)"
      ],
      "metadata": {
        "colab": {
          "base_uri": "https://localhost:8080/"
        },
        "id": "g98nCixrCWMe",
        "outputId": "2cf1d4ce-6293-485e-84f5-c2298ce6f39b"
      },
      "execution_count": 859,
      "outputs": [
        {
          "output_type": "execute_result",
          "data": {
            "text/plain": [
              "array(['Rock', 'Rock', 'Christian', 'Christian', 'Rock', 'Christian',\n",
              "       'Christian', 'Christian', 'Rock', 'Rock', 'Rock', 'Rock',\n",
              "       'Christian', 'Christian', 'Christian', 'Rock', 'Rock', 'Rock',\n",
              "       'Christian', 'Rock', 'Rock', 'Rock', 'Christian', 'Rock', 'Rock',\n",
              "       'Christian', 'Christian', 'Rock', 'Rock', 'Christian', 'Christian',\n",
              "       'Christian', 'Rock', 'Rock', 'Christian', 'Rock', 'Christian',\n",
              "       'Rock', 'Rock', 'Christian', 'Christian', 'Christian', 'Christian',\n",
              "       'Rock', 'Christian', 'Rock', 'Rock', 'Rock', 'Christian',\n",
              "       'Christian', 'Christian', 'Rock', 'Christian', 'Rock', 'Rock',\n",
              "       'Rock', 'Christian'], dtype='<U9')"
            ]
          },
          "metadata": {},
          "execution_count": 859
        }
      ]
    },
    {
      "cell_type": "markdown",
      "source": [
        "получаем оценку классификации"
      ],
      "metadata": {
        "id": "V5CEwQk4CYD5"
      }
    },
    {
      "cell_type": "code",
      "source": [
        "from sklearn.metrics import * \n",
        "pred = clf.predict(vectorized_x_test)\n",
        "print(classification_report(y_test, pred))"
      ],
      "metadata": {
        "colab": {
          "base_uri": "https://localhost:8080/"
        },
        "id": "a0sqzbSPCc_L",
        "outputId": "6130b1bd-5c45-44f7-de98-cd725f8b4fa0"
      },
      "execution_count": 860,
      "outputs": [
        {
          "output_type": "stream",
          "name": "stdout",
          "text": [
            "              precision    recall  f1-score   support\n",
            "\n",
            "   Christian       0.93      0.81      0.86        31\n",
            "        Rock       0.80      0.92      0.86        26\n",
            "\n",
            "    accuracy                           0.86        57\n",
            "   macro avg       0.86      0.86      0.86        57\n",
            "weighted avg       0.87      0.86      0.86        57\n",
            "\n"
          ]
        }
      ]
    },
    {
      "cell_type": "markdown",
      "source": [
        "показатель accuracy равен 0.93 ура победа"
      ],
      "metadata": {
        "id": "GaEhZLlQCk5U"
      }
    },
    {
      "cell_type": "markdown",
      "source": [
        "# **Задание 2**"
      ],
      "metadata": {
        "id": "iyx0bXZ1EjuG"
      }
    },
    {
      "cell_type": "markdown",
      "source": [
        "добавляем тексты песен"
      ],
      "metadata": {
        "id": "fCLo_QoULzp1"
      }
    },
    {
      "cell_type": "code",
      "source": [
        "song1_lyrics = '''Foo Fighters The Colour And The Shape Everlong Hello  Ive waited here for you  Everlong   Tonight   I throw myself into  and out of the red out of her head she sang   Come down and waste away with me  down with me  Slow out you wanted it to be  over my head, out of my head she sang  and I wonder  when I sing along with you  If everything could ever feel this real forever  If anything could ever be this good again  the only thing Ill ever ask of you  youve got to promise not to stop when I say when  she sang  Breathe out  so I can breathe you in  Hold you in   and now  I know youve always been  out of your head out of my head i sang   and I wonder  If everything could ever feel this real forever  If anything could ever be this good again  the only thing Ill ever ask of you  youve got to promise not to stop when I say when '''\n",
        "\n",
        "song2_lyrics = ''' Who taught the sun where to stand in the morning? And who told the ocean you can only come this far? And who showed the moon where to hide till evening? Whose words alone can catch a falling star? Well I know my Redeemer lives I know my Redeemer lives All of creation testifies this life within me cries  I know my Redeemer lives ye-e-eah The very same God that spins things in orbit runs to the weary, the worn and the weak and the same gentle hands that hold me when Im broken  they conquered death to bring me victory Now I know, my Redeemer lives I know my Redeemer lives let all creation testify Let this life within me cry I-I-I know My Redeemer  He lives to take away my shame and He lives forever Ill proclaim that the payment for my sin  was the precious life He gave and now Hes alive and theres an empty grave! And I know  my Redeemer lives He lives I know my Redeemer lives  let all creation testify Let this life within me cry I-I-I know my Redeemer I know my Redeemer lives I know my Redeemer lives I know, That I know, that I know, that i know, that I know He lives Because He lives I can face tomorrow  He lives I know, I know He lives I spoke with Him this morning! He lives The tomb is empty He lives Im going to tell everybody!'''\n",
        "\n",
        "song1_genre = \"Rock\"\n",
        "song2_genre = \"Cristian\""
      ],
      "metadata": {
        "id": "rs1or3y7L2BJ"
      },
      "execution_count": 861,
      "outputs": []
    },
    {
      "cell_type": "markdown",
      "source": [
        "создаем датасет из вышеуказанных элементов"
      ],
      "metadata": {
        "id": "vWCrYitSPe5A"
      }
    },
    {
      "cell_type": "code",
      "source": [
        "songs_dataset = pd.DataFrame(data = {\"genre\":[song2_genre,song1_genre],\"lyrics\":[song2_lyrics,song1_lyrics]})"
      ],
      "metadata": {
        "id": "OYvA-GSSPmhu"
      },
      "execution_count": 862,
      "outputs": []
    },
    {
      "cell_type": "markdown",
      "source": [
        "приводим к нижнему регистру"
      ],
      "metadata": {
        "id": "QU-roSACQFA2"
      }
    },
    {
      "cell_type": "code",
      "source": [
        "lowered = songs_dataset['lyrics'].str.lower()\n",
        "songs_dataset['lowered'] = lowered"
      ],
      "metadata": {
        "id": "gPx82n-BQL3o"
      },
      "execution_count": 863,
      "outputs": []
    },
    {
      "cell_type": "markdown",
      "source": [
        "разбиваем на отдельные слова:"
      ],
      "metadata": {
        "id": "xc_NTMeMQYGx"
      }
    },
    {
      "cell_type": "code",
      "source": [
        "tokened = songs_dataset.apply(lambda row: nltk.word_tokenize(row['lowered']), axis=1)\n",
        "songs_dataset['tokened'] = tokened"
      ],
      "metadata": {
        "id": "UG8nn8koQarm"
      },
      "execution_count": 864,
      "outputs": []
    },
    {
      "cell_type": "markdown",
      "source": [
        "удаляем стоп-слова:"
      ],
      "metadata": {
        "id": "JU8PMnpmQiGD"
      }
    },
    {
      "cell_type": "code",
      "source": [
        "withoutstop = songs_dataset['tokened'].apply(lambda x: [item for item in x if item not in noise])\n",
        "\n",
        "without_stop = []\n",
        "for a in withoutstop:    \n",
        "    without_stop.append(\", \".join(a))\n",
        "\n",
        "songs_dataset['without_stop'] = without_stop"
      ],
      "metadata": {
        "id": "wsurqjxcQktR"
      },
      "execution_count": 865,
      "outputs": []
    },
    {
      "cell_type": "markdown",
      "source": [
        "лемматизация"
      ],
      "metadata": {
        "id": "a8Ez7O5zQ6S7"
      }
    },
    {
      "cell_type": "code",
      "source": [
        "lemmatized = songs_dataset['without_stop'].apply(lambda x: [lemmatizer.lemmatize(x)])"
      ],
      "metadata": {
        "id": "oBB2jMkGQ8sM"
      },
      "execution_count": 866,
      "outputs": []
    },
    {
      "cell_type": "code",
      "source": [
        "lemma = []\n",
        "for a in lemmatized:    \n",
        "    lemma.append(\", \".join(a))"
      ],
      "metadata": {
        "id": "nV9u0LTvRB2j"
      },
      "execution_count": 867,
      "outputs": []
    },
    {
      "cell_type": "code",
      "source": [
        "songs_dataset['lemmatized'] = lemma"
      ],
      "metadata": {
        "id": "0DRAodBnRDIt"
      },
      "execution_count": 868,
      "outputs": []
    },
    {
      "cell_type": "code",
      "source": [
        "songs_dataset"
      ],
      "metadata": {
        "colab": {
          "base_uri": "https://localhost:8080/",
          "height": 260
        },
        "id": "pLnAeY4TRT1C",
        "outputId": "95855502-7547-426c-e522-2be1f58de04f"
      },
      "execution_count": 869,
      "outputs": [
        {
          "output_type": "execute_result",
          "data": {
            "text/plain": [
              "      genre                                             lyrics  \\\n",
              "0  Cristian   Who taught the sun where to stand in the morn...   \n",
              "1      Rock  Foo Fighters The Colour And The Shape Everlong...   \n",
              "\n",
              "                                             lowered  \\\n",
              "0   who taught the sun where to stand in the morn...   \n",
              "1  foo fighters the colour and the shape everlong...   \n",
              "\n",
              "                                             tokened  \\\n",
              "0  [who, taught, the, sun, where, to, stand, in, ...   \n",
              "1  [foo, fighters, the, colour, and, the, shape, ...   \n",
              "\n",
              "                                        without_stop  \\\n",
              "0  taught, sun, stand, morning, ?, told, ocean, c...   \n",
              "1  foo, fighters, colour, shape, everlong, hello,...   \n",
              "\n",
              "                                          lemmatized  \n",
              "0  taught, sun, stand, morning, ?, told, ocean, c...  \n",
              "1  foo, fighters, colour, shape, everlong, hello,...  "
            ],
            "text/html": [
              "\n",
              "  <div id=\"df-5a922a0e-b5e2-404d-898e-5f1b314f05fe\">\n",
              "    <div class=\"colab-df-container\">\n",
              "      <div>\n",
              "<style scoped>\n",
              "    .dataframe tbody tr th:only-of-type {\n",
              "        vertical-align: middle;\n",
              "    }\n",
              "\n",
              "    .dataframe tbody tr th {\n",
              "        vertical-align: top;\n",
              "    }\n",
              "\n",
              "    .dataframe thead th {\n",
              "        text-align: right;\n",
              "    }\n",
              "</style>\n",
              "<table border=\"1\" class=\"dataframe\">\n",
              "  <thead>\n",
              "    <tr style=\"text-align: right;\">\n",
              "      <th></th>\n",
              "      <th>genre</th>\n",
              "      <th>lyrics</th>\n",
              "      <th>lowered</th>\n",
              "      <th>tokened</th>\n",
              "      <th>without_stop</th>\n",
              "      <th>lemmatized</th>\n",
              "    </tr>\n",
              "  </thead>\n",
              "  <tbody>\n",
              "    <tr>\n",
              "      <th>0</th>\n",
              "      <td>Cristian</td>\n",
              "      <td>Who taught the sun where to stand in the morn...</td>\n",
              "      <td>who taught the sun where to stand in the morn...</td>\n",
              "      <td>[who, taught, the, sun, where, to, stand, in, ...</td>\n",
              "      <td>taught, sun, stand, morning, ?, told, ocean, c...</td>\n",
              "      <td>taught, sun, stand, morning, ?, told, ocean, c...</td>\n",
              "    </tr>\n",
              "    <tr>\n",
              "      <th>1</th>\n",
              "      <td>Rock</td>\n",
              "      <td>Foo Fighters The Colour And The Shape Everlong...</td>\n",
              "      <td>foo fighters the colour and the shape everlong...</td>\n",
              "      <td>[foo, fighters, the, colour, and, the, shape, ...</td>\n",
              "      <td>foo, fighters, colour, shape, everlong, hello,...</td>\n",
              "      <td>foo, fighters, colour, shape, everlong, hello,...</td>\n",
              "    </tr>\n",
              "  </tbody>\n",
              "</table>\n",
              "</div>\n",
              "      <button class=\"colab-df-convert\" onclick=\"convertToInteractive('df-5a922a0e-b5e2-404d-898e-5f1b314f05fe')\"\n",
              "              title=\"Convert this dataframe to an interactive table.\"\n",
              "              style=\"display:none;\">\n",
              "        \n",
              "  <svg xmlns=\"http://www.w3.org/2000/svg\" height=\"24px\"viewBox=\"0 0 24 24\"\n",
              "       width=\"24px\">\n",
              "    <path d=\"M0 0h24v24H0V0z\" fill=\"none\"/>\n",
              "    <path d=\"M18.56 5.44l.94 2.06.94-2.06 2.06-.94-2.06-.94-.94-2.06-.94 2.06-2.06.94zm-11 1L8.5 8.5l.94-2.06 2.06-.94-2.06-.94L8.5 2.5l-.94 2.06-2.06.94zm10 10l.94 2.06.94-2.06 2.06-.94-2.06-.94-.94-2.06-.94 2.06-2.06.94z\"/><path d=\"M17.41 7.96l-1.37-1.37c-.4-.4-.92-.59-1.43-.59-.52 0-1.04.2-1.43.59L10.3 9.45l-7.72 7.72c-.78.78-.78 2.05 0 2.83L4 21.41c.39.39.9.59 1.41.59.51 0 1.02-.2 1.41-.59l7.78-7.78 2.81-2.81c.8-.78.8-2.07 0-2.86zM5.41 20L4 18.59l7.72-7.72 1.47 1.35L5.41 20z\"/>\n",
              "  </svg>\n",
              "      </button>\n",
              "      \n",
              "  <style>\n",
              "    .colab-df-container {\n",
              "      display:flex;\n",
              "      flex-wrap:wrap;\n",
              "      gap: 12px;\n",
              "    }\n",
              "\n",
              "    .colab-df-convert {\n",
              "      background-color: #E8F0FE;\n",
              "      border: none;\n",
              "      border-radius: 50%;\n",
              "      cursor: pointer;\n",
              "      display: none;\n",
              "      fill: #1967D2;\n",
              "      height: 32px;\n",
              "      padding: 0 0 0 0;\n",
              "      width: 32px;\n",
              "    }\n",
              "\n",
              "    .colab-df-convert:hover {\n",
              "      background-color: #E2EBFA;\n",
              "      box-shadow: 0px 1px 2px rgba(60, 64, 67, 0.3), 0px 1px 3px 1px rgba(60, 64, 67, 0.15);\n",
              "      fill: #174EA6;\n",
              "    }\n",
              "\n",
              "    [theme=dark] .colab-df-convert {\n",
              "      background-color: #3B4455;\n",
              "      fill: #D2E3FC;\n",
              "    }\n",
              "\n",
              "    [theme=dark] .colab-df-convert:hover {\n",
              "      background-color: #434B5C;\n",
              "      box-shadow: 0px 1px 3px 1px rgba(0, 0, 0, 0.15);\n",
              "      filter: drop-shadow(0px 1px 2px rgba(0, 0, 0, 0.3));\n",
              "      fill: #FFFFFF;\n",
              "    }\n",
              "  </style>\n",
              "\n",
              "      <script>\n",
              "        const buttonEl =\n",
              "          document.querySelector('#df-5a922a0e-b5e2-404d-898e-5f1b314f05fe button.colab-df-convert');\n",
              "        buttonEl.style.display =\n",
              "          google.colab.kernel.accessAllowed ? 'block' : 'none';\n",
              "\n",
              "        async function convertToInteractive(key) {\n",
              "          const element = document.querySelector('#df-5a922a0e-b5e2-404d-898e-5f1b314f05fe');\n",
              "          const dataTable =\n",
              "            await google.colab.kernel.invokeFunction('convertToInteractive',\n",
              "                                                     [key], {});\n",
              "          if (!dataTable) return;\n",
              "\n",
              "          const docLinkHtml = 'Like what you see? Visit the ' +\n",
              "            '<a target=\"_blank\" href=https://colab.research.google.com/notebooks/data_table.ipynb>data table notebook</a>'\n",
              "            + ' to learn more about interactive tables.';\n",
              "          element.innerHTML = '';\n",
              "          dataTable['output_type'] = 'display_data';\n",
              "          await google.colab.output.renderOutput(dataTable, element);\n",
              "          const docLink = document.createElement('div');\n",
              "          docLink.innerHTML = docLinkHtml;\n",
              "          element.appendChild(docLink);\n",
              "        }\n",
              "      </script>\n",
              "    </div>\n",
              "  </div>\n",
              "  "
            ]
          },
          "metadata": {},
          "execution_count": 869
        }
      ]
    },
    {
      "cell_type": "markdown",
      "source": [
        "разделение на обучающую и тестовую выборки"
      ],
      "metadata": {
        "id": "uiLUfWILdGyc"
      }
    },
    {
      "cell_type": "code",
      "source": [
        "x_train, x_test, y_train, y_test = train_test_split(songs_dataset.lemmatized, songs_dataset.genre, train_size = 0.7)"
      ],
      "metadata": {
        "id": "SotEYDh4dMDa"
      },
      "execution_count": 870,
      "outputs": []
    },
    {
      "cell_type": "code",
      "source": [
        "songs_dataset.genre.value_counts()"
      ],
      "metadata": {
        "colab": {
          "base_uri": "https://localhost:8080/"
        },
        "id": "4SeahxqCl5O8",
        "outputId": "50ecae78-7214-4e32-d446-d2503284078a"
      },
      "execution_count": 877,
      "outputs": [
        {
          "output_type": "execute_result",
          "data": {
            "text/plain": [
              "Cristian    1\n",
              "Rock        1\n",
              "Name: genre, dtype: int64"
            ]
          },
          "metadata": {},
          "execution_count": 877
        }
      ]
    },
    {
      "cell_type": "markdown",
      "source": [
        "векторизация"
      ],
      "metadata": {
        "id": "s6_bhelPdcvc"
      }
    },
    {
      "cell_type": "code",
      "source": [
        "vectorizer = CountVectorizer(ngram_range=(1, 3))\n",
        "vectorized_x_train = vectorizer.fit_transform(x_train)"
      ],
      "metadata": {
        "id": "gdxg2l26dfYp"
      },
      "execution_count": 875,
      "outputs": []
    },
    {
      "cell_type": "markdown",
      "source": [
        "классификация"
      ],
      "metadata": {
        "id": "rZQkAAxudhPo"
      }
    },
    {
      "cell_type": "code",
      "source": [
        "clf = MultinomialNB()\n",
        "clf.fit(vectorized_x_train, y_train)\n",
        "\n",
        "vectorized_x_test = vectorizer.transform(x_test)"
      ],
      "metadata": {
        "id": "7n6iafWPdjX5"
      },
      "execution_count": 872,
      "outputs": []
    },
    {
      "cell_type": "code",
      "source": [
        "clf.predict(vectorized_x_test)"
      ],
      "metadata": {
        "colab": {
          "base_uri": "https://localhost:8080/"
        },
        "id": "kj0OwWzYlgvV",
        "outputId": "79752ca5-5883-4ff6-de96-0e73919fff71"
      },
      "execution_count": 873,
      "outputs": [
        {
          "output_type": "execute_result",
          "data": {
            "text/plain": [
              "array(['Cristian'], dtype='<U8')"
            ]
          },
          "metadata": {},
          "execution_count": 873
        }
      ]
    },
    {
      "cell_type": "markdown",
      "source": [
        "оценка классификации"
      ],
      "metadata": {
        "id": "KgMmGo-Idn3S"
      }
    },
    {
      "cell_type": "code",
      "source": [
        "pred = clf.predict(vectorized_x_test)\n",
        "print(classification_report(y_test, pred))"
      ],
      "metadata": {
        "colab": {
          "base_uri": "https://localhost:8080/"
        },
        "id": "08JLmyWGdq_w",
        "outputId": "0ec9ab41-02b6-491d-91a4-b6f7bad3d7e0"
      },
      "execution_count": 874,
      "outputs": [
        {
          "output_type": "stream",
          "name": "stdout",
          "text": [
            "              precision    recall  f1-score   support\n",
            "\n",
            "    Cristian       0.00      0.00      0.00       0.0\n",
            "        Rock       0.00      0.00      0.00       1.0\n",
            "\n",
            "    accuracy                           0.00       1.0\n",
            "   macro avg       0.00      0.00      0.00       1.0\n",
            "weighted avg       0.00      0.00      0.00       1.0\n",
            "\n"
          ]
        },
        {
          "output_type": "stream",
          "name": "stderr",
          "text": [
            "/usr/local/lib/python3.7/dist-packages/sklearn/metrics/_classification.py:1318: UndefinedMetricWarning: Precision and F-score are ill-defined and being set to 0.0 in labels with no predicted samples. Use `zero_division` parameter to control this behavior.\n",
            "  _warn_prf(average, modifier, msg_start, len(result))\n",
            "/usr/local/lib/python3.7/dist-packages/sklearn/metrics/_classification.py:1318: UndefinedMetricWarning: Recall and F-score are ill-defined and being set to 0.0 in labels with no true samples. Use `zero_division` parameter to control this behavior.\n",
            "  _warn_prf(average, modifier, msg_start, len(result))\n",
            "/usr/local/lib/python3.7/dist-packages/sklearn/metrics/_classification.py:1318: UndefinedMetricWarning: Precision and F-score are ill-defined and being set to 0.0 in labels with no predicted samples. Use `zero_division` parameter to control this behavior.\n",
            "  _warn_prf(average, modifier, msg_start, len(result))\n",
            "/usr/local/lib/python3.7/dist-packages/sklearn/metrics/_classification.py:1318: UndefinedMetricWarning: Recall and F-score are ill-defined and being set to 0.0 in labels with no true samples. Use `zero_division` parameter to control this behavior.\n",
            "  _warn_prf(average, modifier, msg_start, len(result))\n",
            "/usr/local/lib/python3.7/dist-packages/sklearn/metrics/_classification.py:1318: UndefinedMetricWarning: Precision and F-score are ill-defined and being set to 0.0 in labels with no predicted samples. Use `zero_division` parameter to control this behavior.\n",
            "  _warn_prf(average, modifier, msg_start, len(result))\n",
            "/usr/local/lib/python3.7/dist-packages/sklearn/metrics/_classification.py:1318: UndefinedMetricWarning: Recall and F-score are ill-defined and being set to 0.0 in labels with no true samples. Use `zero_division` parameter to control this behavior.\n",
            "  _warn_prf(average, modifier, msg_start, len(result))\n"
          ]
        }
      ]
    }
  ]
}