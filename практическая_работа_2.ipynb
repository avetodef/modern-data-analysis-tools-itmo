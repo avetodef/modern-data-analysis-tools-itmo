{
  "nbformat": 4,
  "nbformat_minor": 0,
  "metadata": {
    "colab": {
      "provenance": [],
      "include_colab_link": true
    },
    "kernelspec": {
      "name": "python3",
      "display_name": "Python 3"
    },
    "language_info": {
      "name": "python"
    }
  },
  "cells": [
    {
      "cell_type": "markdown",
      "metadata": {
        "id": "view-in-github",
        "colab_type": "text"
      },
      "source": [
        "<a href=\"https://colab.research.google.com/github/avetodef/modern-data-analysis-tools-itmo/blob/main/%D0%BF%D1%80%D0%B0%D0%BA%D1%82%D0%B8%D1%87%D0%B5%D1%81%D0%BA%D0%B0%D1%8F_%D1%80%D0%B0%D0%B1%D0%BE%D1%82%D0%B0_2.ipynb\" target=\"_parent\"><img src=\"https://colab.research.google.com/assets/colab-badge.svg\" alt=\"Open In Colab\"/></a>"
      ]
    },
    {
      "cell_type": "markdown",
      "source": [
        "\n",
        "> **Все задания выполняются только с использвоанием методов `pandas`.**\n",
        "\n",
        "\n"
      ],
      "metadata": {
        "id": "Ulwm6l54KCOL"
      }
    },
    {
      "cell_type": "markdown",
      "metadata": {
        "id": "LF8GjRbUNJXo"
      },
      "source": [
        "# Задание 0 (1 балл)"
      ]
    },
    {
      "cell_type": "markdown",
      "metadata": {
        "id": "JHNIGB9xJihd"
      },
      "source": [
        "Данные, которые нужно использовать для выполнения задания, возьмите [здесь](https://www.kaggle.com/parulpandey/palmer-archipelago-antarctica-penguin-data).\n",
        "\n",
        "Данные расположены в двух таблицах: **penguins_iter** и **penguins_size**. Для этой лабораторной работы вам понадобится только таблица **penguins_size**.\n",
        "\n",
        "**penguins_size** содержит следующую информацию:\n",
        "* `species`: вид, к которому относится пингвин\n",
        "* `culmen_length_mm`: длина клюва\n",
        "* `culmen_depth_mm`: глубина клюва\n",
        "* `flipper_length_mm`: длина ласт\n",
        "* `body_mass_g`: масса тела\n",
        "* `island`: название острова, на котором пингвин обитает\n",
        "* `sex`: пол пингвина\n",
        "\n"
      ]
    },
    {
      "cell_type": "markdown",
      "metadata": {
        "id": "mY64YTl_M8Ch"
      },
      "source": [
        "1. Загрузите файл с данными к себе на Гугл диск и подключите его в Google Colab через `mount.drive`.\n",
        "2. Выведите общую статистику по всем числовым и нечисловым столбцам с помощью метода `describe()`.\n",
        "3. Узнайте размеры датасета с помощью свойство `shape`.\n",
        "4. Выведите 4 первые строки датасета."
      ]
    },
    {
      "cell_type": "code",
      "metadata": {
        "id": "jGJgLRDXNGjN"
      },
      "source": [
        "# PUT YOUR CODE HERE"
      ],
      "execution_count": null,
      "outputs": []
    },
    {
      "cell_type": "markdown",
      "metadata": {
        "id": "5YqJrXCxIxuI"
      },
      "source": [
        "# Задание 1 (1 балл)"
      ]
    },
    {
      "cell_type": "markdown",
      "metadata": {
        "id": "fDuzlPwPOWzv"
      },
      "source": [
        "1. Узнайте, сколько видов пингвинов представлено в таблице.\n",
        "2. Посчитайте долю пингвинов каждого вида.\n",
        "3. Выведите количество пингвинов, обитающих на каждом из островов."
      ]
    },
    {
      "cell_type": "code",
      "metadata": {
        "id": "RqURVZSOIvfO"
      },
      "source": [
        "# PUT YOUR CODE HERE"
      ],
      "execution_count": null,
      "outputs": []
    },
    {
      "cell_type": "markdown",
      "metadata": {
        "id": "j1NfVIONI2dW"
      },
      "source": [
        "# Задание 2 (1 балл)"
      ]
    },
    {
      "cell_type": "markdown",
      "metadata": {
        "id": "fSXbSRCZOsgg"
      },
      "source": [
        "1. Найдите id пингвина с самым длинным клювом и с самым коротким. Выведите всю информацию о каждом из этих пингвинов в виде одной таблицы.\n",
        "2. Посчитайте, насколько самый длинный клюв длиннее самого короткого."
      ]
    },
    {
      "cell_type": "code",
      "metadata": {
        "id": "dch9AAIrI2dZ"
      },
      "source": [
        "# PUT YOUR CODE HERE"
      ],
      "execution_count": null,
      "outputs": []
    },
    {
      "cell_type": "markdown",
      "metadata": {
        "id": "gQd_Jgn2I2lL"
      },
      "source": [
        "# Задание 3 (1 балл)"
      ]
    },
    {
      "cell_type": "markdown",
      "metadata": {
        "id": "ymI_48D_PddK"
      },
      "source": [
        "1. Постройте корреляционную матрицу для значений столбцов `culmen_length_mm`, `culmen_depth_mm`, `flipper_length_mm`, `body_mass_g`. \n",
        "2. Результат покажите на тепловой карте (heatmap). Требуется построить график, а не раскрасить получившуюся в первом пункте таблицу."
      ]
    },
    {
      "cell_type": "code",
      "metadata": {
        "id": "NliQL8sUI2lO"
      },
      "source": [
        "# PUT YOUR CODE HERE"
      ],
      "execution_count": null,
      "outputs": []
    },
    {
      "cell_type": "markdown",
      "metadata": {
        "id": "iec_syqwI20p"
      },
      "source": [
        "# Задание 4 (2 балла)"
      ]
    },
    {
      "cell_type": "markdown",
      "metadata": {
        "id": "XixgeBv_QAGx"
      },
      "source": [
        "1. О пингвинах какого вида в таблице больше всего недостающих данных? (Строк с `NaN`)\n",
        "2. Какой информации о пингвинах чаще всего не хватает?"
      ]
    },
    {
      "cell_type": "code",
      "metadata": {
        "id": "YvjhDawkI20q"
      },
      "source": [
        "# PUT YOUR CODE HERE"
      ],
      "execution_count": null,
      "outputs": []
    },
    {
      "cell_type": "markdown",
      "metadata": {
        "id": "UG5AAwX7I3Eh"
      },
      "source": [
        "# Задание 5 (2 балла)"
      ]
    },
    {
      "cell_type": "markdown",
      "metadata": {
        "id": "lN06XT2gQv-L"
      },
      "source": [
        "1. По данным из таблицы узнайте, равномерно ли демографиески (процент мужских и женских особей) пингвины распределены по каждому из островов. Считаем, что равномерно, если разница составляет не более 3%.\n",
        "2. Результат покажите на столбиковой диаграмме."
      ]
    },
    {
      "cell_type": "code",
      "metadata": {
        "id": "XE0kXrP3I3Ei"
      },
      "source": [
        "# PUT YOUR CODE HERE"
      ],
      "execution_count": null,
      "outputs": []
    },
    {
      "cell_type": "markdown",
      "metadata": {
        "id": "j0J6p25sI3MU"
      },
      "source": [
        "# Задание 6 (2 балла)"
      ]
    },
    {
      "cell_type": "markdown",
      "metadata": {
        "id": "f4aax6eARC9D"
      },
      "source": [
        "1. Считая, что длина плавника пингвина составляет треть его роста, рассчитайте индекс массы тела каждого пингвина. Определите самый крупный вид.\n",
        "2. В каком количестве популяция этого вида представлена на каждом из островов? Результат покажите на круговой диаграмме."
      ]
    },
    {
      "cell_type": "code",
      "metadata": {
        "id": "de8g7fqQI3MV"
      },
      "source": [
        "# PUT YOUR CODE HERE"
      ],
      "execution_count": null,
      "outputs": []
    }
  ]
}